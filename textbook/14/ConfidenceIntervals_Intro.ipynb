{
 "cells": [
  {
   "cell_type": "code",
   "execution_count": 2,
   "id": "1983992f",
   "metadata": {
    "tags": [
     "remove-cell"
    ]
   },
   "outputs": [],
   "source": [
    "import numpy as np\n",
    "import pandas as pd\n",
    "\n",
    "%matplotlib inline\n",
    "import matplotlib.pyplot as plt\n",
    "plt.style.use('fivethirtyeight')"
   ]
  },
  {
   "cell_type": "markdown",
   "id": "e1631e04",
   "metadata": {},
   "source": [
    "# Estimation and Confidence Intervals\n",
    "\n",
    "In this chapter, we will investigate methods for learning about (also called **estimating**) a population characteristic (called **parameter**). The diagram below shows the assumptions we will build on:\n",
    "\n",
    "- We have a population of interest (for example, the annual salaries for all City of Chicago empolyees).\n",
    "- The interest is in a parameter (a numerical characteristic) of that population denoted by $\\theta$ (for example, median salary for all City of Chicago employees).\n",
    "- A sample of size $n$ is drawn from the population using a specified sampling scheme (for example, a simple random sample).\n",
    "- From the data in the sample, a statistic $\\hat\\theta$ is calculated (for example, the median of the salaries in the sample); this statistic is used as an estimate for the parameter of interest.\n",
    "\n",
    "<img align=\"center\" src=\"./sample.png\" width=\"500\"/>\n",
    "\n",
    "The data shown below was downloaded from the [City of Chicago](https://www.chicago.gov/city/en/depts/dhr/dataset/current_employeenamessalariesandpositiontitles.html) in June, 2023 and contains data for 24,365 employees. The file was processed to simplify our illustration here: some columns that are not needed were removed, and only rows having data on annual salaries were retained. Five random data points (rows in the data frame) are shown. "
   ]
  },
  {
   "cell_type": "code",
   "execution_count": 4,
   "id": "e9b8e771",
   "metadata": {
    "scrolled": true
   },
   "outputs": [
    {
     "data": {
      "text/plain": [
       "(24365, 3)"
      ]
     },
     "execution_count": 4,
     "metadata": {},
     "output_type": "execute_result"
    }
   ],
   "source": [
    "population_salary=pd.read_csv(\"../data/Salaries.csv\")\n",
    "population_salary.shape"
   ]
  },
  {
   "cell_type": "code",
   "execution_count": 3,
   "id": "2dd9414b",
   "metadata": {
    "scrolled": true
   },
   "outputs": [
    {
     "data": {
      "text/html": [
       "<div>\n",
       "<style scoped>\n",
       "    .dataframe tbody tr th:only-of-type {\n",
       "        vertical-align: middle;\n",
       "    }\n",
       "\n",
       "    .dataframe tbody tr th {\n",
       "        vertical-align: top;\n",
       "    }\n",
       "\n",
       "    .dataframe thead th {\n",
       "        text-align: right;\n",
       "    }\n",
       "</style>\n",
       "<table border=\"1\" class=\"dataframe\">\n",
       "  <thead>\n",
       "    <tr style=\"text-align: right;\">\n",
       "      <th></th>\n",
       "      <th>Job Titles</th>\n",
       "      <th>Department</th>\n",
       "      <th>Annual Salary</th>\n",
       "    </tr>\n",
       "  </thead>\n",
       "  <tbody>\n",
       "    <tr>\n",
       "      <th>14011</th>\n",
       "      <td>POLICE OFFICER</td>\n",
       "      <td>DEPARTMENT OF POLICE</td>\n",
       "      <td>101412.0</td>\n",
       "    </tr>\n",
       "    <tr>\n",
       "      <th>8572</th>\n",
       "      <td>POLICE OFFICER (ASSIGNED AS DETECTIVE)</td>\n",
       "      <td>DEPARTMENT OF POLICE</td>\n",
       "      <td>113568.0</td>\n",
       "    </tr>\n",
       "    <tr>\n",
       "      <th>9344</th>\n",
       "      <td>POLICE OFFICER</td>\n",
       "      <td>DEPARTMENT OF POLICE</td>\n",
       "      <td>111966.0</td>\n",
       "    </tr>\n",
       "    <tr>\n",
       "      <th>17537</th>\n",
       "      <td>VENTILATION AND FURNACE INSPECTOR</td>\n",
       "      <td>DEPT OF BUILDINGS</td>\n",
       "      <td>106704.0</td>\n",
       "    </tr>\n",
       "    <tr>\n",
       "      <th>23766</th>\n",
       "      <td>LIBRARY CLERK</td>\n",
       "      <td>CHICAGO PUBLIC LIBRARY</td>\n",
       "      <td>38868.0</td>\n",
       "    </tr>\n",
       "  </tbody>\n",
       "</table>\n",
       "</div>"
      ],
      "text/plain": [
       "                                   Job Titles              Department  \\\n",
       "14011                          POLICE OFFICER    DEPARTMENT OF POLICE   \n",
       "8572   POLICE OFFICER (ASSIGNED AS DETECTIVE)    DEPARTMENT OF POLICE   \n",
       "9344                           POLICE OFFICER    DEPARTMENT OF POLICE   \n",
       "17537       VENTILATION AND FURNACE INSPECTOR       DEPT OF BUILDINGS   \n",
       "23766                           LIBRARY CLERK  CHICAGO PUBLIC LIBRARY   \n",
       "\n",
       "       Annual Salary  \n",
       "14011       101412.0  \n",
       "8572        113568.0  \n",
       "9344        111966.0  \n",
       "17537       106704.0  \n",
       "23766        38868.0  "
      ]
     },
     "execution_count": 3,
     "metadata": {},
     "output_type": "execute_result"
    }
   ],
   "source": [
    "population_salary.sample(5,replace=False)"
   ]
  },
  {
   "cell_type": "markdown",
   "id": "65d3ec4f",
   "metadata": {},
   "source": [
    "The above data represents our population, and we assume we are interested in the median salary - this is the parameter of interest, and it is equal to $101,262 as shown by output of the cell code below:"
   ]
  },
  {
   "cell_type": "code",
   "execution_count": 4,
   "id": "950ff422",
   "metadata": {},
   "outputs": [
    {
     "data": {
      "text/plain": [
       "101262.0"
      ]
     },
     "execution_count": 4,
     "metadata": {},
     "output_type": "execute_result"
    }
   ],
   "source": [
    "theta=population_salary['Annual Salary'].median()\n",
    "theta"
   ]
  },
  {
   "cell_type": "markdown",
   "id": "be4491de",
   "metadata": {},
   "source": [
    "Suppose we would like to learn about this parameter not by collecting the data on the whole population, which can be expensive and/or impractical, but by obtaining a simple random sample of size, let's say, $n=100$. We simulate this process below twice."
   ]
  },
  {
   "cell_type": "code",
   "execution_count": 5,
   "id": "f95dc3cb",
   "metadata": {},
   "outputs": [
    {
     "data": {
      "text/plain": [
       "98904.0"
      ]
     },
     "execution_count": 5,
     "metadata": {},
     "output_type": "execute_result"
    }
   ],
   "source": [
    "np.random.seed(1234)\n",
    "\n",
    "# a simple random sample of 100 observations (rows)\n",
    "sample1_salary=population_salary.sample(100,replace=False)\n",
    "\n",
    "# the median salary in the sample\n",
    "theta_hat1=sample1_salary['Annual Salary'].median()\n",
    "theta_hat1"
   ]
  },
  {
   "cell_type": "markdown",
   "id": "3e596286",
   "metadata": {},
   "source": [
    "Recall that we introduced and discussed the role of `np.random.seed` in Section 10.3."
   ]
  },
  {
   "cell_type": "code",
   "execution_count": 6,
   "id": "ea150a87",
   "metadata": {},
   "outputs": [
    {
     "data": {
      "text/plain": [
       "100644.0"
      ]
     },
     "execution_count": 6,
     "metadata": {},
     "output_type": "execute_result"
    }
   ],
   "source": [
    "np.random.seed(4321)\n",
    "\n",
    "# a simple random sample of 100 observations (rows)\n",
    "sample2_salary=population_salary.sample(100,replace=False)\n",
    "\n",
    "# the median salary in the sample\n",
    "theta_hat2=sample2_salary['Annual Salary'].median()\n",
    "theta_hat2"
   ]
  },
  {
   "cell_type": "markdown",
   "id": "e88372cb",
   "metadata": {},
   "source": [
    "As you can see above, different samples will lead to different estimated values - some closer and some further away from the true value. To understand the properties of our estimate (its accuracy, for example), we need to understand its sampling distribution - see Chapter 12 for a more in-depth discussion of distributions. The picture below shows a schematic that provides intuition on the sampling distribution:\n",
    "\n",
    "<img align=\"center\" src=\"./sampling_dist.png\" width=\"500\"/>\n",
    "\n",
    "The sampling distribution can be approximated by calculating the statistic of interest in repeated samples drawn using the same sampling scheme and with the same sample size.\n",
    "\n",
    "Below, we construct an approximation for the sampling distribution of the sample median in simple random samples of size 100. We simulate 10,000 simple random samples and calculate their medians."
   ]
  },
  {
   "cell_type": "code",
   "execution_count": 7,
   "id": "f2975c45",
   "metadata": {},
   "outputs": [],
   "source": [
    "# the array where sample medians will be stored\n",
    "sampling_distribution=np.array([])\n",
    "\n",
    "# the number of samples we will generate\n",
    "n_sample=10000\n",
    "\n",
    "for i in range(n_sample):\n",
    "    sampling_distribution=np.append(sampling_distribution,\n",
    "                          population_salary.sample(100,replace=False)['Annual Salary'].median())"
   ]
  },
  {
   "cell_type": "code",
   "execution_count": 8,
   "id": "ea0673a9",
   "metadata": {
    "scrolled": true
   },
   "outputs": [
    {
     "data": {
      "image/png": "[encoded data removed]",
      "text/plain": [
       "<Figure size 432x288 with 1 Axes>"
      ]
     },
     "metadata": {},
     "output_type": "display_data"
    }
   ],
   "source": [
    "# histogram of the 10,000 sample medians\n",
    "# this is an approximation of the sampling distribution\n",
    "plt.hist(sampling_distribution,bins=np.arange(96000,108000,1000))\n",
    "plt.title('10,000 simulated samples')\n",
    "plt.xlabel(\"Sample medians\");"
   ]
  },
  {
   "cell_type": "markdown",
   "id": "8b5370c3",
   "metadata": {},
   "source": [
    "Note that properties of the estimator are reflected by its sampling distribution. From the above plot:\n",
    "-  The true value (\\$101,262) seems to be close to the center of the histogram;\n",
    "-  Most of the sample medians are within \\$3-4,000 of the population median.\n",
    "\n",
    "It is clear that if we report only the estimator, we provide incomplete information on the population parameter. The second bullet point above suggests that we can report a range of plausible values that has a good chance of  capturing the parameter. A plausible range of values for the population parameter is called a **confidence interval (CI)**."
   ]
  }
 ],
 "metadata": {
  "kernelspec": {
   "display_name": "Python 3",
   "language": "python",
   "name": "python3"
  },
  "language_info": {
   "codemirror_mode": {
    "name": "ipython",
    "version": 3
   },
   "file_extension": ".py",
   "mimetype": "text/x-python",
   "name": "python",
   "nbconvert_exporter": "python",
   "pygments_lexer": "ipython3",
   "version": "3.10.9"
  },
  "vscode": {
   "interpreter": {
    "hash": "aee8b7b246df8f9039afb4144a1f6fd8d2ca17a180786b69acc140d282b71a49"
   }
  }
 },
 "nbformat": 4,
 "nbformat_minor": 5
}
