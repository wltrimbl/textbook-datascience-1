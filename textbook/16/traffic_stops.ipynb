{
 "cells": [
  {
   "cell_type": "markdown",
   "metadata": {},
   "source": [
    "# Data Science Case Study: Traffic Stops\n",
    "\n",
    "*Amanda R. Kube Jotte*\n",
    "\n",
    "In the previous chapters, we have learned how to use, summarize, and manipulate data as well as how to test hypotheses using that data. We've also studied the importance of understanding your data before using it and making good ethical decisions throughout the data science pipeline. \n",
    "\n",
    "Data scientists use these skills to work in a wide variety of fields ranging from genetics to social services. In this chapter, we will work through a case study. This problem illustrates how what you have learned so far in this book can be used on a real-life dataset that has real societal implications. "
   ]
  }
 ],
 "metadata": {
  "kernelspec": {
   "display_name": "Python 3.9.13 64-bit",
   "language": "python",
   "name": "python3"
  },
  "language_info": {
   "name": "python",
   "version": "3.9.13"
  },
  "orig_nbformat": 4,
  "vscode": {
   "interpreter": {
    "hash": "aee8b7b246df8f9039afb4144a1f6fd8d2ca17a180786b69acc140d282b71a49"
   }
  }
 },
 "nbformat": 4,
 "nbformat_minor": 2
}
