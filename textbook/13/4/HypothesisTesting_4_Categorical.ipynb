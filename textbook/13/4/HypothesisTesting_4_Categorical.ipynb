{
 "cells": [
  {
   "cell_type": "code",
   "execution_count": 1,
   "id": "33a95e95",
   "metadata": {
    "tags": [
     "remove-cell"
    ]
   },
   "outputs": [],
   "source": [
    "import numpy as np\n",
    "import pandas as pd\n",
    "\n",
    "%matplotlib inline\n",
    "import matplotlib.pyplot as plt\n",
    "plt.style.use('fivethirtyeight')"
   ]
  },
  {
   "cell_type": "markdown",
   "id": "8f108e68",
   "metadata": {},
   "source": [
    "# Categorical data\n",
    "Categorical variables represent the type of data that are labeled and divided into groups. Examples include race, gender, college major, political preference, coin tossing outcome (heads or tails), etc. \n",
    "\n",
    "Testing for two-sample differences in categorical data can be done using the same procedures we introduced for numerical observations. The main difference is in the choice of test statistic and we illustrate it below with data from the [2022 General Social Survey](https://gss.norc.org/). "
   ]
  },
  {
   "cell_type": "code",
   "execution_count": 2,
   "id": "a1f549c6",
   "metadata": {
    "scrolled": false
   },
   "outputs": [
    {
     "data": {
      "text/html": [
       "<div>\n",
       "<style scoped>\n",
       "    .dataframe tbody tr th:only-of-type {\n",
       "        vertical-align: middle;\n",
       "    }\n",
       "\n",
       "    .dataframe tbody tr th {\n",
       "        vertical-align: top;\n",
       "    }\n",
       "\n",
       "    .dataframe thead th {\n",
       "        text-align: right;\n",
       "    }\n",
       "</style>\n",
       "<table border=\"1\" class=\"dataframe\">\n",
       "  <thead>\n",
       "    <tr style=\"text-align: right;\">\n",
       "      <th></th>\n",
       "      <th>Sex</th>\n",
       "      <th>Strong democrat</th>\n",
       "      <th>Not very strong democrat</th>\n",
       "      <th>Independent, close to democrat</th>\n",
       "      <th>Independent (neither, no response)</th>\n",
       "      <th>Independent, close to republican</th>\n",
       "      <th>Not very strong republican</th>\n",
       "      <th>Strong republican</th>\n",
       "      <th>Other party</th>\n",
       "    </tr>\n",
       "  </thead>\n",
       "  <tbody>\n",
       "    <tr>\n",
       "      <th>0</th>\n",
       "      <td>MALE</td>\n",
       "      <td>198</td>\n",
       "      <td>197</td>\n",
       "      <td>169</td>\n",
       "      <td>366</td>\n",
       "      <td>256</td>\n",
       "      <td>206</td>\n",
       "      <td>222</td>\n",
       "      <td>76</td>\n",
       "    </tr>\n",
       "    <tr>\n",
       "      <th>1</th>\n",
       "      <td>FEMALE</td>\n",
       "      <td>320</td>\n",
       "      <td>264</td>\n",
       "      <td>181</td>\n",
       "      <td>409</td>\n",
       "      <td>162</td>\n",
       "      <td>174</td>\n",
       "      <td>225</td>\n",
       "      <td>39</td>\n",
       "    </tr>\n",
       "  </tbody>\n",
       "</table>\n",
       "</div>"
      ],
      "text/plain": [
       "      Sex  Strong democrat  Not very strong democrat  \\\n",
       "0    MALE              198                       197   \n",
       "1  FEMALE              320                       264   \n",
       "\n",
       "   Independent, close to democrat  Independent (neither, no response)  \\\n",
       "0                             169                                 366   \n",
       "1                             181                                 409   \n",
       "\n",
       "   Independent, close to republican  Not very strong republican  \\\n",
       "0                               256                         206   \n",
       "1                               162                         174   \n",
       "\n",
       "   Strong republican  Other party  \n",
       "0                222           76  \n",
       "1                225           39  "
      ]
     },
     "execution_count": 2,
     "metadata": {},
     "output_type": "execute_result"
    }
   ],
   "source": [
    "gss=pd.read_csv(\"../../data/gss.csv\")\n",
    "gss"
   ]
  },
  {
   "cell_type": "markdown",
   "id": "12b2d939",
   "metadata": {},
   "source": [
    "The table above shows the number of subjects by gender and party identification (for example, there are 198 subjects who identify as \"Male\" and \"Strong democrat\". The goal of the analysis is to investigate if there are differences in party identification between males and females. As you can see below, there are 1690 males and 1774 females in this dataset."
   ]
  },
  {
   "cell_type": "code",
   "execution_count": 3,
   "id": "e5494b5f",
   "metadata": {
    "scrolled": true
   },
   "outputs": [
    {
     "data": {
      "text/plain": [
       "0    1690\n",
       "1    1774\n",
       "dtype: int64"
      ]
     },
     "execution_count": 3,
     "metadata": {},
     "output_type": "execute_result"
    }
   ],
   "source": [
    "gss.drop(columns=[\"Sex\"]).sum(axis=1)"
   ]
  },
  {
   "cell_type": "markdown",
   "id": "991c064b",
   "metadata": {},
   "source": [
    "To test if males and females have the same party identification distributions, we need to set up the components of a hypothesis test:\n",
    "\n",
    "- Null hypothesis, $H_0$ - the proportion of males and females in each party category in the US population are the same.\n",
    "- Alternative hypothesis, $H_A$ - there is at least one category for which the proportions are different.\n",
    "- Test statistic - because we are interested in finding differences in proportions, it is natural to consider functions of these differences, such as total variation distance introduced below.\n",
    "\n",
    "**Total variation distance (TVD)** is defined as the sum of absolute differences in proportions:\n",
    "\n",
    "$${\\rm TVD}=\\frac{1}{2} \\sum |p_i-q_i|$$\n",
    "\n",
    "In the above formula, $p_i$'s are proportions of subjects in various categories (e.g. party identification) in one sample (e.g., males) while $q_i$'s are proportions in the second sample (e.g., females). \n",
    "\n",
    "A function that calculates the total variation distance for two arrays of counts is implemented below. "
   ]
  },
  {
   "cell_type": "code",
   "execution_count": 10,
   "id": "9ca2c91b",
   "metadata": {},
   "outputs": [
    {
     "name": "stdout",
     "output_type": "stream",
     "text": [
      "0.11148542724295041\n"
     ]
    }
   ],
   "source": [
    "def tvd(array1,array2): \n",
    "    \"\"\" Total variation distance for proportions from two arrays of counts\"\"\"\n",
    "    return sum(abs(array1/sum(array1)-array2/sum(array2)))/2\n",
    "\n",
    "obs_TVD=tvd(gss.drop(columns=[\"Sex\"]).iloc[0].values,\n",
    "          gss.drop(columns=[\"Sex\"]).iloc[1].values)\n",
    "\n",
    "print(obs_TVD)"
   ]
  },
  {
   "cell_type": "markdown",
   "id": "972b4791",
   "metadata": {},
   "source": [
    "For our data, TVD between males and females is equal to 0.11. Next, we will determine if this value is consistent with our null hypothesis.\n",
    "\n",
    "Note that the data is in aggregated form. To implement the permutation procedure, we need to create first a dataframe that has 1690+1774=3464 rows, with each row corresponding to one participant in the study. The data frame will capture information on sex and party preference. A sample of 5 rows in the new data frame is displayed."
   ]
  },
  {
   "cell_type": "code",
   "execution_count": 5,
   "id": "c09ce87f",
   "metadata": {
    "scrolled": true
   },
   "outputs": [
    {
     "data": {
      "text/html": [
       "<div>\n",
       "<style scoped>\n",
       "    .dataframe tbody tr th:only-of-type {\n",
       "        vertical-align: middle;\n",
       "    }\n",
       "\n",
       "    .dataframe tbody tr th {\n",
       "        vertical-align: top;\n",
       "    }\n",
       "\n",
       "    .dataframe thead th {\n",
       "        text-align: right;\n",
       "    }\n",
       "</style>\n",
       "<table border=\"1\" class=\"dataframe\">\n",
       "  <thead>\n",
       "    <tr style=\"text-align: right;\">\n",
       "      <th></th>\n",
       "      <th>Sex</th>\n",
       "      <th>Party</th>\n",
       "    </tr>\n",
       "  </thead>\n",
       "  <tbody>\n",
       "    <tr>\n",
       "      <th>28</th>\n",
       "      <td>FEMALE</td>\n",
       "      <td>Strong democrat</td>\n",
       "    </tr>\n",
       "    <tr>\n",
       "      <th>108</th>\n",
       "      <td>MALE</td>\n",
       "      <td>Independent, close to democrat</td>\n",
       "    </tr>\n",
       "    <tr>\n",
       "      <th>140</th>\n",
       "      <td>MALE</td>\n",
       "      <td>Independent, close to republican</td>\n",
       "    </tr>\n",
       "    <tr>\n",
       "      <th>15</th>\n",
       "      <td>MALE</td>\n",
       "      <td>Other party</td>\n",
       "    </tr>\n",
       "    <tr>\n",
       "      <th>21</th>\n",
       "      <td>FEMALE</td>\n",
       "      <td>Strong democrat</td>\n",
       "    </tr>\n",
       "  </tbody>\n",
       "</table>\n",
       "</div>"
      ],
      "text/plain": [
       "        Sex                             Party\n",
       "28   FEMALE                   Strong democrat\n",
       "108    MALE    Independent, close to democrat\n",
       "140    MALE  Independent, close to republican\n",
       "15     MALE                       Other party\n",
       "21   FEMALE                   Strong democrat"
      ]
     },
     "execution_count": 5,
     "metadata": {},
     "output_type": "execute_result"
    }
   ],
   "source": [
    "# arrays of the categories in the two variables\n",
    "sex=gss.Sex.values\n",
    "party=gss.drop(columns=[\"Sex\"]).columns.values\n",
    "\n",
    "# start with an empty dataframe\n",
    "gss_full=pd.DataFrame()\n",
    "\n",
    "# for each count in the `gss` data frame, add a corresponding number of rows \n",
    "for i in sex:\n",
    "    for j in party:\n",
    "        nr_sub=gss[gss.Sex==i][[j]].values.item()\n",
    "        df=pd.DataFrame([list([i,j])],index=range(nr_sub),columns=list([\"Sex\",\"Party\"]))\n",
    "        gss_full=pd.concat([gss_full,df])\n",
    "\n",
    "gss_full.sample(5)"
   ]
  },
  {
   "cell_type": "markdown",
   "id": "9645b8e2",
   "metadata": {},
   "source": [
    "Note that we can calculate the number of subjects in each group using `groupby`, and from this summary we can calculate TVD."
   ]
  },
  {
   "cell_type": "code",
   "execution_count": 6,
   "id": "6f61e431",
   "metadata": {
    "scrolled": true
   },
   "outputs": [
    {
     "data": {
      "text/plain": [
       "Sex     Party                             \n",
       "FEMALE  Independent (neither, no response)    409\n",
       "        Independent, close to democrat        181\n",
       "        Independent, close to republican      162\n",
       "        Not very strong democrat              264\n",
       "        Not very strong republican            174\n",
       "        Other party                            39\n",
       "        Strong democrat                       320\n",
       "        Strong republican                     225\n",
       "MALE    Independent (neither, no response)    366\n",
       "        Independent, close to democrat        169\n",
       "        Independent, close to republican      256\n",
       "        Not very strong democrat              197\n",
       "        Not very strong republican            206\n",
       "        Other party                            76\n",
       "        Strong democrat                       198\n",
       "        Strong republican                     222\n",
       "dtype: int64"
      ]
     },
     "execution_count": 6,
     "metadata": {},
     "output_type": "execute_result"
    }
   ],
   "source": [
    "tmp=gss_full.groupby([\"Sex\",\"Party\"]).size()\n",
    "tmp"
   ]
  },
  {
   "cell_type": "code",
   "execution_count": 7,
   "id": "8e035b53",
   "metadata": {},
   "outputs": [
    {
     "data": {
      "text/plain": [
       "0.11148542724295042"
      ]
     },
     "execution_count": 7,
     "metadata": {},
     "output_type": "execute_result"
    }
   ],
   "source": [
    "tvd(tmp.values[0:8],tmp.values[8:16])"
   ]
  },
  {
   "cell_type": "markdown",
   "id": "bed7ed87",
   "metadata": {},
   "source": [
    "Above, we illustrated that our procedure for constructing  the sampling frame (the raw dataset) is correct - we obtained the same test statistic from the complete data table as the one we obtained from the summary data.\n",
    "\n",
    "We are ready now to simulate under the null hypothesis using permutations."
   ]
  },
  {
   "cell_type": "code",
   "execution_count": 8,
   "id": "c1b3458d",
   "metadata": {},
   "outputs": [],
   "source": [
    "# the array where simulated TVDs will be stored\n",
    "sim_tvd=np.array([])\n",
    "\n",
    "# the number of simulations \n",
    "nr_sim=1000\n",
    "\n",
    "for i in np.arange(nr_sim):\n",
    "    gss_full_copy=gss_full\n",
    "    gss_full_copy['Party']=np.random.permutation(gss_full_copy['Party'])\n",
    "    tmp=gss_full_copy.groupby([\"Sex\",\"Party\"]).size()\n",
    "    sim_tvd=np.append(sim_tvd,tvd(tmp.values[0:8],tmp.values[8:16]))"
   ]
  },
  {
   "cell_type": "markdown",
   "id": "5ea231fd",
   "metadata": {},
   "source": [
    "The simulation results are saved in an array, `sim_tvd`, of length 1000. We created 1000 shuffled datasets and for each we calculated the corresponding TVD value. The histogram below shows that there is strong evidence against the null hypothesis that men and women had the same distribution of political differences."
   ]
  },
  {
   "cell_type": "code",
   "execution_count": 9,
   "id": "e7adf670",
   "metadata": {},
   "outputs": [
    {
     "data": {
      "image/png": "[encoded data removed]",
      "text/plain": [
       "<Figure size 432x288 with 1 Axes>"
      ]
     },
     "metadata": {},
     "output_type": "display_data"
    }
   ],
   "source": [
    "plt.hist(sim_tvd)\n",
    "plt.scatter(obs_TVD, -2, color='red', s=30)\n",
    "plt.title('1000 simulated datasets')\n",
    "plt.xlabel(\"TVD\");"
   ]
  }
 ],
 "metadata": {
  "kernelspec": {
   "display_name": "Python 3",
   "language": "python",
   "name": "python3"
  },
  "language_info": {
   "codemirror_mode": {
    "name": "ipython",
    "version": 3
   },
   "file_extension": ".py",
   "mimetype": "text/x-python",
   "name": "python",
   "nbconvert_exporter": "python",
   "pygments_lexer": "ipython3",
   "version": "3.8.8"
  }
 },
 "nbformat": 4,
 "nbformat_minor": 5
}
