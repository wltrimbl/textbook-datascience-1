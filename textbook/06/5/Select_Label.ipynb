{
 "cells": [
  {
   "cell_type": "markdown",
   "id": "914e5b37-dba5-4c19-93e0-8e21d41c5547",
   "metadata": {},
   "source": [
    "# Selection by Label\n",
    "\n",
    "With `iloc`, we were able to select rows from our data [according to their numeric position](../4/Accessing_Rows.html#by-position) in the index.\n",
    "\n",
    "With `loc`, [we can also select rows](../4/Accessing_Rows.html#by-label) – *and* columns – by their index value or \"label\", selecting subsets of individuals and features, (and more!)."
   ]
  },
  {
   "cell_type": "code",
   "execution_count": 1,
   "id": "9665ac21-b519-4f22-98b9-57706b3f79e1",
   "metadata": {
    "tags": [
     "remove-cell"
    ]
   },
   "outputs": [],
   "source": [
    "# cell hidden by tag\n",
    "import pandas as pd\n",
    "\n",
    "planets_dict = {\n",
    "    'name': ['Mercury', 'Venus', 'Earth', 'Mars', 'Jupiter', 'Saturn', 'Uranus', 'Neptune'],\n",
    "    'solar_distance_km_6': [57.9, 108.2, 149.6, 227.9, 778.6, 1433.5, 2872.5, 4495.1],\n",
    "    'mass_kg_24': [0.33, 4.87, 5.97, 0.642, 1898.0, 568.0, 86.8, 102.0],\n",
    "    'density_kg_m3': [5427.0, 5243.0, 5514.0, 3933.0, 1326.0, 687.0, 1271.0, 1638.0],\n",
    "    'gravity_m_s2': [3.7, 8.9, 9.8, 3.7, 23.1, 9.0, 8.7, 11.0],\n",
    "}\n",
    "\n",
    "planets = pd.DataFrame(planets_dict)"
   ]
  },
  {
   "cell_type": "markdown",
   "id": "7cc93f71-262f-4ba8-9e95-d4bd31c61a3c",
   "metadata": {},
   "source": [
    "## Individuals\n",
    "\n",
    "Let's begin with the natural numeric index for our `DataFrame` – an integer range starting with `1` – and review some of what we've seen so far."
   ]
  },
  {
   "cell_type": "code",
   "execution_count": 2,
   "id": "0b30473c-43da-4879-8feb-4b7d33dac77c",
   "metadata": {},
   "outputs": [
    {
     "data": {
      "text/html": [
       "<div>\n",
       "<style scoped>\n",
       "    .dataframe tbody tr th:only-of-type {\n",
       "        vertical-align: middle;\n",
       "    }\n",
       "\n",
       "    .dataframe tbody tr th {\n",
       "        vertical-align: top;\n",
       "    }\n",
       "\n",
       "    .dataframe thead th {\n",
       "        text-align: right;\n",
       "    }\n",
       "</style>\n",
       "<table border=\"1\" class=\"dataframe\">\n",
       "  <thead>\n",
       "    <tr style=\"text-align: right;\">\n",
       "      <th></th>\n",
       "      <th>name</th>\n",
       "      <th>solar_distance_km_6</th>\n",
       "      <th>mass_kg_24</th>\n",
       "      <th>density_kg_m3</th>\n",
       "      <th>gravity_m_s2</th>\n",
       "    </tr>\n",
       "    <tr>\n",
       "      <th>number</th>\n",
       "      <th></th>\n",
       "      <th></th>\n",
       "      <th></th>\n",
       "      <th></th>\n",
       "      <th></th>\n",
       "    </tr>\n",
       "  </thead>\n",
       "  <tbody>\n",
       "    <tr>\n",
       "      <th>1</th>\n",
       "      <td>Mercury</td>\n",
       "      <td>57.9</td>\n",
       "      <td>0.330</td>\n",
       "      <td>5427.0</td>\n",
       "      <td>3.7</td>\n",
       "    </tr>\n",
       "    <tr>\n",
       "      <th>2</th>\n",
       "      <td>Venus</td>\n",
       "      <td>108.2</td>\n",
       "      <td>4.870</td>\n",
       "      <td>5243.0</td>\n",
       "      <td>8.9</td>\n",
       "    </tr>\n",
       "    <tr>\n",
       "      <th>3</th>\n",
       "      <td>Earth</td>\n",
       "      <td>149.6</td>\n",
       "      <td>5.970</td>\n",
       "      <td>5514.0</td>\n",
       "      <td>9.8</td>\n",
       "    </tr>\n",
       "    <tr>\n",
       "      <th>4</th>\n",
       "      <td>Mars</td>\n",
       "      <td>227.9</td>\n",
       "      <td>0.642</td>\n",
       "      <td>3933.0</td>\n",
       "      <td>3.7</td>\n",
       "    </tr>\n",
       "    <tr>\n",
       "      <th>5</th>\n",
       "      <td>Jupiter</td>\n",
       "      <td>778.6</td>\n",
       "      <td>1898.000</td>\n",
       "      <td>1326.0</td>\n",
       "      <td>23.1</td>\n",
       "    </tr>\n",
       "    <tr>\n",
       "      <th>6</th>\n",
       "      <td>Saturn</td>\n",
       "      <td>1433.5</td>\n",
       "      <td>568.000</td>\n",
       "      <td>687.0</td>\n",
       "      <td>9.0</td>\n",
       "    </tr>\n",
       "    <tr>\n",
       "      <th>7</th>\n",
       "      <td>Uranus</td>\n",
       "      <td>2872.5</td>\n",
       "      <td>86.800</td>\n",
       "      <td>1271.0</td>\n",
       "      <td>8.7</td>\n",
       "    </tr>\n",
       "    <tr>\n",
       "      <th>8</th>\n",
       "      <td>Neptune</td>\n",
       "      <td>4495.1</td>\n",
       "      <td>102.000</td>\n",
       "      <td>1638.0</td>\n",
       "      <td>11.0</td>\n",
       "    </tr>\n",
       "  </tbody>\n",
       "</table>\n",
       "</div>"
      ],
      "text/plain": [
       "           name  solar_distance_km_6  mass_kg_24  density_kg_m3  gravity_m_s2\n",
       "number                                                                       \n",
       "1       Mercury                 57.9       0.330         5427.0           3.7\n",
       "2         Venus                108.2       4.870         5243.0           8.9\n",
       "3         Earth                149.6       5.970         5514.0           9.8\n",
       "4          Mars                227.9       0.642         3933.0           3.7\n",
       "5       Jupiter                778.6    1898.000         1326.0          23.1\n",
       "6        Saturn               1433.5     568.000          687.0           9.0\n",
       "7        Uranus               2872.5      86.800         1271.0           8.7\n",
       "8       Neptune               4495.1     102.000         1638.0          11.0"
      ]
     },
     "execution_count": 2,
     "metadata": {},
     "output_type": "execute_result"
    }
   ],
   "source": [
    "planets_natural = planets.set_index(pd.RangeIndex(1, 9, name='number'))\n",
    "\n",
    "planets_natural"
   ]
  },
  {
   "cell_type": "markdown",
   "id": "0d597752-a854-49b3-8c97-a5ee931a5b6e",
   "metadata": {},
   "source": [
    "With `iloc`, we retrieve the third individual from this `DataFrame` by specifying the offset `2`."
   ]
  },
  {
   "cell_type": "code",
   "execution_count": 3,
   "id": "e1fd21f0-c414-4ebc-9b7b-42ff53dd798c",
   "metadata": {},
   "outputs": [
    {
     "data": {
      "text/plain": [
       "name                    Earth\n",
       "solar_distance_km_6     149.6\n",
       "mass_kg_24               5.97\n",
       "density_kg_m3          5514.0\n",
       "gravity_m_s2              9.8\n",
       "Name: 3, dtype: object"
      ]
     },
     "execution_count": 3,
     "metadata": {},
     "output_type": "execute_result"
    }
   ],
   "source": [
    "planets_natural.iloc[2]"
   ]
  },
  {
   "cell_type": "markdown",
   "id": "d7d2a2e1-1ae7-461b-aa86-eb10a5176e19",
   "metadata": {},
   "source": [
    "But with `loc`, we can retrieve this individual – Earth – by its index value or \"row label\" – now `3`."
   ]
  },
  {
   "cell_type": "code",
   "execution_count": 4,
   "id": "ce6f5c33-8aa1-4ae7-8156-d2e5faab6775",
   "metadata": {},
   "outputs": [
    {
     "data": {
      "text/plain": [
       "name                    Earth\n",
       "solar_distance_km_6     149.6\n",
       "mass_kg_24               5.97\n",
       "density_kg_m3          5514.0\n",
       "gravity_m_s2              9.8\n",
       "Name: 3, dtype: object"
      ]
     },
     "execution_count": 4,
     "metadata": {},
     "output_type": "execute_result"
    }
   ],
   "source": [
    "planets_natural.loc[3]"
   ]
  },
  {
   "cell_type": "markdown",
   "id": "3a18bc0f-f4d1-42fc-ac55-6a87ed015b69",
   "metadata": {},
   "source": [
    "While numeric indexes are often more practical, we can further distinguish these individuals' labels in the row index by using familiar strings instead."
   ]
  },
  {
   "cell_type": "code",
   "execution_count": 5,
   "id": "e38835a1-8391-499f-a5eb-7bdc7b6647c0",
   "metadata": {},
   "outputs": [
    {
     "data": {
      "text/html": [
       "<div>\n",
       "<style scoped>\n",
       "    .dataframe tbody tr th:only-of-type {\n",
       "        vertical-align: middle;\n",
       "    }\n",
       "\n",
       "    .dataframe tbody tr th {\n",
       "        vertical-align: top;\n",
       "    }\n",
       "\n",
       "    .dataframe thead th {\n",
       "        text-align: right;\n",
       "    }\n",
       "</style>\n",
       "<table border=\"1\" class=\"dataframe\">\n",
       "  <thead>\n",
       "    <tr style=\"text-align: right;\">\n",
       "      <th></th>\n",
       "      <th>name</th>\n",
       "      <th>solar_distance_km_6</th>\n",
       "      <th>mass_kg_24</th>\n",
       "      <th>density_kg_m3</th>\n",
       "      <th>gravity_m_s2</th>\n",
       "    </tr>\n",
       "    <tr>\n",
       "      <th>ordinal</th>\n",
       "      <th></th>\n",
       "      <th></th>\n",
       "      <th></th>\n",
       "      <th></th>\n",
       "      <th></th>\n",
       "    </tr>\n",
       "  </thead>\n",
       "  <tbody>\n",
       "    <tr>\n",
       "      <th>first</th>\n",
       "      <td>Mercury</td>\n",
       "      <td>57.9</td>\n",
       "      <td>0.330</td>\n",
       "      <td>5427.0</td>\n",
       "      <td>3.7</td>\n",
       "    </tr>\n",
       "    <tr>\n",
       "      <th>second</th>\n",
       "      <td>Venus</td>\n",
       "      <td>108.2</td>\n",
       "      <td>4.870</td>\n",
       "      <td>5243.0</td>\n",
       "      <td>8.9</td>\n",
       "    </tr>\n",
       "    <tr>\n",
       "      <th>third</th>\n",
       "      <td>Earth</td>\n",
       "      <td>149.6</td>\n",
       "      <td>5.970</td>\n",
       "      <td>5514.0</td>\n",
       "      <td>9.8</td>\n",
       "    </tr>\n",
       "    <tr>\n",
       "      <th>fourth</th>\n",
       "      <td>Mars</td>\n",
       "      <td>227.9</td>\n",
       "      <td>0.642</td>\n",
       "      <td>3933.0</td>\n",
       "      <td>3.7</td>\n",
       "    </tr>\n",
       "    <tr>\n",
       "      <th>fifth</th>\n",
       "      <td>Jupiter</td>\n",
       "      <td>778.6</td>\n",
       "      <td>1898.000</td>\n",
       "      <td>1326.0</td>\n",
       "      <td>23.1</td>\n",
       "    </tr>\n",
       "    <tr>\n",
       "      <th>sixth</th>\n",
       "      <td>Saturn</td>\n",
       "      <td>1433.5</td>\n",
       "      <td>568.000</td>\n",
       "      <td>687.0</td>\n",
       "      <td>9.0</td>\n",
       "    </tr>\n",
       "    <tr>\n",
       "      <th>seventh</th>\n",
       "      <td>Uranus</td>\n",
       "      <td>2872.5</td>\n",
       "      <td>86.800</td>\n",
       "      <td>1271.0</td>\n",
       "      <td>8.7</td>\n",
       "    </tr>\n",
       "    <tr>\n",
       "      <th>eighth</th>\n",
       "      <td>Neptune</td>\n",
       "      <td>4495.1</td>\n",
       "      <td>102.000</td>\n",
       "      <td>1638.0</td>\n",
       "      <td>11.0</td>\n",
       "    </tr>\n",
       "  </tbody>\n",
       "</table>\n",
       "</div>"
      ],
      "text/plain": [
       "            name  solar_distance_km_6  mass_kg_24  density_kg_m3  gravity_m_s2\n",
       "ordinal                                                                       \n",
       "first    Mercury                 57.9       0.330         5427.0           3.7\n",
       "second     Venus                108.2       4.870         5243.0           8.9\n",
       "third      Earth                149.6       5.970         5514.0           9.8\n",
       "fourth      Mars                227.9       0.642         3933.0           3.7\n",
       "fifth    Jupiter                778.6    1898.000         1326.0          23.1\n",
       "sixth     Saturn               1433.5     568.000          687.0           9.0\n",
       "seventh   Uranus               2872.5      86.800         1271.0           8.7\n",
       "eighth   Neptune               4495.1     102.000         1638.0          11.0"
      ]
     },
     "execution_count": 5,
     "metadata": {},
     "output_type": "execute_result"
    }
   ],
   "source": [
    "ordinals = ['first', 'second', 'third', 'fourth', 'fifth', 'sixth', 'seventh', 'eighth']\n",
    "\n",
    "planets_ordinal = planets.set_index(pd.Index(ordinals, name='ordinal'))\n",
    "\n",
    "planets_ordinal"
   ]
  },
  {
   "cell_type": "markdown",
   "id": "caf3e6cb-da1a-4172-88a9-de278fbb554e",
   "metadata": {},
   "source": [
    "Even better, let's use the planets `DataFrame` column `name`."
   ]
  },
  {
   "cell_type": "code",
   "execution_count": 6,
   "id": "0781f051-88d3-401e-829e-4ce8a23f7a48",
   "metadata": {},
   "outputs": [
    {
     "data": {
      "text/html": [
       "<div>\n",
       "<style scoped>\n",
       "    .dataframe tbody tr th:only-of-type {\n",
       "        vertical-align: middle;\n",
       "    }\n",
       "\n",
       "    .dataframe tbody tr th {\n",
       "        vertical-align: top;\n",
       "    }\n",
       "\n",
       "    .dataframe thead th {\n",
       "        text-align: right;\n",
       "    }\n",
       "</style>\n",
       "<table border=\"1\" class=\"dataframe\">\n",
       "  <thead>\n",
       "    <tr style=\"text-align: right;\">\n",
       "      <th></th>\n",
       "      <th>solar_distance_km_6</th>\n",
       "      <th>mass_kg_24</th>\n",
       "      <th>density_kg_m3</th>\n",
       "      <th>gravity_m_s2</th>\n",
       "    </tr>\n",
       "    <tr>\n",
       "      <th>name</th>\n",
       "      <th></th>\n",
       "      <th></th>\n",
       "      <th></th>\n",
       "      <th></th>\n",
       "    </tr>\n",
       "  </thead>\n",
       "  <tbody>\n",
       "    <tr>\n",
       "      <th>Mercury</th>\n",
       "      <td>57.9</td>\n",
       "      <td>0.330</td>\n",
       "      <td>5427.0</td>\n",
       "      <td>3.7</td>\n",
       "    </tr>\n",
       "    <tr>\n",
       "      <th>Venus</th>\n",
       "      <td>108.2</td>\n",
       "      <td>4.870</td>\n",
       "      <td>5243.0</td>\n",
       "      <td>8.9</td>\n",
       "    </tr>\n",
       "    <tr>\n",
       "      <th>Earth</th>\n",
       "      <td>149.6</td>\n",
       "      <td>5.970</td>\n",
       "      <td>5514.0</td>\n",
       "      <td>9.8</td>\n",
       "    </tr>\n",
       "    <tr>\n",
       "      <th>Mars</th>\n",
       "      <td>227.9</td>\n",
       "      <td>0.642</td>\n",
       "      <td>3933.0</td>\n",
       "      <td>3.7</td>\n",
       "    </tr>\n",
       "    <tr>\n",
       "      <th>Jupiter</th>\n",
       "      <td>778.6</td>\n",
       "      <td>1898.000</td>\n",
       "      <td>1326.0</td>\n",
       "      <td>23.1</td>\n",
       "    </tr>\n",
       "    <tr>\n",
       "      <th>Saturn</th>\n",
       "      <td>1433.5</td>\n",
       "      <td>568.000</td>\n",
       "      <td>687.0</td>\n",
       "      <td>9.0</td>\n",
       "    </tr>\n",
       "    <tr>\n",
       "      <th>Uranus</th>\n",
       "      <td>2872.5</td>\n",
       "      <td>86.800</td>\n",
       "      <td>1271.0</td>\n",
       "      <td>8.7</td>\n",
       "    </tr>\n",
       "    <tr>\n",
       "      <th>Neptune</th>\n",
       "      <td>4495.1</td>\n",
       "      <td>102.000</td>\n",
       "      <td>1638.0</td>\n",
       "      <td>11.0</td>\n",
       "    </tr>\n",
       "  </tbody>\n",
       "</table>\n",
       "</div>"
      ],
      "text/plain": [
       "         solar_distance_km_6  mass_kg_24  density_kg_m3  gravity_m_s2\n",
       "name                                                                 \n",
       "Mercury                 57.9       0.330         5427.0           3.7\n",
       "Venus                  108.2       4.870         5243.0           8.9\n",
       "Earth                  149.6       5.970         5514.0           9.8\n",
       "Mars                   227.9       0.642         3933.0           3.7\n",
       "Jupiter                778.6    1898.000         1326.0          23.1\n",
       "Saturn                1433.5     568.000          687.0           9.0\n",
       "Uranus                2872.5      86.800         1271.0           8.7\n",
       "Neptune               4495.1     102.000         1638.0          11.0"
      ]
     },
     "execution_count": 6,
     "metadata": {},
     "output_type": "execute_result"
    }
   ],
   "source": [
    "planets_named = planets.set_index('name')\n",
    "\n",
    "planets_named"
   ]
  },
  {
   "cell_type": "markdown",
   "id": "cf7e5995-3822-4072-b4f1-c34d938c5172",
   "metadata": {},
   "source": [
    "`loc` supports the same selection features as `iloc`, such as slicing, even as it considers labels rather than position in the index."
   ]
  },
  {
   "cell_type": "code",
   "execution_count": 7,
   "id": "62ac3a80-5af8-4131-9aa0-cf38bbf76d78",
   "metadata": {},
   "outputs": [
    {
     "data": {
      "text/html": [
       "<div>\n",
       "<style scoped>\n",
       "    .dataframe tbody tr th:only-of-type {\n",
       "        vertical-align: middle;\n",
       "    }\n",
       "\n",
       "    .dataframe tbody tr th {\n",
       "        vertical-align: top;\n",
       "    }\n",
       "\n",
       "    .dataframe thead th {\n",
       "        text-align: right;\n",
       "    }\n",
       "</style>\n",
       "<table border=\"1\" class=\"dataframe\">\n",
       "  <thead>\n",
       "    <tr style=\"text-align: right;\">\n",
       "      <th></th>\n",
       "      <th>solar_distance_km_6</th>\n",
       "      <th>mass_kg_24</th>\n",
       "      <th>density_kg_m3</th>\n",
       "      <th>gravity_m_s2</th>\n",
       "    </tr>\n",
       "    <tr>\n",
       "      <th>name</th>\n",
       "      <th></th>\n",
       "      <th></th>\n",
       "      <th></th>\n",
       "      <th></th>\n",
       "    </tr>\n",
       "  </thead>\n",
       "  <tbody>\n",
       "    <tr>\n",
       "      <th>Earth</th>\n",
       "      <td>149.6</td>\n",
       "      <td>5.970</td>\n",
       "      <td>5514.0</td>\n",
       "      <td>9.8</td>\n",
       "    </tr>\n",
       "    <tr>\n",
       "      <th>Mars</th>\n",
       "      <td>227.9</td>\n",
       "      <td>0.642</td>\n",
       "      <td>3933.0</td>\n",
       "      <td>3.7</td>\n",
       "    </tr>\n",
       "    <tr>\n",
       "      <th>Jupiter</th>\n",
       "      <td>778.6</td>\n",
       "      <td>1898.000</td>\n",
       "      <td>1326.0</td>\n",
       "      <td>23.1</td>\n",
       "    </tr>\n",
       "    <tr>\n",
       "      <th>Saturn</th>\n",
       "      <td>1433.5</td>\n",
       "      <td>568.000</td>\n",
       "      <td>687.0</td>\n",
       "      <td>9.0</td>\n",
       "    </tr>\n",
       "  </tbody>\n",
       "</table>\n",
       "</div>"
      ],
      "text/plain": [
       "         solar_distance_km_6  mass_kg_24  density_kg_m3  gravity_m_s2\n",
       "name                                                                 \n",
       "Earth                  149.6       5.970         5514.0           9.8\n",
       "Mars                   227.9       0.642         3933.0           3.7\n",
       "Jupiter                778.6    1898.000         1326.0          23.1\n",
       "Saturn                1433.5     568.000          687.0           9.0"
      ]
     },
     "execution_count": 7,
     "metadata": {},
     "output_type": "execute_result"
    }
   ],
   "source": [
    "middle_planets = planets_named.loc['Earth':'Saturn']\n",
    "\n",
    "middle_planets"
   ]
  },
  {
   "cell_type": "markdown",
   "id": "9ba74abb-7f1d-4788-a775-227a03691e9d",
   "metadata": {},
   "source": [
    ":::{admonition} Reminder\n",
    "\n",
    "In the above example, `loc` interpreted our slice differently than `iloc` – *both* the elements at the slice `start` and `stop` were included in the results.\n",
    "\n",
    "This is convenient, because labels aren't necessarily incremental; we may not have in mind the label *following* the last one we want. Nonetheless, this is an inconsistency.\n",
    ":::\n",
    "\n",
    "That said, `loc` resolves the inconsistency of the reference used in selecting out individuals from slices of the original `DataFrame`.\n",
    "\n",
    "Using `iloc` we must refer to Earth as the \"zeroeth\" (zero-offset or \"first\") in the above data subset named `middle_planets`…"
   ]
  },
  {
   "cell_type": "code",
   "execution_count": 8,
   "id": "ea3ff803-fc82-442e-9822-a0d09ce5dd7f",
   "metadata": {},
   "outputs": [
    {
     "data": {
      "text/plain": [
       "solar_distance_km_6     149.60\n",
       "mass_kg_24                5.97\n",
       "density_kg_m3          5514.00\n",
       "gravity_m_s2              9.80\n",
       "Name: Earth, dtype: float64"
      ]
     },
     "execution_count": 8,
     "metadata": {},
     "output_type": "execute_result"
    }
   ],
   "source": [
    "middle_planets.iloc[0]"
   ]
  },
  {
   "cell_type": "markdown",
   "id": "97fa40c2-2747-44a1-b095-3d1a00fdc5b4",
   "metadata": {},
   "source": [
    "…but using `loc`, we may continue to refer to Earth by its proper label."
   ]
  },
  {
   "cell_type": "code",
   "execution_count": 9,
   "id": "f33e5339-54ce-4d0e-b89f-baae11a383fd",
   "metadata": {},
   "outputs": [
    {
     "data": {
      "text/plain": [
       "solar_distance_km_6     149.60\n",
       "mass_kg_24                5.97\n",
       "density_kg_m3          5514.00\n",
       "gravity_m_s2              9.80\n",
       "Name: Earth, dtype: float64"
      ]
     },
     "execution_count": 9,
     "metadata": {},
     "output_type": "execute_result"
    }
   ],
   "source": [
    "middle_planets.loc['Earth']"
   ]
  },
  {
   "cell_type": "markdown",
   "id": "81749c99-8ada-432a-b680-e7e317d2680b",
   "metadata": {},
   "source": [
    "## Features\n",
    "\n",
    "In addition to selecting out individuals by row label, `loc` also allows us to select features by column label.\n",
    "\n",
    "We [first saw this](../2/Accessing_Columns.html#feature-selection) in operating _directly_ on the `DataFrame`."
   ]
  },
  {
   "cell_type": "code",
   "execution_count": 10,
   "id": "927b62a9-2e73-4d87-b72e-1f56aa975213",
   "metadata": {},
   "outputs": [
    {
     "data": {
      "text/html": [
       "<div>\n",
       "<style scoped>\n",
       "    .dataframe tbody tr th:only-of-type {\n",
       "        vertical-align: middle;\n",
       "    }\n",
       "\n",
       "    .dataframe tbody tr th {\n",
       "        vertical-align: top;\n",
       "    }\n",
       "\n",
       "    .dataframe thead th {\n",
       "        text-align: right;\n",
       "    }\n",
       "</style>\n",
       "<table border=\"1\" class=\"dataframe\">\n",
       "  <thead>\n",
       "    <tr style=\"text-align: right;\">\n",
       "      <th></th>\n",
       "      <th>solar_distance_km_6</th>\n",
       "      <th>mass_kg_24</th>\n",
       "    </tr>\n",
       "    <tr>\n",
       "      <th>name</th>\n",
       "      <th></th>\n",
       "      <th></th>\n",
       "    </tr>\n",
       "  </thead>\n",
       "  <tbody>\n",
       "    <tr>\n",
       "      <th>Mercury</th>\n",
       "      <td>57.9</td>\n",
       "      <td>0.330</td>\n",
       "    </tr>\n",
       "    <tr>\n",
       "      <th>Venus</th>\n",
       "      <td>108.2</td>\n",
       "      <td>4.870</td>\n",
       "    </tr>\n",
       "    <tr>\n",
       "      <th>Earth</th>\n",
       "      <td>149.6</td>\n",
       "      <td>5.970</td>\n",
       "    </tr>\n",
       "    <tr>\n",
       "      <th>Mars</th>\n",
       "      <td>227.9</td>\n",
       "      <td>0.642</td>\n",
       "    </tr>\n",
       "    <tr>\n",
       "      <th>Jupiter</th>\n",
       "      <td>778.6</td>\n",
       "      <td>1898.000</td>\n",
       "    </tr>\n",
       "    <tr>\n",
       "      <th>Saturn</th>\n",
       "      <td>1433.5</td>\n",
       "      <td>568.000</td>\n",
       "    </tr>\n",
       "    <tr>\n",
       "      <th>Uranus</th>\n",
       "      <td>2872.5</td>\n",
       "      <td>86.800</td>\n",
       "    </tr>\n",
       "    <tr>\n",
       "      <th>Neptune</th>\n",
       "      <td>4495.1</td>\n",
       "      <td>102.000</td>\n",
       "    </tr>\n",
       "  </tbody>\n",
       "</table>\n",
       "</div>"
      ],
      "text/plain": [
       "         solar_distance_km_6  mass_kg_24\n",
       "name                                    \n",
       "Mercury                 57.9       0.330\n",
       "Venus                  108.2       4.870\n",
       "Earth                  149.6       5.970\n",
       "Mars                   227.9       0.642\n",
       "Jupiter                778.6    1898.000\n",
       "Saturn                1433.5     568.000\n",
       "Uranus                2872.5      86.800\n",
       "Neptune               4495.1     102.000"
      ]
     },
     "execution_count": 10,
     "metadata": {},
     "output_type": "execute_result"
    }
   ],
   "source": [
    "planets_named[['solar_distance_km_6', 'mass_kg_24']]"
   ]
  },
  {
   "cell_type": "markdown",
   "id": "49c498ef-5cb6-404d-9c36-5e6da2bd3b90",
   "metadata": {},
   "source": [
    "Above, we've constructed a new `DataFrame` of our data, consisting of only its index and the features `solar_distance_km_6` and `mass_kg_24`.\n",
    "\n",
    "In fact, this is column selection through `loc`, but with the default that all rows are also returned.\n",
    "\n",
    "Previously we've passed only one argument to `loc` – the label or slice of labels of rows to select. Of course, we could have passed the empty slice, to return all rows."
   ]
  },
  {
   "cell_type": "code",
   "execution_count": 11,
   "id": "26ecf9a7-315c-4c0d-acda-4931eb8ee248",
   "metadata": {},
   "outputs": [
    {
     "data": {
      "text/html": [
       "<div>\n",
       "<style scoped>\n",
       "    .dataframe tbody tr th:only-of-type {\n",
       "        vertical-align: middle;\n",
       "    }\n",
       "\n",
       "    .dataframe tbody tr th {\n",
       "        vertical-align: top;\n",
       "    }\n",
       "\n",
       "    .dataframe thead th {\n",
       "        text-align: right;\n",
       "    }\n",
       "</style>\n",
       "<table border=\"1\" class=\"dataframe\">\n",
       "  <thead>\n",
       "    <tr style=\"text-align: right;\">\n",
       "      <th></th>\n",
       "      <th>solar_distance_km_6</th>\n",
       "      <th>mass_kg_24</th>\n",
       "      <th>density_kg_m3</th>\n",
       "      <th>gravity_m_s2</th>\n",
       "    </tr>\n",
       "    <tr>\n",
       "      <th>name</th>\n",
       "      <th></th>\n",
       "      <th></th>\n",
       "      <th></th>\n",
       "      <th></th>\n",
       "    </tr>\n",
       "  </thead>\n",
       "  <tbody>\n",
       "    <tr>\n",
       "      <th>Mercury</th>\n",
       "      <td>57.9</td>\n",
       "      <td>0.330</td>\n",
       "      <td>5427.0</td>\n",
       "      <td>3.7</td>\n",
       "    </tr>\n",
       "    <tr>\n",
       "      <th>Venus</th>\n",
       "      <td>108.2</td>\n",
       "      <td>4.870</td>\n",
       "      <td>5243.0</td>\n",
       "      <td>8.9</td>\n",
       "    </tr>\n",
       "    <tr>\n",
       "      <th>Earth</th>\n",
       "      <td>149.6</td>\n",
       "      <td>5.970</td>\n",
       "      <td>5514.0</td>\n",
       "      <td>9.8</td>\n",
       "    </tr>\n",
       "    <tr>\n",
       "      <th>Mars</th>\n",
       "      <td>227.9</td>\n",
       "      <td>0.642</td>\n",
       "      <td>3933.0</td>\n",
       "      <td>3.7</td>\n",
       "    </tr>\n",
       "    <tr>\n",
       "      <th>Jupiter</th>\n",
       "      <td>778.6</td>\n",
       "      <td>1898.000</td>\n",
       "      <td>1326.0</td>\n",
       "      <td>23.1</td>\n",
       "    </tr>\n",
       "    <tr>\n",
       "      <th>Saturn</th>\n",
       "      <td>1433.5</td>\n",
       "      <td>568.000</td>\n",
       "      <td>687.0</td>\n",
       "      <td>9.0</td>\n",
       "    </tr>\n",
       "    <tr>\n",
       "      <th>Uranus</th>\n",
       "      <td>2872.5</td>\n",
       "      <td>86.800</td>\n",
       "      <td>1271.0</td>\n",
       "      <td>8.7</td>\n",
       "    </tr>\n",
       "    <tr>\n",
       "      <th>Neptune</th>\n",
       "      <td>4495.1</td>\n",
       "      <td>102.000</td>\n",
       "      <td>1638.0</td>\n",
       "      <td>11.0</td>\n",
       "    </tr>\n",
       "  </tbody>\n",
       "</table>\n",
       "</div>"
      ],
      "text/plain": [
       "         solar_distance_km_6  mass_kg_24  density_kg_m3  gravity_m_s2\n",
       "name                                                                 \n",
       "Mercury                 57.9       0.330         5427.0           3.7\n",
       "Venus                  108.2       4.870         5243.0           8.9\n",
       "Earth                  149.6       5.970         5514.0           9.8\n",
       "Mars                   227.9       0.642         3933.0           3.7\n",
       "Jupiter                778.6    1898.000         1326.0          23.1\n",
       "Saturn                1433.5     568.000          687.0           9.0\n",
       "Uranus                2872.5      86.800         1271.0           8.7\n",
       "Neptune               4495.1     102.000         1638.0          11.0"
      ]
     },
     "execution_count": 11,
     "metadata": {},
     "output_type": "execute_result"
    }
   ],
   "source": [
    "planets_named.loc[:]"
   ]
  },
  {
   "cell_type": "markdown",
   "id": "d80b004d-d2be-44ae-8f3f-e04b5537c97d",
   "metadata": {},
   "source": [
    "Why would we ever pass the empty slice? For one, this permits us to pass a second argument to `loc`, and reproduce the above feature selection."
   ]
  },
  {
   "cell_type": "code",
   "execution_count": 12,
   "id": "e7647bd6-0ba2-4d38-b28e-dd4cbb1b712c",
   "metadata": {},
   "outputs": [
    {
     "data": {
      "text/html": [
       "<div>\n",
       "<style scoped>\n",
       "    .dataframe tbody tr th:only-of-type {\n",
       "        vertical-align: middle;\n",
       "    }\n",
       "\n",
       "    .dataframe tbody tr th {\n",
       "        vertical-align: top;\n",
       "    }\n",
       "\n",
       "    .dataframe thead th {\n",
       "        text-align: right;\n",
       "    }\n",
       "</style>\n",
       "<table border=\"1\" class=\"dataframe\">\n",
       "  <thead>\n",
       "    <tr style=\"text-align: right;\">\n",
       "      <th></th>\n",
       "      <th>solar_distance_km_6</th>\n",
       "      <th>mass_kg_24</th>\n",
       "    </tr>\n",
       "    <tr>\n",
       "      <th>name</th>\n",
       "      <th></th>\n",
       "      <th></th>\n",
       "    </tr>\n",
       "  </thead>\n",
       "  <tbody>\n",
       "    <tr>\n",
       "      <th>Mercury</th>\n",
       "      <td>57.9</td>\n",
       "      <td>0.330</td>\n",
       "    </tr>\n",
       "    <tr>\n",
       "      <th>Venus</th>\n",
       "      <td>108.2</td>\n",
       "      <td>4.870</td>\n",
       "    </tr>\n",
       "    <tr>\n",
       "      <th>Earth</th>\n",
       "      <td>149.6</td>\n",
       "      <td>5.970</td>\n",
       "    </tr>\n",
       "    <tr>\n",
       "      <th>Mars</th>\n",
       "      <td>227.9</td>\n",
       "      <td>0.642</td>\n",
       "    </tr>\n",
       "    <tr>\n",
       "      <th>Jupiter</th>\n",
       "      <td>778.6</td>\n",
       "      <td>1898.000</td>\n",
       "    </tr>\n",
       "    <tr>\n",
       "      <th>Saturn</th>\n",
       "      <td>1433.5</td>\n",
       "      <td>568.000</td>\n",
       "    </tr>\n",
       "    <tr>\n",
       "      <th>Uranus</th>\n",
       "      <td>2872.5</td>\n",
       "      <td>86.800</td>\n",
       "    </tr>\n",
       "    <tr>\n",
       "      <th>Neptune</th>\n",
       "      <td>4495.1</td>\n",
       "      <td>102.000</td>\n",
       "    </tr>\n",
       "  </tbody>\n",
       "</table>\n",
       "</div>"
      ],
      "text/plain": [
       "         solar_distance_km_6  mass_kg_24\n",
       "name                                    \n",
       "Mercury                 57.9       0.330\n",
       "Venus                  108.2       4.870\n",
       "Earth                  149.6       5.970\n",
       "Mars                   227.9       0.642\n",
       "Jupiter                778.6    1898.000\n",
       "Saturn                1433.5     568.000\n",
       "Uranus                2872.5      86.800\n",
       "Neptune               4495.1     102.000"
      ]
     },
     "execution_count": 12,
     "metadata": {},
     "output_type": "execute_result"
    }
   ],
   "source": [
    "planets_named.loc[:, ['solar_distance_km_6', 'mass_kg_24']]"
   ]
  },
  {
   "cell_type": "markdown",
   "id": "39ee8b64-3c5b-423d-9fb2-635e2295bc7f",
   "metadata": {},
   "source": [
    "Unlike what we've seen so far, element retrieval from the `loc` property can accept **multiple arguments**.\n",
    "\n",
    "1. The first argument indicates row(s) to select – as above, by label, rather than offset.\n",
    "1. The second argument does the same, but for column(s).\n",
    "\n",
    "Because these arguments are positional, we can't provide the second argument without also providing the first. Luckily, we needn't supply arguments to the slice itself, so indicating that a new sequence should be constructed from the same elements."
   ]
  },
  {
   "cell_type": "markdown",
   "id": "ebcf5125-d00d-4b3d-953f-49558e4f053b",
   "metadata": {},
   "source": [
    "And of course now we can go further and specify a slice of individuals as well."
   ]
  },
  {
   "cell_type": "code",
   "execution_count": 13,
   "id": "8e86a5c5-fb5c-4dc8-be92-504823dffed1",
   "metadata": {},
   "outputs": [
    {
     "data": {
      "text/html": [
       "<div>\n",
       "<style scoped>\n",
       "    .dataframe tbody tr th:only-of-type {\n",
       "        vertical-align: middle;\n",
       "    }\n",
       "\n",
       "    .dataframe tbody tr th {\n",
       "        vertical-align: top;\n",
       "    }\n",
       "\n",
       "    .dataframe thead th {\n",
       "        text-align: right;\n",
       "    }\n",
       "</style>\n",
       "<table border=\"1\" class=\"dataframe\">\n",
       "  <thead>\n",
       "    <tr style=\"text-align: right;\">\n",
       "      <th></th>\n",
       "      <th>solar_distance_km_6</th>\n",
       "      <th>mass_kg_24</th>\n",
       "    </tr>\n",
       "    <tr>\n",
       "      <th>name</th>\n",
       "      <th></th>\n",
       "      <th></th>\n",
       "    </tr>\n",
       "  </thead>\n",
       "  <tbody>\n",
       "    <tr>\n",
       "      <th>Earth</th>\n",
       "      <td>149.6</td>\n",
       "      <td>5.970</td>\n",
       "    </tr>\n",
       "    <tr>\n",
       "      <th>Mars</th>\n",
       "      <td>227.9</td>\n",
       "      <td>0.642</td>\n",
       "    </tr>\n",
       "    <tr>\n",
       "      <th>Jupiter</th>\n",
       "      <td>778.6</td>\n",
       "      <td>1898.000</td>\n",
       "    </tr>\n",
       "    <tr>\n",
       "      <th>Saturn</th>\n",
       "      <td>1433.5</td>\n",
       "      <td>568.000</td>\n",
       "    </tr>\n",
       "  </tbody>\n",
       "</table>\n",
       "</div>"
      ],
      "text/plain": [
       "         solar_distance_km_6  mass_kg_24\n",
       "name                                    \n",
       "Earth                  149.6       5.970\n",
       "Mars                   227.9       0.642\n",
       "Jupiter                778.6    1898.000\n",
       "Saturn                1433.5     568.000"
      ]
     },
     "execution_count": 13,
     "metadata": {},
     "output_type": "execute_result"
    }
   ],
   "source": [
    "planets_named.loc['Earth':'Saturn', ['solar_distance_km_6', 'mass_kg_24']]"
   ]
  },
  {
   "cell_type": "markdown",
   "id": "ab3172db-732a-4a25-aa2e-db835923adb8",
   "metadata": {},
   "source": [
    "Or a selection of both individuals and features."
   ]
  },
  {
   "cell_type": "code",
   "execution_count": 14,
   "id": "0b33a604-d418-412f-b4de-697cad1149e0",
   "metadata": {},
   "outputs": [
    {
     "data": {
      "text/html": [
       "<div>\n",
       "<style scoped>\n",
       "    .dataframe tbody tr th:only-of-type {\n",
       "        vertical-align: middle;\n",
       "    }\n",
       "\n",
       "    .dataframe tbody tr th {\n",
       "        vertical-align: top;\n",
       "    }\n",
       "\n",
       "    .dataframe thead th {\n",
       "        text-align: right;\n",
       "    }\n",
       "</style>\n",
       "<table border=\"1\" class=\"dataframe\">\n",
       "  <thead>\n",
       "    <tr style=\"text-align: right;\">\n",
       "      <th></th>\n",
       "      <th>solar_distance_km_6</th>\n",
       "      <th>mass_kg_24</th>\n",
       "    </tr>\n",
       "    <tr>\n",
       "      <th>name</th>\n",
       "      <th></th>\n",
       "      <th></th>\n",
       "    </tr>\n",
       "  </thead>\n",
       "  <tbody>\n",
       "    <tr>\n",
       "      <th>Earth</th>\n",
       "      <td>149.6</td>\n",
       "      <td>5.97</td>\n",
       "    </tr>\n",
       "    <tr>\n",
       "      <th>Saturn</th>\n",
       "      <td>1433.5</td>\n",
       "      <td>568.00</td>\n",
       "    </tr>\n",
       "  </tbody>\n",
       "</table>\n",
       "</div>"
      ],
      "text/plain": [
       "        solar_distance_km_6  mass_kg_24\n",
       "name                                   \n",
       "Earth                 149.6        5.97\n",
       "Saturn               1433.5      568.00"
      ]
     },
     "execution_count": 14,
     "metadata": {},
     "output_type": "execute_result"
    }
   ],
   "source": [
    "planets_named.loc[['Earth', 'Saturn'], ['solar_distance_km_6', 'mass_kg_24']]"
   ]
  },
  {
   "cell_type": "markdown",
   "id": "06e9f1c9-f847-4f0e-a1f9-0a6ab3e98796",
   "metadata": {},
   "source": [
    "Or even a slice of both individuals and features."
   ]
  },
  {
   "cell_type": "code",
   "execution_count": 15,
   "id": "8a753f3a-f2d1-4399-9a39-c1d18162de7f",
   "metadata": {},
   "outputs": [
    {
     "data": {
      "text/html": [
       "<div>\n",
       "<style scoped>\n",
       "    .dataframe tbody tr th:only-of-type {\n",
       "        vertical-align: middle;\n",
       "    }\n",
       "\n",
       "    .dataframe tbody tr th {\n",
       "        vertical-align: top;\n",
       "    }\n",
       "\n",
       "    .dataframe thead th {\n",
       "        text-align: right;\n",
       "    }\n",
       "</style>\n",
       "<table border=\"1\" class=\"dataframe\">\n",
       "  <thead>\n",
       "    <tr style=\"text-align: right;\">\n",
       "      <th></th>\n",
       "      <th>solar_distance_km_6</th>\n",
       "      <th>mass_kg_24</th>\n",
       "      <th>density_kg_m3</th>\n",
       "    </tr>\n",
       "    <tr>\n",
       "      <th>name</th>\n",
       "      <th></th>\n",
       "      <th></th>\n",
       "      <th></th>\n",
       "    </tr>\n",
       "  </thead>\n",
       "  <tbody>\n",
       "    <tr>\n",
       "      <th>Earth</th>\n",
       "      <td>149.6</td>\n",
       "      <td>5.970</td>\n",
       "      <td>5514.0</td>\n",
       "    </tr>\n",
       "    <tr>\n",
       "      <th>Mars</th>\n",
       "      <td>227.9</td>\n",
       "      <td>0.642</td>\n",
       "      <td>3933.0</td>\n",
       "    </tr>\n",
       "    <tr>\n",
       "      <th>Jupiter</th>\n",
       "      <td>778.6</td>\n",
       "      <td>1898.000</td>\n",
       "      <td>1326.0</td>\n",
       "    </tr>\n",
       "    <tr>\n",
       "      <th>Saturn</th>\n",
       "      <td>1433.5</td>\n",
       "      <td>568.000</td>\n",
       "      <td>687.0</td>\n",
       "    </tr>\n",
       "  </tbody>\n",
       "</table>\n",
       "</div>"
      ],
      "text/plain": [
       "         solar_distance_km_6  mass_kg_24  density_kg_m3\n",
       "name                                                   \n",
       "Earth                  149.6       5.970         5514.0\n",
       "Mars                   227.9       0.642         3933.0\n",
       "Jupiter                778.6    1898.000         1326.0\n",
       "Saturn                1433.5     568.000          687.0"
      ]
     },
     "execution_count": 15,
     "metadata": {},
     "output_type": "execute_result"
    }
   ],
   "source": [
    "planets_named.loc['Earth':'Saturn', 'solar_distance_km_6':'density_kg_m3']"
   ]
  },
  {
   "cell_type": "markdown",
   "id": "9dda12e3-8158-4698-95b0-22ddd7e6774f",
   "metadata": {},
   "source": [
    "We can even extract singular rows and columns with this syntax."
   ]
  },
  {
   "cell_type": "code",
   "execution_count": 16,
   "id": "6b3b6265-68b1-4249-9dcd-1a69ecb5644b",
   "metadata": {},
   "outputs": [
    {
     "data": {
      "text/plain": [
       "name\n",
       "Mercury      57.9\n",
       "Venus       108.2\n",
       "Earth       149.6\n",
       "Mars        227.9\n",
       "Jupiter     778.6\n",
       "Saturn     1433.5\n",
       "Uranus     2872.5\n",
       "Neptune    4495.1\n",
       "Name: solar_distance_km_6, dtype: float64"
      ]
     },
     "execution_count": 16,
     "metadata": {},
     "output_type": "execute_result"
    }
   ],
   "source": [
    "planets_named.loc[:, 'solar_distance_km_6']"
   ]
  },
  {
   "cell_type": "markdown",
   "id": "de9a533c-4f40-47b9-92fe-b5f900edf4c5",
   "metadata": {},
   "source": [
    "…And even singular _scalar_ values."
   ]
  },
  {
   "cell_type": "code",
   "execution_count": 17,
   "id": "8b62c3a8-a1e9-4882-9c14-7b89b9970859",
   "metadata": {},
   "outputs": [
    {
     "data": {
      "text/plain": [
       "149.6"
      ]
     },
     "execution_count": 17,
     "metadata": {},
     "output_type": "execute_result"
    }
   ],
   "source": [
    "planets_named.loc['Earth', 'solar_distance_km_6']"
   ]
  },
  {
   "cell_type": "markdown",
   "id": "915c1743-6542-4e3c-a90d-d5827fad9084",
   "metadata": {},
   "source": [
    "## All together\n",
    "\n",
    "Say we wanted to contextualize `distance_pct_change`, reproducing our `DataFrame`, but this time with only the most relevant features – `name` and `solar_distance_km_6` – _and_ for only the \"middle\" planets.\n",
    "\n",
    "Bear in mind that there are many ways about this.\n",
    "\n",
    "For one, [column assignment](../3/Column_Operations.html#adding-columns) enables us to add a column to a new or existing `DataFrame`. And, as above, we can create a new `DataFrame` consisting of a subset of features and individuals via `loc`.\n",
    "\n",
    "Our `distance_pct_change` feature computation took the following general form."
   ]
  },
  {
   "cell_type": "code",
   "execution_count": 18,
   "id": "12e8b763-b63c-468b-bfd3-9dccca502769",
   "metadata": {},
   "outputs": [
    {
     "data": {
      "text/plain": [
       "0           NaN\n",
       "1     86.873921\n",
       "2     38.262477\n",
       "3     52.339572\n",
       "4    241.641071\n",
       "5     84.112510\n",
       "6    100.383676\n",
       "7     56.487380\n",
       "Name: percent distance, dtype: float64"
      ]
     },
     "execution_count": 18,
     "metadata": {},
     "output_type": "execute_result"
    }
   ],
   "source": [
    "distance_pct_change = (\n",
    "    100 * planets.solar_distance_km_6.pct_change()\n",
    ").rename('percent distance')\n",
    "\n",
    "distance_pct_change"
   ]
  },
  {
   "cell_type": "markdown",
   "id": "12ef1808-0cdb-4a15-89ef-e43a661d3ea6",
   "metadata": {},
   "source": [
    "We can construct our new `DataFrame`, with only the most relevant features, with `loc`…."
   ]
  },
  {
   "cell_type": "code",
   "execution_count": 19,
   "id": "80d5152a-e050-4537-8187-82f70e8d897d",
   "metadata": {},
   "outputs": [
    {
     "data": {
      "text/html": [
       "<div>\n",
       "<style scoped>\n",
       "    .dataframe tbody tr th:only-of-type {\n",
       "        vertical-align: middle;\n",
       "    }\n",
       "\n",
       "    .dataframe tbody tr th {\n",
       "        vertical-align: top;\n",
       "    }\n",
       "\n",
       "    .dataframe thead th {\n",
       "        text-align: right;\n",
       "    }\n",
       "</style>\n",
       "<table border=\"1\" class=\"dataframe\">\n",
       "  <thead>\n",
       "    <tr style=\"text-align: right;\">\n",
       "      <th></th>\n",
       "      <th>name</th>\n",
       "      <th>solar_distance_km_6</th>\n",
       "    </tr>\n",
       "  </thead>\n",
       "  <tbody>\n",
       "    <tr>\n",
       "      <th>2</th>\n",
       "      <td>Earth</td>\n",
       "      <td>149.6</td>\n",
       "    </tr>\n",
       "    <tr>\n",
       "      <th>3</th>\n",
       "      <td>Mars</td>\n",
       "      <td>227.9</td>\n",
       "    </tr>\n",
       "    <tr>\n",
       "      <th>4</th>\n",
       "      <td>Jupiter</td>\n",
       "      <td>778.6</td>\n",
       "    </tr>\n",
       "    <tr>\n",
       "      <th>5</th>\n",
       "      <td>Saturn</td>\n",
       "      <td>1433.5</td>\n",
       "    </tr>\n",
       "  </tbody>\n",
       "</table>\n",
       "</div>"
      ],
      "text/plain": [
       "      name  solar_distance_km_6\n",
       "2    Earth                149.6\n",
       "3     Mars                227.9\n",
       "4  Jupiter                778.6\n",
       "5   Saturn               1433.5"
      ]
     },
     "execution_count": 19,
     "metadata": {},
     "output_type": "execute_result"
    }
   ],
   "source": [
    "planets_distances = planets.loc[2:5, ['name', 'solar_distance_km_6']]\n",
    "\n",
    "planets_distances"
   ]
  },
  {
   "cell_type": "markdown",
   "id": "d67f19ac-7fa3-4ed5-ba11-65e925ecdbf9",
   "metadata": {},
   "source": [
    "…And assign our feature to this `DataFrame`."
   ]
  },
  {
   "cell_type": "code",
   "execution_count": 20,
   "id": "e10a0b7b-6766-4e66-8858-02a767c3cfc7",
   "metadata": {},
   "outputs": [
    {
     "data": {
      "text/html": [
       "<div>\n",
       "<style scoped>\n",
       "    .dataframe tbody tr th:only-of-type {\n",
       "        vertical-align: middle;\n",
       "    }\n",
       "\n",
       "    .dataframe tbody tr th {\n",
       "        vertical-align: top;\n",
       "    }\n",
       "\n",
       "    .dataframe thead th {\n",
       "        text-align: right;\n",
       "    }\n",
       "</style>\n",
       "<table border=\"1\" class=\"dataframe\">\n",
       "  <thead>\n",
       "    <tr style=\"text-align: right;\">\n",
       "      <th></th>\n",
       "      <th>name</th>\n",
       "      <th>solar_distance_km_6</th>\n",
       "      <th>distance_pct_change</th>\n",
       "    </tr>\n",
       "  </thead>\n",
       "  <tbody>\n",
       "    <tr>\n",
       "      <th>2</th>\n",
       "      <td>Earth</td>\n",
       "      <td>149.6</td>\n",
       "      <td>38.262477</td>\n",
       "    </tr>\n",
       "    <tr>\n",
       "      <th>3</th>\n",
       "      <td>Mars</td>\n",
       "      <td>227.9</td>\n",
       "      <td>52.339572</td>\n",
       "    </tr>\n",
       "    <tr>\n",
       "      <th>4</th>\n",
       "      <td>Jupiter</td>\n",
       "      <td>778.6</td>\n",
       "      <td>241.641071</td>\n",
       "    </tr>\n",
       "    <tr>\n",
       "      <th>5</th>\n",
       "      <td>Saturn</td>\n",
       "      <td>1433.5</td>\n",
       "      <td>84.112510</td>\n",
       "    </tr>\n",
       "  </tbody>\n",
       "</table>\n",
       "</div>"
      ],
      "text/plain": [
       "      name  solar_distance_km_6  distance_pct_change\n",
       "2    Earth                149.6            38.262477\n",
       "3     Mars                227.9            52.339572\n",
       "4  Jupiter                778.6           241.641071\n",
       "5   Saturn               1433.5            84.112510"
      ]
     },
     "execution_count": 20,
     "metadata": {},
     "output_type": "execute_result"
    }
   ],
   "source": [
    "planets_distances['distance_pct_change'] = distance_pct_change\n",
    "\n",
    "planets_distances"
   ]
  },
  {
   "cell_type": "markdown",
   "id": "1c29c373-74ee-4856-a749-8491682a637b",
   "metadata": {},
   "source": [
    "Of course, we computed our feature from `planets`, which uses the default row index, and then assigned it to a `DataFrame` constructed from the same data and the same index.\n",
    "\n",
    "What if we wanted to use another index?\n",
    "\n",
    "We could of course change the index of the result."
   ]
  },
  {
   "cell_type": "code",
   "execution_count": 21,
   "id": "5071ce1e-bde6-471e-b43c-a73d4dca2cd0",
   "metadata": {},
   "outputs": [
    {
     "data": {
      "text/html": [
       "<div>\n",
       "<style scoped>\n",
       "    .dataframe tbody tr th:only-of-type {\n",
       "        vertical-align: middle;\n",
       "    }\n",
       "\n",
       "    .dataframe tbody tr th {\n",
       "        vertical-align: top;\n",
       "    }\n",
       "\n",
       "    .dataframe thead th {\n",
       "        text-align: right;\n",
       "    }\n",
       "</style>\n",
       "<table border=\"1\" class=\"dataframe\">\n",
       "  <thead>\n",
       "    <tr style=\"text-align: right;\">\n",
       "      <th></th>\n",
       "      <th>solar_distance_km_6</th>\n",
       "      <th>distance_pct_change</th>\n",
       "    </tr>\n",
       "    <tr>\n",
       "      <th>name</th>\n",
       "      <th></th>\n",
       "      <th></th>\n",
       "    </tr>\n",
       "  </thead>\n",
       "  <tbody>\n",
       "    <tr>\n",
       "      <th>Earth</th>\n",
       "      <td>149.6</td>\n",
       "      <td>38.262477</td>\n",
       "    </tr>\n",
       "    <tr>\n",
       "      <th>Mars</th>\n",
       "      <td>227.9</td>\n",
       "      <td>52.339572</td>\n",
       "    </tr>\n",
       "    <tr>\n",
       "      <th>Jupiter</th>\n",
       "      <td>778.6</td>\n",
       "      <td>241.641071</td>\n",
       "    </tr>\n",
       "    <tr>\n",
       "      <th>Saturn</th>\n",
       "      <td>1433.5</td>\n",
       "      <td>84.112510</td>\n",
       "    </tr>\n",
       "  </tbody>\n",
       "</table>\n",
       "</div>"
      ],
      "text/plain": [
       "         solar_distance_km_6  distance_pct_change\n",
       "name                                             \n",
       "Earth                  149.6            38.262477\n",
       "Mars                   227.9            52.339572\n",
       "Jupiter                778.6           241.641071\n",
       "Saturn                1433.5            84.112510"
      ]
     },
     "execution_count": 21,
     "metadata": {},
     "output_type": "execute_result"
    }
   ],
   "source": [
    "planets_distances.set_index('name')"
   ]
  },
  {
   "cell_type": "markdown",
   "id": "6b3aeaf8-c3fc-497c-b978-3539d0c4cd2c",
   "metadata": {},
   "source": [
    "Or, we could have performed all of our operations from that starting point, using `planets_named` in lieu of `planets`.\n",
    "\n",
    "What would happen if we attempted to mix and match?"
   ]
  },
  {
   "cell_type": "code",
   "execution_count": 22,
   "id": "6c81b27e-422f-4b8e-8c12-7bb2b9c36e3f",
   "metadata": {
    "tags": [
     "raises-exception"
    ]
   },
   "outputs": [
    {
     "data": {
      "text/html": [
       "<div>\n",
       "<style scoped>\n",
       "    .dataframe tbody tr th:only-of-type {\n",
       "        vertical-align: middle;\n",
       "    }\n",
       "\n",
       "    .dataframe tbody tr th {\n",
       "        vertical-align: top;\n",
       "    }\n",
       "\n",
       "    .dataframe thead th {\n",
       "        text-align: right;\n",
       "    }\n",
       "</style>\n",
       "<table border=\"1\" class=\"dataframe\">\n",
       "  <thead>\n",
       "    <tr style=\"text-align: right;\">\n",
       "      <th></th>\n",
       "      <th>name</th>\n",
       "      <th>solar_distance_km_6</th>\n",
       "      <th>distance_pct_change</th>\n",
       "    </tr>\n",
       "    <tr>\n",
       "      <th>number</th>\n",
       "      <th></th>\n",
       "      <th></th>\n",
       "      <th></th>\n",
       "    </tr>\n",
       "  </thead>\n",
       "  <tbody>\n",
       "    <tr>\n",
       "      <th>3</th>\n",
       "      <td>Earth</td>\n",
       "      <td>149.6</td>\n",
       "      <td>52.339572</td>\n",
       "    </tr>\n",
       "    <tr>\n",
       "      <th>4</th>\n",
       "      <td>Mars</td>\n",
       "      <td>227.9</td>\n",
       "      <td>241.641071</td>\n",
       "    </tr>\n",
       "    <tr>\n",
       "      <th>5</th>\n",
       "      <td>Jupiter</td>\n",
       "      <td>778.6</td>\n",
       "      <td>84.112510</td>\n",
       "    </tr>\n",
       "    <tr>\n",
       "      <th>6</th>\n",
       "      <td>Saturn</td>\n",
       "      <td>1433.5</td>\n",
       "      <td>100.383676</td>\n",
       "    </tr>\n",
       "  </tbody>\n",
       "</table>\n",
       "</div>"
      ],
      "text/plain": [
       "           name  solar_distance_km_6  distance_pct_change\n",
       "number                                                   \n",
       "3         Earth                149.6            52.339572\n",
       "4          Mars                227.9           241.641071\n",
       "5       Jupiter                778.6            84.112510\n",
       "6        Saturn               1433.5           100.383676"
      ]
     },
     "execution_count": 22,
     "metadata": {},
     "output_type": "execute_result"
    }
   ],
   "source": [
    "planets_distances = planets_natural.loc[3:6, ['name', 'solar_distance_km_6']]\n",
    "\n",
    "planets_distances['distance_pct_change'] = distance_pct_change\n",
    "\n",
    "planets_distances"
   ]
  },
  {
   "cell_type": "markdown",
   "id": "f7c22e77-f85e-4f0a-b40e-4cd9af6a2d55",
   "metadata": {},
   "source": [
    "The above should look _almost_ correct – **but not quite**.\n",
    "\n",
    "According to the above result, Earth's distance from Venus is 52% of Venus's distance from the sun.\n",
    "\n",
    "But, previously, this value was 38%.\n",
    "\n",
    "The problem is that we computed `distance_pct_change` from a `DataFrame` with an index starting at `0`, and then assigned it to a `DataFrame` with an index starting at `1`.\n",
    "\n",
    "This is more obvious when we look at all the rows of our data."
   ]
  },
  {
   "cell_type": "code",
   "execution_count": 23,
   "id": "378dcb54-1362-434f-860e-7465f99c6e6c",
   "metadata": {},
   "outputs": [
    {
     "data": {
      "text/html": [
       "<div>\n",
       "<style scoped>\n",
       "    .dataframe tbody tr th:only-of-type {\n",
       "        vertical-align: middle;\n",
       "    }\n",
       "\n",
       "    .dataframe tbody tr th {\n",
       "        vertical-align: top;\n",
       "    }\n",
       "\n",
       "    .dataframe thead th {\n",
       "        text-align: right;\n",
       "    }\n",
       "</style>\n",
       "<table border=\"1\" class=\"dataframe\">\n",
       "  <thead>\n",
       "    <tr style=\"text-align: right;\">\n",
       "      <th></th>\n",
       "      <th>name</th>\n",
       "      <th>solar_distance_km_6</th>\n",
       "      <th>distance_pct_change</th>\n",
       "    </tr>\n",
       "    <tr>\n",
       "      <th>number</th>\n",
       "      <th></th>\n",
       "      <th></th>\n",
       "      <th></th>\n",
       "    </tr>\n",
       "  </thead>\n",
       "  <tbody>\n",
       "    <tr>\n",
       "      <th>1</th>\n",
       "      <td>Mercury</td>\n",
       "      <td>57.9</td>\n",
       "      <td>86.873921</td>\n",
       "    </tr>\n",
       "    <tr>\n",
       "      <th>2</th>\n",
       "      <td>Venus</td>\n",
       "      <td>108.2</td>\n",
       "      <td>38.262477</td>\n",
       "    </tr>\n",
       "    <tr>\n",
       "      <th>3</th>\n",
       "      <td>Earth</td>\n",
       "      <td>149.6</td>\n",
       "      <td>52.339572</td>\n",
       "    </tr>\n",
       "    <tr>\n",
       "      <th>4</th>\n",
       "      <td>Mars</td>\n",
       "      <td>227.9</td>\n",
       "      <td>241.641071</td>\n",
       "    </tr>\n",
       "    <tr>\n",
       "      <th>5</th>\n",
       "      <td>Jupiter</td>\n",
       "      <td>778.6</td>\n",
       "      <td>84.112510</td>\n",
       "    </tr>\n",
       "    <tr>\n",
       "      <th>6</th>\n",
       "      <td>Saturn</td>\n",
       "      <td>1433.5</td>\n",
       "      <td>100.383676</td>\n",
       "    </tr>\n",
       "    <tr>\n",
       "      <th>7</th>\n",
       "      <td>Uranus</td>\n",
       "      <td>2872.5</td>\n",
       "      <td>56.487380</td>\n",
       "    </tr>\n",
       "    <tr>\n",
       "      <th>8</th>\n",
       "      <td>Neptune</td>\n",
       "      <td>4495.1</td>\n",
       "      <td>NaN</td>\n",
       "    </tr>\n",
       "  </tbody>\n",
       "</table>\n",
       "</div>"
      ],
      "text/plain": [
       "           name  solar_distance_km_6  distance_pct_change\n",
       "number                                                   \n",
       "1       Mercury                 57.9            86.873921\n",
       "2         Venus                108.2            38.262477\n",
       "3         Earth                149.6            52.339572\n",
       "4          Mars                227.9           241.641071\n",
       "5       Jupiter                778.6            84.112510\n",
       "6        Saturn               1433.5           100.383676\n",
       "7        Uranus               2872.5            56.487380\n",
       "8       Neptune               4495.1                  NaN"
      ]
     },
     "execution_count": 23,
     "metadata": {},
     "output_type": "execute_result"
    }
   ],
   "source": [
    "(\n",
    "    planets_natural[['name', 'solar_distance_km_6']]\n",
    "    .assign(distance_pct_change=distance_pct_change)\n",
    ")"
   ]
  },
  {
   "cell_type": "markdown",
   "id": "9ec73c72-71d3-4741-87c6-865fcd811533",
   "metadata": {},
   "source": [
    "The above result would have us believe that Mercury's distance from … _nothing_ … is 86.87% of … _nothing's_ … distance from the sun; and, that Neptune's distance from Uranus is `NaN` of Uranus's distance from the sun.\n",
    "\n",
    "Physically, of course, this is all wrong.\n",
    "\n",
    "Luckily, pandas provides yet another sneaky way to change an index and fix this: adding `1`!"
   ]
  },
  {
   "cell_type": "code",
   "execution_count": 24,
   "id": "c23b1f55-160c-4036-adf2-9a1adb8e70f3",
   "metadata": {},
   "outputs": [
    {
     "data": {
      "text/plain": [
       "1           NaN\n",
       "2     86.873921\n",
       "3     38.262477\n",
       "4     52.339572\n",
       "5    241.641071\n",
       "6     84.112510\n",
       "7    100.383676\n",
       "8     56.487380\n",
       "Name: percent distance, dtype: float64"
      ]
     },
     "execution_count": 24,
     "metadata": {},
     "output_type": "execute_result"
    }
   ],
   "source": [
    "distance_pct_change.index += 1\n",
    "\n",
    "distance_pct_change"
   ]
  },
  {
   "cell_type": "markdown",
   "id": "aee80a30-3c68-49b7-97b7-7915faf80966",
   "metadata": {},
   "source": [
    "Now that its index uses natural numbering, let's reassign this `Series` as a feature of our natural numbered planets."
   ]
  },
  {
   "cell_type": "code",
   "execution_count": 25,
   "id": "b948b1d6-0243-4023-ac52-4ca5a652e9f0",
   "metadata": {},
   "outputs": [
    {
     "data": {
      "text/html": [
       "<div>\n",
       "<style scoped>\n",
       "    .dataframe tbody tr th:only-of-type {\n",
       "        vertical-align: middle;\n",
       "    }\n",
       "\n",
       "    .dataframe tbody tr th {\n",
       "        vertical-align: top;\n",
       "    }\n",
       "\n",
       "    .dataframe thead th {\n",
       "        text-align: right;\n",
       "    }\n",
       "</style>\n",
       "<table border=\"1\" class=\"dataframe\">\n",
       "  <thead>\n",
       "    <tr style=\"text-align: right;\">\n",
       "      <th></th>\n",
       "      <th>name</th>\n",
       "      <th>solar_distance_km_6</th>\n",
       "      <th>distance_pct_change</th>\n",
       "    </tr>\n",
       "    <tr>\n",
       "      <th>number</th>\n",
       "      <th></th>\n",
       "      <th></th>\n",
       "      <th></th>\n",
       "    </tr>\n",
       "  </thead>\n",
       "  <tbody>\n",
       "    <tr>\n",
       "      <th>1</th>\n",
       "      <td>Mercury</td>\n",
       "      <td>57.9</td>\n",
       "      <td>NaN</td>\n",
       "    </tr>\n",
       "    <tr>\n",
       "      <th>2</th>\n",
       "      <td>Venus</td>\n",
       "      <td>108.2</td>\n",
       "      <td>86.873921</td>\n",
       "    </tr>\n",
       "    <tr>\n",
       "      <th>3</th>\n",
       "      <td>Earth</td>\n",
       "      <td>149.6</td>\n",
       "      <td>38.262477</td>\n",
       "    </tr>\n",
       "    <tr>\n",
       "      <th>4</th>\n",
       "      <td>Mars</td>\n",
       "      <td>227.9</td>\n",
       "      <td>52.339572</td>\n",
       "    </tr>\n",
       "    <tr>\n",
       "      <th>5</th>\n",
       "      <td>Jupiter</td>\n",
       "      <td>778.6</td>\n",
       "      <td>241.641071</td>\n",
       "    </tr>\n",
       "    <tr>\n",
       "      <th>6</th>\n",
       "      <td>Saturn</td>\n",
       "      <td>1433.5</td>\n",
       "      <td>84.112510</td>\n",
       "    </tr>\n",
       "    <tr>\n",
       "      <th>7</th>\n",
       "      <td>Uranus</td>\n",
       "      <td>2872.5</td>\n",
       "      <td>100.383676</td>\n",
       "    </tr>\n",
       "    <tr>\n",
       "      <th>8</th>\n",
       "      <td>Neptune</td>\n",
       "      <td>4495.1</td>\n",
       "      <td>56.487380</td>\n",
       "    </tr>\n",
       "  </tbody>\n",
       "</table>\n",
       "</div>"
      ],
      "text/plain": [
       "           name  solar_distance_km_6  distance_pct_change\n",
       "number                                                   \n",
       "1       Mercury                 57.9                  NaN\n",
       "2         Venus                108.2            86.873921\n",
       "3         Earth                149.6            38.262477\n",
       "4          Mars                227.9            52.339572\n",
       "5       Jupiter                778.6           241.641071\n",
       "6        Saturn               1433.5            84.112510\n",
       "7        Uranus               2872.5           100.383676\n",
       "8       Neptune               4495.1            56.487380"
      ]
     },
     "execution_count": 25,
     "metadata": {},
     "output_type": "execute_result"
    }
   ],
   "source": [
    "(\n",
    "    planets_natural[['name', 'solar_distance_km_6']]\n",
    "    .assign(distance_pct_change=distance_pct_change)\n",
    ")"
   ]
  },
  {
   "cell_type": "markdown",
   "id": "8c8d71f5-fd79-40d6-94b5-46972dd3989a",
   "metadata": {},
   "source": [
    "Looking better so far…."
   ]
  },
  {
   "cell_type": "code",
   "execution_count": 26,
   "id": "70183fa6-ec8b-402f-82d8-4bb491085085",
   "metadata": {},
   "outputs": [
    {
     "data": {
      "text/html": [
       "<div>\n",
       "<style scoped>\n",
       "    .dataframe tbody tr th:only-of-type {\n",
       "        vertical-align: middle;\n",
       "    }\n",
       "\n",
       "    .dataframe tbody tr th {\n",
       "        vertical-align: top;\n",
       "    }\n",
       "\n",
       "    .dataframe thead th {\n",
       "        text-align: right;\n",
       "    }\n",
       "</style>\n",
       "<table border=\"1\" class=\"dataframe\">\n",
       "  <thead>\n",
       "    <tr style=\"text-align: right;\">\n",
       "      <th></th>\n",
       "      <th>name</th>\n",
       "      <th>solar_distance_km_6</th>\n",
       "      <th>distance_pct_change</th>\n",
       "    </tr>\n",
       "    <tr>\n",
       "      <th>number</th>\n",
       "      <th></th>\n",
       "      <th></th>\n",
       "      <th></th>\n",
       "    </tr>\n",
       "  </thead>\n",
       "  <tbody>\n",
       "    <tr>\n",
       "      <th>3</th>\n",
       "      <td>Earth</td>\n",
       "      <td>149.6</td>\n",
       "      <td>38.262477</td>\n",
       "    </tr>\n",
       "    <tr>\n",
       "      <th>4</th>\n",
       "      <td>Mars</td>\n",
       "      <td>227.9</td>\n",
       "      <td>52.339572</td>\n",
       "    </tr>\n",
       "    <tr>\n",
       "      <th>5</th>\n",
       "      <td>Jupiter</td>\n",
       "      <td>778.6</td>\n",
       "      <td>241.641071</td>\n",
       "    </tr>\n",
       "    <tr>\n",
       "      <th>6</th>\n",
       "      <td>Saturn</td>\n",
       "      <td>1433.5</td>\n",
       "      <td>84.112510</td>\n",
       "    </tr>\n",
       "  </tbody>\n",
       "</table>\n",
       "</div>"
      ],
      "text/plain": [
       "           name  solar_distance_km_6  distance_pct_change\n",
       "number                                                   \n",
       "3         Earth                149.6            38.262477\n",
       "4          Mars                227.9            52.339572\n",
       "5       Jupiter                778.6           241.641071\n",
       "6        Saturn               1433.5            84.112510"
      ]
     },
     "execution_count": 26,
     "metadata": {},
     "output_type": "execute_result"
    }
   ],
   "source": [
    "planets_distances['distance_pct_change'] = distance_pct_change\n",
    "\n",
    "planets_distances"
   ]
  },
  {
   "cell_type": "markdown",
   "id": "057aff1c-0640-4445-9d1a-ee19f446103c",
   "metadata": {},
   "source": [
    "Much better!\n",
    "\n",
    "And what about `planets_named`?"
   ]
  },
  {
   "cell_type": "code",
   "execution_count": 27,
   "id": "08caf14d-2671-4244-b547-a2b65928cd62",
   "metadata": {},
   "outputs": [
    {
     "data": {
      "text/html": [
       "<div>\n",
       "<style scoped>\n",
       "    .dataframe tbody tr th:only-of-type {\n",
       "        vertical-align: middle;\n",
       "    }\n",
       "\n",
       "    .dataframe tbody tr th {\n",
       "        vertical-align: top;\n",
       "    }\n",
       "\n",
       "    .dataframe thead th {\n",
       "        text-align: right;\n",
       "    }\n",
       "</style>\n",
       "<table border=\"1\" class=\"dataframe\">\n",
       "  <thead>\n",
       "    <tr style=\"text-align: right;\">\n",
       "      <th></th>\n",
       "      <th>solar_distance_km_6</th>\n",
       "      <th>distance_pct_change</th>\n",
       "    </tr>\n",
       "    <tr>\n",
       "      <th>name</th>\n",
       "      <th></th>\n",
       "      <th></th>\n",
       "    </tr>\n",
       "  </thead>\n",
       "  <tbody>\n",
       "    <tr>\n",
       "      <th>Earth</th>\n",
       "      <td>149.6</td>\n",
       "      <td>NaN</td>\n",
       "    </tr>\n",
       "    <tr>\n",
       "      <th>Mars</th>\n",
       "      <td>227.9</td>\n",
       "      <td>NaN</td>\n",
       "    </tr>\n",
       "    <tr>\n",
       "      <th>Jupiter</th>\n",
       "      <td>778.6</td>\n",
       "      <td>NaN</td>\n",
       "    </tr>\n",
       "    <tr>\n",
       "      <th>Saturn</th>\n",
       "      <td>1433.5</td>\n",
       "      <td>NaN</td>\n",
       "    </tr>\n",
       "  </tbody>\n",
       "</table>\n",
       "</div>"
      ],
      "text/plain": [
       "         solar_distance_km_6  distance_pct_change\n",
       "name                                             \n",
       "Earth                  149.6                  NaN\n",
       "Mars                   227.9                  NaN\n",
       "Jupiter                778.6                  NaN\n",
       "Saturn                1433.5                  NaN"
      ]
     },
     "execution_count": 27,
     "metadata": {},
     "output_type": "execute_result"
    }
   ],
   "source": [
    "planets_distances = planets_named.loc['Earth':'Saturn', ['solar_distance_km_6']]\n",
    "\n",
    "planets_distances['distance_pct_change'] = distance_pct_change\n",
    "\n",
    "planets_distances"
   ]
  },
  {
   "cell_type": "markdown",
   "id": "513be6d0-9a6b-48e9-ac59-20a4acd5dd37",
   "metadata": {},
   "source": [
    "Yikes! But we have ways of fixing that too.\n",
    "\n",
    "Rather than manipulating the index of `distance_pct_change`, we can simply assign the index we want it to use, (provided it has the values we need!)."
   ]
  },
  {
   "cell_type": "code",
   "execution_count": 28,
   "id": "9c345b88-0a80-4671-9ca3-9ab4fe2bed0f",
   "metadata": {},
   "outputs": [
    {
     "data": {
      "text/plain": [
       "name\n",
       "Mercury           NaN\n",
       "Venus       86.873921\n",
       "Earth       38.262477\n",
       "Mars        52.339572\n",
       "Jupiter    241.641071\n",
       "Saturn      84.112510\n",
       "Uranus     100.383676\n",
       "Neptune     56.487380\n",
       "Name: percent distance, dtype: float64"
      ]
     },
     "execution_count": 28,
     "metadata": {},
     "output_type": "execute_result"
    }
   ],
   "source": [
    "distance_pct_change.index = planets_named.index\n",
    "\n",
    "distance_pct_change"
   ]
  },
  {
   "cell_type": "code",
   "execution_count": 29,
   "id": "a1d5cc05-0491-4f81-8797-34117b36fe4c",
   "metadata": {},
   "outputs": [
    {
     "data": {
      "text/html": [
       "<div>\n",
       "<style scoped>\n",
       "    .dataframe tbody tr th:only-of-type {\n",
       "        vertical-align: middle;\n",
       "    }\n",
       "\n",
       "    .dataframe tbody tr th {\n",
       "        vertical-align: top;\n",
       "    }\n",
       "\n",
       "    .dataframe thead th {\n",
       "        text-align: right;\n",
       "    }\n",
       "</style>\n",
       "<table border=\"1\" class=\"dataframe\">\n",
       "  <thead>\n",
       "    <tr style=\"text-align: right;\">\n",
       "      <th></th>\n",
       "      <th>solar_distance_km_6</th>\n",
       "      <th>distance_pct_change</th>\n",
       "    </tr>\n",
       "    <tr>\n",
       "      <th>name</th>\n",
       "      <th></th>\n",
       "      <th></th>\n",
       "    </tr>\n",
       "  </thead>\n",
       "  <tbody>\n",
       "    <tr>\n",
       "      <th>Earth</th>\n",
       "      <td>149.6</td>\n",
       "      <td>38.262477</td>\n",
       "    </tr>\n",
       "    <tr>\n",
       "      <th>Mars</th>\n",
       "      <td>227.9</td>\n",
       "      <td>52.339572</td>\n",
       "    </tr>\n",
       "    <tr>\n",
       "      <th>Jupiter</th>\n",
       "      <td>778.6</td>\n",
       "      <td>241.641071</td>\n",
       "    </tr>\n",
       "    <tr>\n",
       "      <th>Saturn</th>\n",
       "      <td>1433.5</td>\n",
       "      <td>84.112510</td>\n",
       "    </tr>\n",
       "  </tbody>\n",
       "</table>\n",
       "</div>"
      ],
      "text/plain": [
       "         solar_distance_km_6  distance_pct_change\n",
       "name                                             \n",
       "Earth                  149.6            38.262477\n",
       "Mars                   227.9            52.339572\n",
       "Jupiter                778.6           241.641071\n",
       "Saturn                1433.5            84.112510"
      ]
     },
     "execution_count": 29,
     "metadata": {},
     "output_type": "execute_result"
    }
   ],
   "source": [
    "planets_distances['distance_pct_change'] = distance_pct_change\n",
    "\n",
    "planets_distances"
   ]
  },
  {
   "cell_type": "markdown",
   "id": "0ff5423d-b03e-454e-a358-ff3a1a3e0279",
   "metadata": {},
   "source": [
    "And now we've seen how to select individuals, features and scalar values by label, perform simple statistics on these, and combine these into new sets of data!"
   ]
  }
 ],
 "metadata": {
  "kernelspec": {
   "display_name": "Python 3 (ipykernel)",
   "language": "python",
   "name": "python3"
  },
  "language_info": {
   "codemirror_mode": {
    "name": "ipython",
    "version": 3
   },
   "file_extension": ".py",
   "mimetype": "text/x-python",
   "name": "python",
   "nbconvert_exporter": "python",
   "pygments_lexer": "ipython3",
   "version": "3.10.6"
  }
 },
 "nbformat": 4,
 "nbformat_minor": 5
}
