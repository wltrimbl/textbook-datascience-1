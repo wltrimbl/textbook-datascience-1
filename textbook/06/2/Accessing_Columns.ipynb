{
 "cells": [
  {
   "cell_type": "markdown",
   "id": "b4ecc31e-8608-47fd-9989-de4f22e03818",
   "metadata": {},
   "source": [
    "# Accessing Columns\n",
    "\n",
    "## Listing columns\n",
    "\n",
    "One `DataFrame` _property_ is `columns`. And it shows that we assigned the following column names."
   ]
  },
  {
   "cell_type": "code",
   "execution_count": 1,
   "id": "15ed24a2-e34b-44bf-85e8-0baf3330d8be",
   "metadata": {
    "tags": [
     "remove-cell"
    ]
   },
   "outputs": [],
   "source": [
    "# cell hidden by tag\n",
    "import pandas as pd\n",
    "\n",
    "planets_dict = {\n",
    "    'name': ['Mercury', 'Venus', 'Earth', 'Mars', 'Jupiter', 'Saturn', 'Uranus', 'Neptune'],\n",
    "    'solar_distance_km_6': [57.9, 108.2, 149.6, 227.9, 778.6, 1433.5, 2872.5, 4495.1],\n",
    "    'mass_kg_24': [0.33, 4.87, 5.97, 0.642, 1898.0, 568.0, 86.8, 102.0],\n",
    "    'density_kg_m3': [5427.0, 5243.0, 5514.0, 3933.0, 1326.0, 687.0, 1271.0, 1638.0],\n",
    "    'gravity_m_s2': [3.7, 8.9, 9.8, 3.7, 23.1, 9.0, 8.7, 11.0],\n",
    "}\n",
    "\n",
    "planets = pd.DataFrame(planets_dict)"
   ]
  },
  {
   "cell_type": "code",
   "execution_count": 2,
   "id": "f56c0b19-bd09-49fa-89e0-0c452e3aa2c6",
   "metadata": {},
   "outputs": [
    {
     "data": {
      "text/plain": [
       "Index(['name', 'solar_distance_km_6', 'mass_kg_24', 'density_kg_m3',\n",
       "       'gravity_m_s2'],\n",
       "      dtype='object')"
      ]
     },
     "execution_count": 2,
     "metadata": {},
     "output_type": "execute_result"
    }
   ],
   "source": [
    "planets.columns"
   ]
  },
  {
   "cell_type": "markdown",
   "id": "d99cf261-48e4-4fc5-a9de-29f29a607445",
   "metadata": {},
   "source": [
    "pandas has constructed an `Index` object for our columns. But we can get back our column `list` with the `Index` _method_ `tolist`."
   ]
  },
  {
   "cell_type": "code",
   "execution_count": 3,
   "id": "628af861-34e5-4d5b-84e8-7f15ade45993",
   "metadata": {},
   "outputs": [
    {
     "data": {
      "text/plain": [
       "['name', 'solar_distance_km_6', 'mass_kg_24', 'density_kg_m3', 'gravity_m_s2']"
      ]
     },
     "execution_count": 3,
     "metadata": {},
     "output_type": "execute_result"
    }
   ],
   "source": [
    "planets.columns.tolist()"
   ]
  },
  {
   "cell_type": "markdown",
   "id": "c3b4992b-04f3-423d-b2a4-787b9327cf93",
   "metadata": {},
   "source": [
    "## Extracting features\n",
    "\n",
    "Let's take a look at the first dimension of our data, the *features*, such as `name`."
   ]
  },
  {
   "cell_type": "code",
   "execution_count": 4,
   "id": "78f75d77-51cc-4d24-8eed-3a8b1b15958f",
   "metadata": {},
   "outputs": [
    {
     "data": {
      "text/plain": [
       "0    Mercury\n",
       "1      Venus\n",
       "2      Earth\n",
       "3       Mars\n",
       "4    Jupiter\n",
       "5     Saturn\n",
       "6     Uranus\n",
       "7    Neptune\n",
       "Name: name, dtype: object"
      ]
     },
     "execution_count": 4,
     "metadata": {},
     "output_type": "execute_result"
    }
   ],
   "source": [
    "planets.name"
   ]
  },
  {
   "cell_type": "markdown",
   "id": "507012f6-4794-459e-827c-fef1bdf22ed4",
   "metadata": {},
   "source": [
    "Above, we've extracted from our data a one-dimensional sequence of the names of the planets in our solar system – even though there was no such list in our initial input data `planets_data`.\n",
    "\n",
    "Of course, we _did_ specify a sequence like the above when constructing the `DataFrame` from `planets_dict`. And, regardless of how the `DataFrame` is constructed, we can treat it like a dictionary, as well.\n",
    "\n",
    "Above, we extracted the `name` feature of our data using its namesake property. We can alternatively do the same via dictionary subscription, specifying the feature to extract as a string."
   ]
  },
  {
   "cell_type": "code",
   "execution_count": 5,
   "id": "c4dd191f-2fd7-4471-b9a0-b4f531e4f47d",
   "metadata": {},
   "outputs": [
    {
     "data": {
      "text/plain": [
       "0    Mercury\n",
       "1      Venus\n",
       "2      Earth\n",
       "3       Mars\n",
       "4    Jupiter\n",
       "5     Saturn\n",
       "6     Uranus\n",
       "7    Neptune\n",
       "Name: name, dtype: object"
      ]
     },
     "execution_count": 5,
     "metadata": {},
     "output_type": "execute_result"
    }
   ],
   "source": [
    "planets['name']"
   ]
  },
  {
   "cell_type": "markdown",
   "id": "74325596-8b7f-4b1b-a563-4b5ee88d3ef3",
   "metadata": {},
   "source": [
    ":::{note}\n",
    "Accessing columns via their associated `DataFrame` properties, as in the first example, can be convenient. But the dictionary subscription syntax can be more explicit, and it becomes necessary when column names preclude their use as properties.\n",
    "\n",
    "For example, a feature named `name-old`, accessed as `planets.name-old`, would be interpreted by Python as `planets.name - old` – that is, the `name` feature _minus_ some entity named `old`….\n",
    ":::"
   ]
  },
  {
   "cell_type": "markdown",
   "id": "b5e13d04-5f87-4acd-bd1f-3c67439d735f",
   "metadata": {},
   "source": [
    "## The Series\n",
    "\n",
    "The sequence of our extracted feature is another data type provided by pandas: the `Series`."
   ]
  },
  {
   "cell_type": "code",
   "execution_count": 6,
   "id": "ac058196-6a52-4bff-803f-b8e2adab03cc",
   "metadata": {},
   "outputs": [
    {
     "data": {
      "text/plain": [
       "pandas.core.series.Series"
      ]
     },
     "execution_count": 6,
     "metadata": {},
     "output_type": "execute_result"
    }
   ],
   "source": [
    "type(planets.name)"
   ]
  },
  {
   "cell_type": "markdown",
   "id": "2c39e75f-4469-4ada-bfbe-2492aa3be822",
   "metadata": {},
   "source": [
    "The pandas `Series` bears similarities to the `DataFrame`, but the `Series` handles data one-dimensionally – like Python's `list`.\n",
    "\n",
    "And like the `list`, the `DataFrame`, and the `Index`, the `Series` provides methods of its own.\n",
    "\n",
    "We can also extract the next feature, representing the distances of these planets from the sun, in 10<sup>6</sup> km."
   ]
  },
  {
   "cell_type": "code",
   "execution_count": 7,
   "id": "cd4339f2-18ed-4092-ba8e-bd759e321482",
   "metadata": {},
   "outputs": [
    {
     "data": {
      "text/plain": [
       "0      57.9\n",
       "1     108.2\n",
       "2     149.6\n",
       "3     227.9\n",
       "4     778.6\n",
       "5    1433.5\n",
       "6    2872.5\n",
       "7    4495.1\n",
       "Name: solar_distance_km_6, dtype: float64"
      ]
     },
     "execution_count": 7,
     "metadata": {},
     "output_type": "execute_result"
    }
   ],
   "source": [
    "planets.solar_distance_km_6"
   ]
  },
  {
   "cell_type": "markdown",
   "id": "5ecfa8c2-f2d9-4c3c-8b28-6f1ff4968e8e",
   "metadata": {},
   "source": [
    "And we can compute aggregates of this data, such as the average or *mean*, thanks to the `Series` method, `mean`."
   ]
  },
  {
   "cell_type": "code",
   "execution_count": 8,
   "id": "135c28c8-37e0-4f89-bddc-bf50ad862835",
   "metadata": {},
   "outputs": [
    {
     "data": {
      "text/plain": [
       "1265.4125000000001"
      ]
     },
     "execution_count": 8,
     "metadata": {},
     "output_type": "execute_result"
    }
   ],
   "source": [
    "planets.solar_distance_km_6.mean()"
   ]
  },
  {
   "cell_type": "markdown",
   "id": "1d4584fc-23dd-4315-b61e-796290708161",
   "metadata": {},
   "source": [
    "## Feature selection\n",
    "\n",
    "We can also extract multiple features from our `DataFrame`, to produce another two-dimensional `DataFrame`, consisting of only the features specified.\n",
    "\n",
    "This can also be achieved via dictionary subscription, specifying a `list` of features to include in the resulting `DataFrame`."
   ]
  },
  {
   "cell_type": "code",
   "execution_count": 9,
   "id": "45ff93ce-6ba5-41d9-ab97-91c897590997",
   "metadata": {},
   "outputs": [
    {
     "data": {
      "text/html": [
       "<div>\n",
       "<style scoped>\n",
       "    .dataframe tbody tr th:only-of-type {\n",
       "        vertical-align: middle;\n",
       "    }\n",
       "\n",
       "    .dataframe tbody tr th {\n",
       "        vertical-align: top;\n",
       "    }\n",
       "\n",
       "    .dataframe thead th {\n",
       "        text-align: right;\n",
       "    }\n",
       "</style>\n",
       "<table border=\"1\" class=\"dataframe\">\n",
       "  <thead>\n",
       "    <tr style=\"text-align: right;\">\n",
       "      <th></th>\n",
       "      <th>name</th>\n",
       "      <th>solar_distance_km_6</th>\n",
       "    </tr>\n",
       "  </thead>\n",
       "  <tbody>\n",
       "    <tr>\n",
       "      <th>0</th>\n",
       "      <td>Mercury</td>\n",
       "      <td>57.9</td>\n",
       "    </tr>\n",
       "    <tr>\n",
       "      <th>1</th>\n",
       "      <td>Venus</td>\n",
       "      <td>108.2</td>\n",
       "    </tr>\n",
       "    <tr>\n",
       "      <th>2</th>\n",
       "      <td>Earth</td>\n",
       "      <td>149.6</td>\n",
       "    </tr>\n",
       "    <tr>\n",
       "      <th>3</th>\n",
       "      <td>Mars</td>\n",
       "      <td>227.9</td>\n",
       "    </tr>\n",
       "    <tr>\n",
       "      <th>4</th>\n",
       "      <td>Jupiter</td>\n",
       "      <td>778.6</td>\n",
       "    </tr>\n",
       "    <tr>\n",
       "      <th>5</th>\n",
       "      <td>Saturn</td>\n",
       "      <td>1433.5</td>\n",
       "    </tr>\n",
       "    <tr>\n",
       "      <th>6</th>\n",
       "      <td>Uranus</td>\n",
       "      <td>2872.5</td>\n",
       "    </tr>\n",
       "    <tr>\n",
       "      <th>7</th>\n",
       "      <td>Neptune</td>\n",
       "      <td>4495.1</td>\n",
       "    </tr>\n",
       "  </tbody>\n",
       "</table>\n",
       "</div>"
      ],
      "text/plain": [
       "      name  solar_distance_km_6\n",
       "0  Mercury                 57.9\n",
       "1    Venus                108.2\n",
       "2    Earth                149.6\n",
       "3     Mars                227.9\n",
       "4  Jupiter                778.6\n",
       "5   Saturn               1433.5\n",
       "6   Uranus               2872.5\n",
       "7  Neptune               4495.1"
      ]
     },
     "execution_count": 9,
     "metadata": {},
     "output_type": "execute_result"
    }
   ],
   "source": [
    "planets[['name', 'solar_distance_km_6']]"
   ]
  },
  {
   "cell_type": "markdown",
   "id": "ca7d8ea6-a7ee-4b60-9978-30257d6ed339",
   "metadata": {},
   "source": [
    ":::{attention}\n",
    "Above we doubled our square brackets – the outer set indicating the subscription operation and the inner set the `list` of features to include in our slice.\n",
    "\n",
    "Omission of either set of brackets will result in an error.\n",
    ":::"
   ]
  },
  {
   "cell_type": "markdown",
   "id": "317f6c6b-2cbc-46cc-8241-7dd9e3742b30",
   "metadata": {},
   "source": [
    "In subsequent sections we'll learn more methods of slicing a `DataFrame` – such as `loc` – in [](../5/Select_Label.ipynb)."
   ]
  }
 ],
 "metadata": {
  "kernelspec": {
   "display_name": "Python 3 (ipykernel)",
   "language": "python",
   "name": "python3"
  },
  "language_info": {
   "codemirror_mode": {
    "name": "ipython",
    "version": 3
   },
   "file_extension": ".py",
   "mimetype": "text/x-python",
   "name": "python",
   "nbconvert_exporter": "python",
   "pygments_lexer": "ipython3",
   "version": "3.10.6"
  }
 },
 "nbformat": 4,
 "nbformat_minor": 5
}
