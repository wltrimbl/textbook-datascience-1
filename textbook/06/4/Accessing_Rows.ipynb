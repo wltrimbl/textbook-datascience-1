{
 "cells": [
  {
   "cell_type": "markdown",
   "id": "9ce86c38-4410-4615-a8e9-5ef83e43830a",
   "metadata": {},
   "source": [
    "# Accessing Rows\n",
    "\n",
    "The second dimension of our data consists of its rows or *individuals*.\n",
    "\n",
    "## The index\n",
    "\n",
    "As you'll recall from [Creating a DataFrame](../1/Creating_DataFrame.html#the-index) – and just as it did for our columns – pandas has constructed an index for our rows.\n",
    "\n",
    "By default, the values of this index are the familiar `0, 1, 2, …`, and represented by the `RangeIndex` type."
   ]
  },
  {
   "cell_type": "code",
   "execution_count": 1,
   "id": "2c2a1c28-6811-4b1b-ba1d-5e91dabd327a",
   "metadata": {
    "tags": [
     "remove-cell"
    ]
   },
   "outputs": [],
   "source": [
    "# cell hidden by tag\n",
    "import pandas as pd\n",
    "\n",
    "planets_dict = {\n",
    "    'name': ['Mercury', 'Venus', 'Earth', 'Mars', 'Jupiter', 'Saturn', 'Uranus', 'Neptune'],\n",
    "    'solar_distance_km_6': [57.9, 108.2, 149.6, 227.9, 778.6, 1433.5, 2872.5, 4495.1],\n",
    "    'mass_kg_24': [0.33, 4.87, 5.97, 0.642, 1898.0, 568.0, 86.8, 102.0],\n",
    "    'density_kg_m3': [5427.0, 5243.0, 5514.0, 3933.0, 1326.0, 687.0, 1271.0, 1638.0],\n",
    "    'gravity_m_s2': [3.7, 8.9, 9.8, 3.7, 23.1, 9.0, 8.7, 11.0],\n",
    "}\n",
    "\n",
    "planets = pd.DataFrame(planets_dict)"
   ]
  },
  {
   "cell_type": "code",
   "execution_count": 2,
   "id": "c371853a-071a-46a0-a05f-018304b0c229",
   "metadata": {},
   "outputs": [
    {
     "data": {
      "text/plain": [
       "RangeIndex(start=0, stop=8, step=1)"
      ]
     },
     "execution_count": 2,
     "metadata": {},
     "output_type": "execute_result"
    }
   ],
   "source": [
    "planets.index"
   ]
  },
  {
   "cell_type": "markdown",
   "id": "67ebe184-9a52-4509-a4b8-8554855c9ed4",
   "metadata": {},
   "source": [
    "But we can always set alternative indices."
   ]
  },
  {
   "cell_type": "code",
   "execution_count": 3,
   "id": "5ee36dca-0efb-46c8-8d17-2c00944dd868",
   "metadata": {},
   "outputs": [
    {
     "data": {
      "text/plain": [
       "RangeIndex(start=1, stop=9, step=1, name='number')"
      ]
     },
     "execution_count": 3,
     "metadata": {},
     "output_type": "execute_result"
    }
   ],
   "source": [
    "planets_natural = planets.set_index(pd.RangeIndex(1, 9, name='number'))\n",
    "\n",
    "planets_natural.index"
   ]
  },
  {
   "cell_type": "code",
   "execution_count": 4,
   "id": "ed37f249-8615-4b16-b0b7-1680c38779f5",
   "metadata": {},
   "outputs": [
    {
     "data": {
      "text/plain": [
       "Index(['Mercury', 'Venus', 'Earth', 'Mars', 'Jupiter', 'Saturn', 'Uranus',\n",
       "       'Neptune'],\n",
       "      dtype='object', name='name')"
      ]
     },
     "execution_count": 4,
     "metadata": {},
     "output_type": "execute_result"
    }
   ],
   "source": [
    "planets_named = planets.set_index('name')\n",
    "\n",
    "planets_named.index"
   ]
  },
  {
   "cell_type": "markdown",
   "id": "64b8f7fb-b008-4471-ae7c-a4de664045ae",
   "metadata": {},
   "source": [
    "## Counting\n",
    "\n",
    "As with the `list`, we can use the built-in function `len` to see that there are eight planets."
   ]
  },
  {
   "cell_type": "code",
   "execution_count": 5,
   "id": "99165f06-2808-4bad-b56c-09ab72924570",
   "metadata": {},
   "outputs": [
    {
     "data": {
      "text/plain": [
       "8"
      ]
     },
     "execution_count": 5,
     "metadata": {},
     "output_type": "execute_result"
    }
   ],
   "source": [
    "len(planets)"
   ]
  },
  {
   "cell_type": "markdown",
   "id": "364748dc-b133-4e44-b62c-54eb78dcd278",
   "metadata": {},
   "source": [
    "## Slicing\n",
    "\n",
    "We can also *slice* the `DataFrame`, for example to extract only its first three rows."
   ]
  },
  {
   "cell_type": "code",
   "execution_count": 6,
   "id": "6291ba0f-d156-4522-839c-80a13522d7f9",
   "metadata": {},
   "outputs": [
    {
     "data": {
      "text/html": [
       "<div>\n",
       "<style scoped>\n",
       "    .dataframe tbody tr th:only-of-type {\n",
       "        vertical-align: middle;\n",
       "    }\n",
       "\n",
       "    .dataframe tbody tr th {\n",
       "        vertical-align: top;\n",
       "    }\n",
       "\n",
       "    .dataframe thead th {\n",
       "        text-align: right;\n",
       "    }\n",
       "</style>\n",
       "<table border=\"1\" class=\"dataframe\">\n",
       "  <thead>\n",
       "    <tr style=\"text-align: right;\">\n",
       "      <th></th>\n",
       "      <th>name</th>\n",
       "      <th>solar_distance_km_6</th>\n",
       "      <th>mass_kg_24</th>\n",
       "      <th>density_kg_m3</th>\n",
       "      <th>gravity_m_s2</th>\n",
       "    </tr>\n",
       "  </thead>\n",
       "  <tbody>\n",
       "    <tr>\n",
       "      <th>0</th>\n",
       "      <td>Mercury</td>\n",
       "      <td>57.9</td>\n",
       "      <td>0.33</td>\n",
       "      <td>5427.0</td>\n",
       "      <td>3.7</td>\n",
       "    </tr>\n",
       "    <tr>\n",
       "      <th>1</th>\n",
       "      <td>Venus</td>\n",
       "      <td>108.2</td>\n",
       "      <td>4.87</td>\n",
       "      <td>5243.0</td>\n",
       "      <td>8.9</td>\n",
       "    </tr>\n",
       "    <tr>\n",
       "      <th>2</th>\n",
       "      <td>Earth</td>\n",
       "      <td>149.6</td>\n",
       "      <td>5.97</td>\n",
       "      <td>5514.0</td>\n",
       "      <td>9.8</td>\n",
       "    </tr>\n",
       "  </tbody>\n",
       "</table>\n",
       "</div>"
      ],
      "text/plain": [
       "      name  solar_distance_km_6  mass_kg_24  density_kg_m3  gravity_m_s2\n",
       "0  Mercury                 57.9        0.33         5427.0           3.7\n",
       "1    Venus                108.2        4.87         5243.0           8.9\n",
       "2    Earth                149.6        5.97         5514.0           9.8"
      ]
     },
     "execution_count": 6,
     "metadata": {},
     "output_type": "execute_result"
    }
   ],
   "source": [
    "planets[:3]"
   ]
  },
  {
   "cell_type": "markdown",
   "id": "4575a071-6b9c-4fb5-b604-a5fee94e352d",
   "metadata": {},
   "source": [
    "Above, our slice has constructed a new `DataFrame`, consisting of only the data for the first three planets.\n",
    "\n",
    "This works the same with our alternative indices – generic row slices step through the index **regardless of the values within the index**."
   ]
  },
  {
   "cell_type": "code",
   "execution_count": 7,
   "id": "e87322df-901b-49c5-81aa-444ee0cb8a1f",
   "metadata": {},
   "outputs": [
    {
     "data": {
      "text/html": [
       "<div>\n",
       "<style scoped>\n",
       "    .dataframe tbody tr th:only-of-type {\n",
       "        vertical-align: middle;\n",
       "    }\n",
       "\n",
       "    .dataframe tbody tr th {\n",
       "        vertical-align: top;\n",
       "    }\n",
       "\n",
       "    .dataframe thead th {\n",
       "        text-align: right;\n",
       "    }\n",
       "</style>\n",
       "<table border=\"1\" class=\"dataframe\">\n",
       "  <thead>\n",
       "    <tr style=\"text-align: right;\">\n",
       "      <th></th>\n",
       "      <th>name</th>\n",
       "      <th>solar_distance_km_6</th>\n",
       "      <th>mass_kg_24</th>\n",
       "      <th>density_kg_m3</th>\n",
       "      <th>gravity_m_s2</th>\n",
       "    </tr>\n",
       "    <tr>\n",
       "      <th>number</th>\n",
       "      <th></th>\n",
       "      <th></th>\n",
       "      <th></th>\n",
       "      <th></th>\n",
       "      <th></th>\n",
       "    </tr>\n",
       "  </thead>\n",
       "  <tbody>\n",
       "    <tr>\n",
       "      <th>1</th>\n",
       "      <td>Mercury</td>\n",
       "      <td>57.9</td>\n",
       "      <td>0.33</td>\n",
       "      <td>5427.0</td>\n",
       "      <td>3.7</td>\n",
       "    </tr>\n",
       "    <tr>\n",
       "      <th>2</th>\n",
       "      <td>Venus</td>\n",
       "      <td>108.2</td>\n",
       "      <td>4.87</td>\n",
       "      <td>5243.0</td>\n",
       "      <td>8.9</td>\n",
       "    </tr>\n",
       "    <tr>\n",
       "      <th>3</th>\n",
       "      <td>Earth</td>\n",
       "      <td>149.6</td>\n",
       "      <td>5.97</td>\n",
       "      <td>5514.0</td>\n",
       "      <td>9.8</td>\n",
       "    </tr>\n",
       "  </tbody>\n",
       "</table>\n",
       "</div>"
      ],
      "text/plain": [
       "           name  solar_distance_km_6  mass_kg_24  density_kg_m3  gravity_m_s2\n",
       "number                                                                       \n",
       "1       Mercury                 57.9        0.33         5427.0           3.7\n",
       "2         Venus                108.2        4.87         5243.0           8.9\n",
       "3         Earth                149.6        5.97         5514.0           9.8"
      ]
     },
     "execution_count": 7,
     "metadata": {},
     "output_type": "execute_result"
    }
   ],
   "source": [
    "planets_natural[:3]"
   ]
  },
  {
   "cell_type": "code",
   "execution_count": 8,
   "id": "78bf23f4-7df4-48b7-8dc0-331263411d16",
   "metadata": {},
   "outputs": [
    {
     "data": {
      "text/html": [
       "<div>\n",
       "<style scoped>\n",
       "    .dataframe tbody tr th:only-of-type {\n",
       "        vertical-align: middle;\n",
       "    }\n",
       "\n",
       "    .dataframe tbody tr th {\n",
       "        vertical-align: top;\n",
       "    }\n",
       "\n",
       "    .dataframe thead th {\n",
       "        text-align: right;\n",
       "    }\n",
       "</style>\n",
       "<table border=\"1\" class=\"dataframe\">\n",
       "  <thead>\n",
       "    <tr style=\"text-align: right;\">\n",
       "      <th></th>\n",
       "      <th>solar_distance_km_6</th>\n",
       "      <th>mass_kg_24</th>\n",
       "      <th>density_kg_m3</th>\n",
       "      <th>gravity_m_s2</th>\n",
       "    </tr>\n",
       "    <tr>\n",
       "      <th>name</th>\n",
       "      <th></th>\n",
       "      <th></th>\n",
       "      <th></th>\n",
       "      <th></th>\n",
       "    </tr>\n",
       "  </thead>\n",
       "  <tbody>\n",
       "    <tr>\n",
       "      <th>Mercury</th>\n",
       "      <td>57.9</td>\n",
       "      <td>0.33</td>\n",
       "      <td>5427.0</td>\n",
       "      <td>3.7</td>\n",
       "    </tr>\n",
       "    <tr>\n",
       "      <th>Venus</th>\n",
       "      <td>108.2</td>\n",
       "      <td>4.87</td>\n",
       "      <td>5243.0</td>\n",
       "      <td>8.9</td>\n",
       "    </tr>\n",
       "    <tr>\n",
       "      <th>Earth</th>\n",
       "      <td>149.6</td>\n",
       "      <td>5.97</td>\n",
       "      <td>5514.0</td>\n",
       "      <td>9.8</td>\n",
       "    </tr>\n",
       "  </tbody>\n",
       "</table>\n",
       "</div>"
      ],
      "text/plain": [
       "         solar_distance_km_6  mass_kg_24  density_kg_m3  gravity_m_s2\n",
       "name                                                                 \n",
       "Mercury                 57.9        0.33         5427.0           3.7\n",
       "Venus                  108.2        4.87         5243.0           8.9\n",
       "Earth                  149.6        5.97         5514.0           9.8"
      ]
     },
     "execution_count": 8,
     "metadata": {},
     "output_type": "execute_result"
    }
   ],
   "source": [
    "planets_named[:3]"
   ]
  },
  {
   "cell_type": "markdown",
   "id": "be3527ba-c9c6-45ac-acb8-cdf14a340641",
   "metadata": {},
   "source": [
    "Of course, [slices may be more sophisticated](../../04/1/Lists.html#slices) than the above."
   ]
  },
  {
   "cell_type": "code",
   "execution_count": 9,
   "id": "842a5300-abd2-4392-8546-07d16f8045a1",
   "metadata": {},
   "outputs": [
    {
     "data": {
      "text/html": [
       "<div>\n",
       "<style scoped>\n",
       "    .dataframe tbody tr th:only-of-type {\n",
       "        vertical-align: middle;\n",
       "    }\n",
       "\n",
       "    .dataframe tbody tr th {\n",
       "        vertical-align: top;\n",
       "    }\n",
       "\n",
       "    .dataframe thead th {\n",
       "        text-align: right;\n",
       "    }\n",
       "</style>\n",
       "<table border=\"1\" class=\"dataframe\">\n",
       "  <thead>\n",
       "    <tr style=\"text-align: right;\">\n",
       "      <th></th>\n",
       "      <th>solar_distance_km_6</th>\n",
       "      <th>mass_kg_24</th>\n",
       "      <th>density_kg_m3</th>\n",
       "      <th>gravity_m_s2</th>\n",
       "    </tr>\n",
       "    <tr>\n",
       "      <th>name</th>\n",
       "      <th></th>\n",
       "      <th></th>\n",
       "      <th></th>\n",
       "      <th></th>\n",
       "    </tr>\n",
       "  </thead>\n",
       "  <tbody>\n",
       "    <tr>\n",
       "      <th>Earth</th>\n",
       "      <td>149.6</td>\n",
       "      <td>5.970</td>\n",
       "      <td>5514.0</td>\n",
       "      <td>9.8</td>\n",
       "    </tr>\n",
       "    <tr>\n",
       "      <th>Mars</th>\n",
       "      <td>227.9</td>\n",
       "      <td>0.642</td>\n",
       "      <td>3933.0</td>\n",
       "      <td>3.7</td>\n",
       "    </tr>\n",
       "    <tr>\n",
       "      <th>Jupiter</th>\n",
       "      <td>778.6</td>\n",
       "      <td>1898.000</td>\n",
       "      <td>1326.0</td>\n",
       "      <td>23.1</td>\n",
       "    </tr>\n",
       "  </tbody>\n",
       "</table>\n",
       "</div>"
      ],
      "text/plain": [
       "         solar_distance_km_6  mass_kg_24  density_kg_m3  gravity_m_s2\n",
       "name                                                                 \n",
       "Earth                  149.6       5.970         5514.0           9.8\n",
       "Mars                   227.9       0.642         3933.0           3.7\n",
       "Jupiter                778.6    1898.000         1326.0          23.1"
      ]
     },
     "execution_count": 9,
     "metadata": {},
     "output_type": "execute_result"
    }
   ],
   "source": [
    "planets_named[2:5]"
   ]
  },
  {
   "cell_type": "code",
   "execution_count": 10,
   "id": "272599ff-50a7-4667-887b-ccc201ed66f0",
   "metadata": {},
   "outputs": [
    {
     "data": {
      "text/html": [
       "<div>\n",
       "<style scoped>\n",
       "    .dataframe tbody tr th:only-of-type {\n",
       "        vertical-align: middle;\n",
       "    }\n",
       "\n",
       "    .dataframe tbody tr th {\n",
       "        vertical-align: top;\n",
       "    }\n",
       "\n",
       "    .dataframe thead th {\n",
       "        text-align: right;\n",
       "    }\n",
       "</style>\n",
       "<table border=\"1\" class=\"dataframe\">\n",
       "  <thead>\n",
       "    <tr style=\"text-align: right;\">\n",
       "      <th></th>\n",
       "      <th>solar_distance_km_6</th>\n",
       "      <th>mass_kg_24</th>\n",
       "      <th>density_kg_m3</th>\n",
       "      <th>gravity_m_s2</th>\n",
       "    </tr>\n",
       "    <tr>\n",
       "      <th>name</th>\n",
       "      <th></th>\n",
       "      <th></th>\n",
       "      <th></th>\n",
       "      <th></th>\n",
       "    </tr>\n",
       "  </thead>\n",
       "  <tbody>\n",
       "    <tr>\n",
       "      <th>Mercury</th>\n",
       "      <td>57.9</td>\n",
       "      <td>0.33</td>\n",
       "      <td>5427.0</td>\n",
       "      <td>3.7</td>\n",
       "    </tr>\n",
       "    <tr>\n",
       "      <th>Earth</th>\n",
       "      <td>149.6</td>\n",
       "      <td>5.97</td>\n",
       "      <td>5514.0</td>\n",
       "      <td>9.8</td>\n",
       "    </tr>\n",
       "    <tr>\n",
       "      <th>Jupiter</th>\n",
       "      <td>778.6</td>\n",
       "      <td>1898.00</td>\n",
       "      <td>1326.0</td>\n",
       "      <td>23.1</td>\n",
       "    </tr>\n",
       "    <tr>\n",
       "      <th>Uranus</th>\n",
       "      <td>2872.5</td>\n",
       "      <td>86.80</td>\n",
       "      <td>1271.0</td>\n",
       "      <td>8.7</td>\n",
       "    </tr>\n",
       "  </tbody>\n",
       "</table>\n",
       "</div>"
      ],
      "text/plain": [
       "         solar_distance_km_6  mass_kg_24  density_kg_m3  gravity_m_s2\n",
       "name                                                                 \n",
       "Mercury                 57.9        0.33         5427.0           3.7\n",
       "Earth                  149.6        5.97         5514.0           9.8\n",
       "Jupiter                778.6     1898.00         1326.0          23.1\n",
       "Uranus                2872.5       86.80         1271.0           8.7"
      ]
     },
     "execution_count": 10,
     "metadata": {},
     "output_type": "execute_result"
    }
   ],
   "source": [
    "planets_named[::2]"
   ]
  },
  {
   "cell_type": "markdown",
   "id": "a0c8aba1-3e69-42ef-82c8-c4cb65550f12",
   "metadata": {},
   "source": [
    "### Head & Tail\n",
    "\n",
    "But as a shortcut to inspecting just the first few – or last few – rows of a `DataFrame`, there are the methods `head` and `tail`."
   ]
  },
  {
   "cell_type": "code",
   "execution_count": 11,
   "id": "ed6ca4a5-4558-40f9-a45a-429ac9b3a205",
   "metadata": {},
   "outputs": [
    {
     "data": {
      "text/html": [
       "<div>\n",
       "<style scoped>\n",
       "    .dataframe tbody tr th:only-of-type {\n",
       "        vertical-align: middle;\n",
       "    }\n",
       "\n",
       "    .dataframe tbody tr th {\n",
       "        vertical-align: top;\n",
       "    }\n",
       "\n",
       "    .dataframe thead th {\n",
       "        text-align: right;\n",
       "    }\n",
       "</style>\n",
       "<table border=\"1\" class=\"dataframe\">\n",
       "  <thead>\n",
       "    <tr style=\"text-align: right;\">\n",
       "      <th></th>\n",
       "      <th>solar_distance_km_6</th>\n",
       "      <th>mass_kg_24</th>\n",
       "      <th>density_kg_m3</th>\n",
       "      <th>gravity_m_s2</th>\n",
       "    </tr>\n",
       "    <tr>\n",
       "      <th>name</th>\n",
       "      <th></th>\n",
       "      <th></th>\n",
       "      <th></th>\n",
       "      <th></th>\n",
       "    </tr>\n",
       "  </thead>\n",
       "  <tbody>\n",
       "    <tr>\n",
       "      <th>Mercury</th>\n",
       "      <td>57.9</td>\n",
       "      <td>0.330</td>\n",
       "      <td>5427.0</td>\n",
       "      <td>3.7</td>\n",
       "    </tr>\n",
       "    <tr>\n",
       "      <th>Venus</th>\n",
       "      <td>108.2</td>\n",
       "      <td>4.870</td>\n",
       "      <td>5243.0</td>\n",
       "      <td>8.9</td>\n",
       "    </tr>\n",
       "    <tr>\n",
       "      <th>Earth</th>\n",
       "      <td>149.6</td>\n",
       "      <td>5.970</td>\n",
       "      <td>5514.0</td>\n",
       "      <td>9.8</td>\n",
       "    </tr>\n",
       "    <tr>\n",
       "      <th>Mars</th>\n",
       "      <td>227.9</td>\n",
       "      <td>0.642</td>\n",
       "      <td>3933.0</td>\n",
       "      <td>3.7</td>\n",
       "    </tr>\n",
       "    <tr>\n",
       "      <th>Jupiter</th>\n",
       "      <td>778.6</td>\n",
       "      <td>1898.000</td>\n",
       "      <td>1326.0</td>\n",
       "      <td>23.1</td>\n",
       "    </tr>\n",
       "  </tbody>\n",
       "</table>\n",
       "</div>"
      ],
      "text/plain": [
       "         solar_distance_km_6  mass_kg_24  density_kg_m3  gravity_m_s2\n",
       "name                                                                 \n",
       "Mercury                 57.9       0.330         5427.0           3.7\n",
       "Venus                  108.2       4.870         5243.0           8.9\n",
       "Earth                  149.6       5.970         5514.0           9.8\n",
       "Mars                   227.9       0.642         3933.0           3.7\n",
       "Jupiter                778.6    1898.000         1326.0          23.1"
      ]
     },
     "execution_count": 11,
     "metadata": {},
     "output_type": "execute_result"
    }
   ],
   "source": [
    "planets_named.head()"
   ]
  },
  {
   "cell_type": "code",
   "execution_count": 12,
   "id": "b1aee65e-bd8a-4c5e-905a-3aec2ad6433a",
   "metadata": {},
   "outputs": [
    {
     "data": {
      "text/html": [
       "<div>\n",
       "<style scoped>\n",
       "    .dataframe tbody tr th:only-of-type {\n",
       "        vertical-align: middle;\n",
       "    }\n",
       "\n",
       "    .dataframe tbody tr th {\n",
       "        vertical-align: top;\n",
       "    }\n",
       "\n",
       "    .dataframe thead th {\n",
       "        text-align: right;\n",
       "    }\n",
       "</style>\n",
       "<table border=\"1\" class=\"dataframe\">\n",
       "  <thead>\n",
       "    <tr style=\"text-align: right;\">\n",
       "      <th></th>\n",
       "      <th>solar_distance_km_6</th>\n",
       "      <th>mass_kg_24</th>\n",
       "      <th>density_kg_m3</th>\n",
       "      <th>gravity_m_s2</th>\n",
       "    </tr>\n",
       "    <tr>\n",
       "      <th>name</th>\n",
       "      <th></th>\n",
       "      <th></th>\n",
       "      <th></th>\n",
       "      <th></th>\n",
       "    </tr>\n",
       "  </thead>\n",
       "  <tbody>\n",
       "    <tr>\n",
       "      <th>Mars</th>\n",
       "      <td>227.9</td>\n",
       "      <td>0.642</td>\n",
       "      <td>3933.0</td>\n",
       "      <td>3.7</td>\n",
       "    </tr>\n",
       "    <tr>\n",
       "      <th>Jupiter</th>\n",
       "      <td>778.6</td>\n",
       "      <td>1898.000</td>\n",
       "      <td>1326.0</td>\n",
       "      <td>23.1</td>\n",
       "    </tr>\n",
       "    <tr>\n",
       "      <th>Saturn</th>\n",
       "      <td>1433.5</td>\n",
       "      <td>568.000</td>\n",
       "      <td>687.0</td>\n",
       "      <td>9.0</td>\n",
       "    </tr>\n",
       "    <tr>\n",
       "      <th>Uranus</th>\n",
       "      <td>2872.5</td>\n",
       "      <td>86.800</td>\n",
       "      <td>1271.0</td>\n",
       "      <td>8.7</td>\n",
       "    </tr>\n",
       "    <tr>\n",
       "      <th>Neptune</th>\n",
       "      <td>4495.1</td>\n",
       "      <td>102.000</td>\n",
       "      <td>1638.0</td>\n",
       "      <td>11.0</td>\n",
       "    </tr>\n",
       "  </tbody>\n",
       "</table>\n",
       "</div>"
      ],
      "text/plain": [
       "         solar_distance_km_6  mass_kg_24  density_kg_m3  gravity_m_s2\n",
       "name                                                                 \n",
       "Mars                   227.9       0.642         3933.0           3.7\n",
       "Jupiter                778.6    1898.000         1326.0          23.1\n",
       "Saturn                1433.5     568.000          687.0           9.0\n",
       "Uranus                2872.5      86.800         1271.0           8.7\n",
       "Neptune               4495.1     102.000         1638.0          11.0"
      ]
     },
     "execution_count": 12,
     "metadata": {},
     "output_type": "execute_result"
    }
   ],
   "source": [
    "planets_named.tail()"
   ]
  },
  {
   "cell_type": "markdown",
   "id": "72c8f6b8-1c3d-4920-ad9f-978a83adbad6",
   "metadata": {},
   "source": [
    "By default, these methods display the first or last five rows. This number may also be specified."
   ]
  },
  {
   "cell_type": "code",
   "execution_count": 13,
   "id": "862502ef-394d-47a8-b7c4-6c5c1c4f7c36",
   "metadata": {},
   "outputs": [
    {
     "data": {
      "text/html": [
       "<div>\n",
       "<style scoped>\n",
       "    .dataframe tbody tr th:only-of-type {\n",
       "        vertical-align: middle;\n",
       "    }\n",
       "\n",
       "    .dataframe tbody tr th {\n",
       "        vertical-align: top;\n",
       "    }\n",
       "\n",
       "    .dataframe thead th {\n",
       "        text-align: right;\n",
       "    }\n",
       "</style>\n",
       "<table border=\"1\" class=\"dataframe\">\n",
       "  <thead>\n",
       "    <tr style=\"text-align: right;\">\n",
       "      <th></th>\n",
       "      <th>solar_distance_km_6</th>\n",
       "      <th>mass_kg_24</th>\n",
       "      <th>density_kg_m3</th>\n",
       "      <th>gravity_m_s2</th>\n",
       "    </tr>\n",
       "    <tr>\n",
       "      <th>name</th>\n",
       "      <th></th>\n",
       "      <th></th>\n",
       "      <th></th>\n",
       "      <th></th>\n",
       "    </tr>\n",
       "  </thead>\n",
       "  <tbody>\n",
       "    <tr>\n",
       "      <th>Mercury</th>\n",
       "      <td>57.9</td>\n",
       "      <td>0.33</td>\n",
       "      <td>5427.0</td>\n",
       "      <td>3.7</td>\n",
       "    </tr>\n",
       "    <tr>\n",
       "      <th>Venus</th>\n",
       "      <td>108.2</td>\n",
       "      <td>4.87</td>\n",
       "      <td>5243.0</td>\n",
       "      <td>8.9</td>\n",
       "    </tr>\n",
       "  </tbody>\n",
       "</table>\n",
       "</div>"
      ],
      "text/plain": [
       "         solar_distance_km_6  mass_kg_24  density_kg_m3  gravity_m_s2\n",
       "name                                                                 \n",
       "Mercury                 57.9        0.33         5427.0           3.7\n",
       "Venus                  108.2        4.87         5243.0           8.9"
      ]
     },
     "execution_count": 13,
     "metadata": {},
     "output_type": "execute_result"
    }
   ],
   "source": [
    "planets_named.head(2)"
   ]
  },
  {
   "cell_type": "code",
   "execution_count": 14,
   "id": "4b7a08f0-51fb-4f1f-b8d6-4eb8a27aa2ff",
   "metadata": {},
   "outputs": [
    {
     "data": {
      "text/html": [
       "<div>\n",
       "<style scoped>\n",
       "    .dataframe tbody tr th:only-of-type {\n",
       "        vertical-align: middle;\n",
       "    }\n",
       "\n",
       "    .dataframe tbody tr th {\n",
       "        vertical-align: top;\n",
       "    }\n",
       "\n",
       "    .dataframe thead th {\n",
       "        text-align: right;\n",
       "    }\n",
       "</style>\n",
       "<table border=\"1\" class=\"dataframe\">\n",
       "  <thead>\n",
       "    <tr style=\"text-align: right;\">\n",
       "      <th></th>\n",
       "      <th>solar_distance_km_6</th>\n",
       "      <th>mass_kg_24</th>\n",
       "      <th>density_kg_m3</th>\n",
       "      <th>gravity_m_s2</th>\n",
       "    </tr>\n",
       "    <tr>\n",
       "      <th>name</th>\n",
       "      <th></th>\n",
       "      <th></th>\n",
       "      <th></th>\n",
       "      <th></th>\n",
       "    </tr>\n",
       "  </thead>\n",
       "  <tbody>\n",
       "    <tr>\n",
       "      <th>Uranus</th>\n",
       "      <td>2872.5</td>\n",
       "      <td>86.8</td>\n",
       "      <td>1271.0</td>\n",
       "      <td>8.7</td>\n",
       "    </tr>\n",
       "    <tr>\n",
       "      <th>Neptune</th>\n",
       "      <td>4495.1</td>\n",
       "      <td>102.0</td>\n",
       "      <td>1638.0</td>\n",
       "      <td>11.0</td>\n",
       "    </tr>\n",
       "  </tbody>\n",
       "</table>\n",
       "</div>"
      ],
      "text/plain": [
       "         solar_distance_km_6  mass_kg_24  density_kg_m3  gravity_m_s2\n",
       "name                                                                 \n",
       "Uranus                2872.5        86.8         1271.0           8.7\n",
       "Neptune               4495.1       102.0         1638.0          11.0"
      ]
     },
     "execution_count": 14,
     "metadata": {},
     "output_type": "execute_result"
    }
   ],
   "source": [
    "planets_named.tail(2)"
   ]
  },
  {
   "cell_type": "markdown",
   "id": "c27116b3-8434-41ea-b981-3c0a1770566e",
   "metadata": {},
   "source": [
    "As with slices, even negative integers are supported – to display _all but_ the first or last `n` rows."
   ]
  },
  {
   "cell_type": "code",
   "execution_count": 15,
   "id": "91559030-ed45-41e2-8e42-08a2915b3905",
   "metadata": {},
   "outputs": [
    {
     "data": {
      "text/html": [
       "<div>\n",
       "<style scoped>\n",
       "    .dataframe tbody tr th:only-of-type {\n",
       "        vertical-align: middle;\n",
       "    }\n",
       "\n",
       "    .dataframe tbody tr th {\n",
       "        vertical-align: top;\n",
       "    }\n",
       "\n",
       "    .dataframe thead th {\n",
       "        text-align: right;\n",
       "    }\n",
       "</style>\n",
       "<table border=\"1\" class=\"dataframe\">\n",
       "  <thead>\n",
       "    <tr style=\"text-align: right;\">\n",
       "      <th></th>\n",
       "      <th>solar_distance_km_6</th>\n",
       "      <th>mass_kg_24</th>\n",
       "      <th>density_kg_m3</th>\n",
       "      <th>gravity_m_s2</th>\n",
       "    </tr>\n",
       "    <tr>\n",
       "      <th>name</th>\n",
       "      <th></th>\n",
       "      <th></th>\n",
       "      <th></th>\n",
       "      <th></th>\n",
       "    </tr>\n",
       "  </thead>\n",
       "  <tbody>\n",
       "    <tr>\n",
       "      <th>Mercury</th>\n",
       "      <td>57.9</td>\n",
       "      <td>0.330</td>\n",
       "      <td>5427.0</td>\n",
       "      <td>3.7</td>\n",
       "    </tr>\n",
       "    <tr>\n",
       "      <th>Venus</th>\n",
       "      <td>108.2</td>\n",
       "      <td>4.870</td>\n",
       "      <td>5243.0</td>\n",
       "      <td>8.9</td>\n",
       "    </tr>\n",
       "    <tr>\n",
       "      <th>Earth</th>\n",
       "      <td>149.6</td>\n",
       "      <td>5.970</td>\n",
       "      <td>5514.0</td>\n",
       "      <td>9.8</td>\n",
       "    </tr>\n",
       "    <tr>\n",
       "      <th>Mars</th>\n",
       "      <td>227.9</td>\n",
       "      <td>0.642</td>\n",
       "      <td>3933.0</td>\n",
       "      <td>3.7</td>\n",
       "    </tr>\n",
       "    <tr>\n",
       "      <th>Jupiter</th>\n",
       "      <td>778.6</td>\n",
       "      <td>1898.000</td>\n",
       "      <td>1326.0</td>\n",
       "      <td>23.1</td>\n",
       "    </tr>\n",
       "    <tr>\n",
       "      <th>Saturn</th>\n",
       "      <td>1433.5</td>\n",
       "      <td>568.000</td>\n",
       "      <td>687.0</td>\n",
       "      <td>9.0</td>\n",
       "    </tr>\n",
       "  </tbody>\n",
       "</table>\n",
       "</div>"
      ],
      "text/plain": [
       "         solar_distance_km_6  mass_kg_24  density_kg_m3  gravity_m_s2\n",
       "name                                                                 \n",
       "Mercury                 57.9       0.330         5427.0           3.7\n",
       "Venus                  108.2       4.870         5243.0           8.9\n",
       "Earth                  149.6       5.970         5514.0           9.8\n",
       "Mars                   227.9       0.642         3933.0           3.7\n",
       "Jupiter                778.6    1898.000         1326.0          23.1\n",
       "Saturn                1433.5     568.000          687.0           9.0"
      ]
     },
     "execution_count": 15,
     "metadata": {},
     "output_type": "execute_result"
    }
   ],
   "source": [
    "planets_named.head(-2)"
   ]
  },
  {
   "cell_type": "code",
   "execution_count": 16,
   "id": "f01d6077-6f05-488f-bb2b-f6722888a2f3",
   "metadata": {},
   "outputs": [
    {
     "data": {
      "text/html": [
       "<div>\n",
       "<style scoped>\n",
       "    .dataframe tbody tr th:only-of-type {\n",
       "        vertical-align: middle;\n",
       "    }\n",
       "\n",
       "    .dataframe tbody tr th {\n",
       "        vertical-align: top;\n",
       "    }\n",
       "\n",
       "    .dataframe thead th {\n",
       "        text-align: right;\n",
       "    }\n",
       "</style>\n",
       "<table border=\"1\" class=\"dataframe\">\n",
       "  <thead>\n",
       "    <tr style=\"text-align: right;\">\n",
       "      <th></th>\n",
       "      <th>solar_distance_km_6</th>\n",
       "      <th>mass_kg_24</th>\n",
       "      <th>density_kg_m3</th>\n",
       "      <th>gravity_m_s2</th>\n",
       "    </tr>\n",
       "    <tr>\n",
       "      <th>name</th>\n",
       "      <th></th>\n",
       "      <th></th>\n",
       "      <th></th>\n",
       "      <th></th>\n",
       "    </tr>\n",
       "  </thead>\n",
       "  <tbody>\n",
       "    <tr>\n",
       "      <th>Earth</th>\n",
       "      <td>149.6</td>\n",
       "      <td>5.970</td>\n",
       "      <td>5514.0</td>\n",
       "      <td>9.8</td>\n",
       "    </tr>\n",
       "    <tr>\n",
       "      <th>Mars</th>\n",
       "      <td>227.9</td>\n",
       "      <td>0.642</td>\n",
       "      <td>3933.0</td>\n",
       "      <td>3.7</td>\n",
       "    </tr>\n",
       "    <tr>\n",
       "      <th>Jupiter</th>\n",
       "      <td>778.6</td>\n",
       "      <td>1898.000</td>\n",
       "      <td>1326.0</td>\n",
       "      <td>23.1</td>\n",
       "    </tr>\n",
       "    <tr>\n",
       "      <th>Saturn</th>\n",
       "      <td>1433.5</td>\n",
       "      <td>568.000</td>\n",
       "      <td>687.0</td>\n",
       "      <td>9.0</td>\n",
       "    </tr>\n",
       "    <tr>\n",
       "      <th>Uranus</th>\n",
       "      <td>2872.5</td>\n",
       "      <td>86.800</td>\n",
       "      <td>1271.0</td>\n",
       "      <td>8.7</td>\n",
       "    </tr>\n",
       "    <tr>\n",
       "      <th>Neptune</th>\n",
       "      <td>4495.1</td>\n",
       "      <td>102.000</td>\n",
       "      <td>1638.0</td>\n",
       "      <td>11.0</td>\n",
       "    </tr>\n",
       "  </tbody>\n",
       "</table>\n",
       "</div>"
      ],
      "text/plain": [
       "         solar_distance_km_6  mass_kg_24  density_kg_m3  gravity_m_s2\n",
       "name                                                                 \n",
       "Earth                  149.6       5.970         5514.0           9.8\n",
       "Mars                   227.9       0.642         3933.0           3.7\n",
       "Jupiter                778.6    1898.000         1326.0          23.1\n",
       "Saturn                1433.5     568.000          687.0           9.0\n",
       "Uranus                2872.5      86.800         1271.0           8.7\n",
       "Neptune               4495.1     102.000         1638.0          11.0"
      ]
     },
     "execution_count": 16,
     "metadata": {},
     "output_type": "execute_result"
    }
   ],
   "source": [
    "planets_named.tail(-2)"
   ]
  },
  {
   "cell_type": "markdown",
   "id": "6b0b8f34-c41d-49e2-9e65-438ed385d00c",
   "metadata": {},
   "source": [
    "## Retrieving\n",
    "\n",
    ":::{attention}\n",
    "Above, we treated our `DataFrame` like Python's `list` to count and slice its rows.\n",
    "\n",
    "However, you *can't* access *individual* rows in the same manner as with a `list`.\n",
    "\n",
    "The below expression raises an exception!\n",
    "\n",
    "(Click below to view the scary traceback.)\n",
    ":::"
   ]
  },
  {
   "cell_type": "code",
   "execution_count": 17,
   "id": "8ea8188a-d085-49dc-afc7-e14d6af027d3",
   "metadata": {
    "tags": [
     "raises-exception",
     "hide-output"
    ]
   },
   "outputs": [
    {
     "ename": "KeyError",
     "evalue": "2",
     "output_type": "error",
     "traceback": [
      "\u001b[0;31m---------------------------------------------------------------------------\u001b[0m",
      "\u001b[0;31mKeyError\u001b[0m                                  Traceback (most recent call last)",
      "File \u001b[0;32m/opt/conda/lib/python3.10/site-packages/pandas/core/indexes/base.py:3803\u001b[0m, in \u001b[0;36mIndex.get_loc\u001b[0;34m(self, key, method, tolerance)\u001b[0m\n\u001b[1;32m   3802\u001b[0m \u001b[38;5;28;01mtry\u001b[39;00m:\n\u001b[0;32m-> 3803\u001b[0m     \u001b[38;5;28;01mreturn\u001b[39;00m \u001b[38;5;28;43mself\u001b[39;49m\u001b[38;5;241;43m.\u001b[39;49m\u001b[43m_engine\u001b[49m\u001b[38;5;241;43m.\u001b[39;49m\u001b[43mget_loc\u001b[49m\u001b[43m(\u001b[49m\u001b[43mcasted_key\u001b[49m\u001b[43m)\u001b[49m\n\u001b[1;32m   3804\u001b[0m \u001b[38;5;28;01mexcept\u001b[39;00m \u001b[38;5;167;01mKeyError\u001b[39;00m \u001b[38;5;28;01mas\u001b[39;00m err:\n",
      "File \u001b[0;32m/opt/conda/lib/python3.10/site-packages/pandas/_libs/index.pyx:138\u001b[0m, in \u001b[0;36mpandas._libs.index.IndexEngine.get_loc\u001b[0;34m()\u001b[0m\n",
      "File \u001b[0;32m/opt/conda/lib/python3.10/site-packages/pandas/_libs/index.pyx:165\u001b[0m, in \u001b[0;36mpandas._libs.index.IndexEngine.get_loc\u001b[0;34m()\u001b[0m\n",
      "File \u001b[0;32mpandas/_libs/hashtable_class_helper.pxi:5745\u001b[0m, in \u001b[0;36mpandas._libs.hashtable.PyObjectHashTable.get_item\u001b[0;34m()\u001b[0m\n",
      "File \u001b[0;32mpandas/_libs/hashtable_class_helper.pxi:5753\u001b[0m, in \u001b[0;36mpandas._libs.hashtable.PyObjectHashTable.get_item\u001b[0;34m()\u001b[0m\n",
      "\u001b[0;31mKeyError\u001b[0m: 2",
      "\nThe above exception was the direct cause of the following exception:\n",
      "\u001b[0;31mKeyError\u001b[0m                                  Traceback (most recent call last)",
      "Cell \u001b[0;32mIn [17], line 1\u001b[0m\n\u001b[0;32m----> 1\u001b[0m \u001b[43mplanets\u001b[49m\u001b[43m[\u001b[49m\u001b[38;5;241;43m2\u001b[39;49m\u001b[43m]\u001b[49m\n",
      "File \u001b[0;32m/opt/conda/lib/python3.10/site-packages/pandas/core/frame.py:3804\u001b[0m, in \u001b[0;36mDataFrame.__getitem__\u001b[0;34m(self, key)\u001b[0m\n\u001b[1;32m   3802\u001b[0m \u001b[38;5;28;01mif\u001b[39;00m \u001b[38;5;28mself\u001b[39m\u001b[38;5;241m.\u001b[39mcolumns\u001b[38;5;241m.\u001b[39mnlevels \u001b[38;5;241m>\u001b[39m \u001b[38;5;241m1\u001b[39m:\n\u001b[1;32m   3803\u001b[0m     \u001b[38;5;28;01mreturn\u001b[39;00m \u001b[38;5;28mself\u001b[39m\u001b[38;5;241m.\u001b[39m_getitem_multilevel(key)\n\u001b[0;32m-> 3804\u001b[0m indexer \u001b[38;5;241m=\u001b[39m \u001b[38;5;28;43mself\u001b[39;49m\u001b[38;5;241;43m.\u001b[39;49m\u001b[43mcolumns\u001b[49m\u001b[38;5;241;43m.\u001b[39;49m\u001b[43mget_loc\u001b[49m\u001b[43m(\u001b[49m\u001b[43mkey\u001b[49m\u001b[43m)\u001b[49m\n\u001b[1;32m   3805\u001b[0m \u001b[38;5;28;01mif\u001b[39;00m is_integer(indexer):\n\u001b[1;32m   3806\u001b[0m     indexer \u001b[38;5;241m=\u001b[39m [indexer]\n",
      "File \u001b[0;32m/opt/conda/lib/python3.10/site-packages/pandas/core/indexes/base.py:3805\u001b[0m, in \u001b[0;36mIndex.get_loc\u001b[0;34m(self, key, method, tolerance)\u001b[0m\n\u001b[1;32m   3803\u001b[0m     \u001b[38;5;28;01mreturn\u001b[39;00m \u001b[38;5;28mself\u001b[39m\u001b[38;5;241m.\u001b[39m_engine\u001b[38;5;241m.\u001b[39mget_loc(casted_key)\n\u001b[1;32m   3804\u001b[0m \u001b[38;5;28;01mexcept\u001b[39;00m \u001b[38;5;167;01mKeyError\u001b[39;00m \u001b[38;5;28;01mas\u001b[39;00m err:\n\u001b[0;32m-> 3805\u001b[0m     \u001b[38;5;28;01mraise\u001b[39;00m \u001b[38;5;167;01mKeyError\u001b[39;00m(key) \u001b[38;5;28;01mfrom\u001b[39;00m \u001b[38;5;21;01merr\u001b[39;00m\n\u001b[1;32m   3806\u001b[0m \u001b[38;5;28;01mexcept\u001b[39;00m \u001b[38;5;167;01mTypeError\u001b[39;00m:\n\u001b[1;32m   3807\u001b[0m     \u001b[38;5;66;03m# If we have a listlike key, _check_indexing_error will raise\u001b[39;00m\n\u001b[1;32m   3808\u001b[0m     \u001b[38;5;66;03m#  InvalidIndexError. Otherwise we fall through and re-raise\u001b[39;00m\n\u001b[1;32m   3809\u001b[0m     \u001b[38;5;66;03m#  the TypeError.\u001b[39;00m\n\u001b[1;32m   3810\u001b[0m     \u001b[38;5;28mself\u001b[39m\u001b[38;5;241m.\u001b[39m_check_indexing_error(key)\n",
      "\u001b[0;31mKeyError\u001b[0m: 2"
     ]
    }
   ],
   "source": [
    "planets[2]  # WRONG 😦"
   ]
  },
  {
   "cell_type": "markdown",
   "id": "20931c15-2080-490a-b01f-069a65e4c99c",
   "metadata": {},
   "source": [
    "After all, the `DataFrame` is a more complex structure than the `list` – the above reference to the index value `2` was treated as a [reference to a column](../2/Accessing_Columns.html#extracting-features)!"
   ]
  },
  {
   "cell_type": "markdown",
   "id": "3ff1bb2f-aad7-44da-a689-7152de962415",
   "metadata": {},
   "source": [
    "Instead, `DataFrame` offers the properties `iloc` and `loc`, which may themselves be queried with a syntax based on the syntax for retrieving elements from a `list`."
   ]
  },
  {
   "cell_type": "markdown",
   "id": "be654ca9-51e4-45e3-8cc9-289dd4f3b6fa",
   "metadata": {},
   "source": [
    "### By position\n",
    "\n",
    "#### Individuals\n",
    "\n",
    "`iloc` is intended for *integer-location* based look-up of elements by their position in the index.\n",
    "\n",
    "And, to start, we can now extract the third individual in our `DataFrame`, at the index offset or position `2`, with `iloc`."
   ]
  },
  {
   "cell_type": "code",
   "execution_count": 18,
   "id": "69e80353-3c37-48b6-87b3-d49415aedaa1",
   "metadata": {},
   "outputs": [
    {
     "data": {
      "text/plain": [
       "name                    Earth\n",
       "solar_distance_km_6     149.6\n",
       "mass_kg_24               5.97\n",
       "density_kg_m3          5514.0\n",
       "gravity_m_s2              9.8\n",
       "Name: 2, dtype: object"
      ]
     },
     "execution_count": 18,
     "metadata": {},
     "output_type": "execute_result"
    }
   ],
   "source": [
    "planets.iloc[2]"
   ]
  },
  {
   "cell_type": "markdown",
   "id": "4c1b972d-fa8d-47b3-a3d4-2f16725dcc42",
   "metadata": {},
   "source": [
    "Much better.\n",
    "\n",
    "And, hey – it's Earth: the third planet from the sun.\n",
    "\n",
    "Since `iloc` deals in integer offsets – rather than _values_ within the index, we can do _the same_ with our alternative indices."
   ]
  },
  {
   "cell_type": "code",
   "execution_count": 19,
   "id": "3fb33d77-2f2e-422b-ace6-093b325dd538",
   "metadata": {},
   "outputs": [
    {
     "data": {
      "text/plain": [
       "name                    Earth\n",
       "solar_distance_km_6     149.6\n",
       "mass_kg_24               5.97\n",
       "density_kg_m3          5514.0\n",
       "gravity_m_s2              9.8\n",
       "Name: 3, dtype: object"
      ]
     },
     "execution_count": 19,
     "metadata": {},
     "output_type": "execute_result"
    }
   ],
   "source": [
    "planets_natural.iloc[2]"
   ]
  },
  {
   "cell_type": "code",
   "execution_count": 20,
   "id": "2d32c6be-bdf0-48ef-a6ca-7b91cb536120",
   "metadata": {},
   "outputs": [
    {
     "data": {
      "text/plain": [
       "solar_distance_km_6     149.60\n",
       "mass_kg_24                5.97\n",
       "density_kg_m3          5514.00\n",
       "gravity_m_s2              9.80\n",
       "Name: Earth, dtype: float64"
      ]
     },
     "execution_count": 20,
     "metadata": {},
     "output_type": "execute_result"
    }
   ],
   "source": [
    "earth = planets_named.iloc[2]\n",
    "\n",
    "earth"
   ]
  },
  {
   "cell_type": "markdown",
   "id": "ae6bbe9e-9cd7-4f08-bc7b-b034e11082c5",
   "metadata": {},
   "source": [
    "The above presentation of data might look familiar – because it is, again, a `Series`."
   ]
  },
  {
   "cell_type": "code",
   "execution_count": 21,
   "id": "ea69b063-5b72-4fda-86f0-75fb9f4c60b4",
   "metadata": {},
   "outputs": [
    {
     "data": {
      "text/plain": [
       "pandas.core.series.Series"
      ]
     },
     "execution_count": 21,
     "metadata": {},
     "output_type": "execute_result"
    }
   ],
   "source": [
    "type(earth)"
   ]
  },
  {
   "cell_type": "markdown",
   "id": "a92175cb-728d-4b8a-bd24-b9d23adc7b09",
   "metadata": {},
   "source": [
    "And we can still do all the things we did before with the `Series`.\n",
    "\n",
    "But careful! What does it mean to take the median … of Earth?"
   ]
  },
  {
   "cell_type": "code",
   "execution_count": 22,
   "id": "d92d3015-c0bc-489c-9e6b-ce741bdf2fd4",
   "metadata": {},
   "outputs": [
    {
     "data": {
      "text/plain": [
       "79.7"
      ]
     },
     "execution_count": 22,
     "metadata": {},
     "output_type": "execute_result"
    }
   ],
   "source": [
    "earth.median()"
   ]
  },
  {
   "cell_type": "markdown",
   "id": "4032201f-537e-4dcb-b730-146d42581e5f",
   "metadata": {},
   "source": [
    "Answer: nothing!\n",
    "\n",
    "pandas is happy to apply formulas to series of data. But we'll have to be a bit more clever than that to come up with a _meaningful_ statistic based on these diverse features.\n",
    "\n",
    "We _can_ meaningfully access features from the `Series` of our individual's data."
   ]
  },
  {
   "cell_type": "code",
   "execution_count": 23,
   "id": "d3361887-da8c-46d8-9e73-89abc347e114",
   "metadata": {},
   "outputs": [
    {
     "data": {
      "text/plain": [
       "149.6"
      ]
     },
     "execution_count": 23,
     "metadata": {},
     "output_type": "execute_result"
    }
   ],
   "source": [
    "earth.solar_distance_km_6"
   ]
  },
  {
   "cell_type": "markdown",
   "id": "969a832b-a084-4d41-a65d-1167be9aca59",
   "metadata": {},
   "source": [
    "Above, we've extracted just the Earth's distance from the Sun.\n",
    "\n",
    "And we can see again how spread out the planets are.\n",
    "\n",
    "The Earth is the third of eight planets, yet its distance from the sun is less than 12% their average."
   ]
  },
  {
   "cell_type": "code",
   "execution_count": 24,
   "id": "5e7cd649-1696-4b79-9ff9-1e05dbc2efe7",
   "metadata": {},
   "outputs": [
    {
     "data": {
      "text/plain": [
       "0.11822231880908397"
      ]
     },
     "execution_count": 24,
     "metadata": {},
     "output_type": "execute_result"
    }
   ],
   "source": [
    "earth.solar_distance_km_6 / planets.solar_distance_km_6.mean()"
   ]
  },
  {
   "cell_type": "markdown",
   "id": "7922c3e6-d82a-4263-a273-f35d3f9980e6",
   "metadata": {},
   "source": [
    "#### Slices & selection\n",
    "\n",
    "We can also reproduce our slice, more explicitly now, using `iloc`."
   ]
  },
  {
   "cell_type": "code",
   "execution_count": 25,
   "id": "ff61c581-d3d1-4638-8591-f26685b4a772",
   "metadata": {},
   "outputs": [
    {
     "data": {
      "text/html": [
       "<div>\n",
       "<style scoped>\n",
       "    .dataframe tbody tr th:only-of-type {\n",
       "        vertical-align: middle;\n",
       "    }\n",
       "\n",
       "    .dataframe tbody tr th {\n",
       "        vertical-align: top;\n",
       "    }\n",
       "\n",
       "    .dataframe thead th {\n",
       "        text-align: right;\n",
       "    }\n",
       "</style>\n",
       "<table border=\"1\" class=\"dataframe\">\n",
       "  <thead>\n",
       "    <tr style=\"text-align: right;\">\n",
       "      <th></th>\n",
       "      <th>name</th>\n",
       "      <th>solar_distance_km_6</th>\n",
       "      <th>mass_kg_24</th>\n",
       "      <th>density_kg_m3</th>\n",
       "      <th>gravity_m_s2</th>\n",
       "    </tr>\n",
       "  </thead>\n",
       "  <tbody>\n",
       "    <tr>\n",
       "      <th>0</th>\n",
       "      <td>Mercury</td>\n",
       "      <td>57.9</td>\n",
       "      <td>0.33</td>\n",
       "      <td>5427.0</td>\n",
       "      <td>3.7</td>\n",
       "    </tr>\n",
       "    <tr>\n",
       "      <th>1</th>\n",
       "      <td>Venus</td>\n",
       "      <td>108.2</td>\n",
       "      <td>4.87</td>\n",
       "      <td>5243.0</td>\n",
       "      <td>8.9</td>\n",
       "    </tr>\n",
       "    <tr>\n",
       "      <th>2</th>\n",
       "      <td>Earth</td>\n",
       "      <td>149.6</td>\n",
       "      <td>5.97</td>\n",
       "      <td>5514.0</td>\n",
       "      <td>9.8</td>\n",
       "    </tr>\n",
       "  </tbody>\n",
       "</table>\n",
       "</div>"
      ],
      "text/plain": [
       "      name  solar_distance_km_6  mass_kg_24  density_kg_m3  gravity_m_s2\n",
       "0  Mercury                 57.9        0.33         5427.0           3.7\n",
       "1    Venus                108.2        4.87         5243.0           8.9\n",
       "2    Earth                149.6        5.97         5514.0           9.8"
      ]
     },
     "execution_count": 25,
     "metadata": {},
     "output_type": "execute_result"
    }
   ],
   "source": [
    "planets.iloc[:3]"
   ]
  },
  {
   "cell_type": "markdown",
   "id": "7f75be6d-3fd3-478f-92a0-198d61116d0d",
   "metadata": {},
   "source": [
    "We can also do something new – construct a new `DataFrame` consisting of only the individuals at the specified offsets."
   ]
  },
  {
   "cell_type": "code",
   "execution_count": 26,
   "id": "fdc3794e-041f-44c0-99b7-f779d13fe53e",
   "metadata": {},
   "outputs": [
    {
     "data": {
      "text/html": [
       "<div>\n",
       "<style scoped>\n",
       "    .dataframe tbody tr th:only-of-type {\n",
       "        vertical-align: middle;\n",
       "    }\n",
       "\n",
       "    .dataframe tbody tr th {\n",
       "        vertical-align: top;\n",
       "    }\n",
       "\n",
       "    .dataframe thead th {\n",
       "        text-align: right;\n",
       "    }\n",
       "</style>\n",
       "<table border=\"1\" class=\"dataframe\">\n",
       "  <thead>\n",
       "    <tr style=\"text-align: right;\">\n",
       "      <th></th>\n",
       "      <th>name</th>\n",
       "      <th>solar_distance_km_6</th>\n",
       "      <th>mass_kg_24</th>\n",
       "      <th>density_kg_m3</th>\n",
       "      <th>gravity_m_s2</th>\n",
       "    </tr>\n",
       "  </thead>\n",
       "  <tbody>\n",
       "    <tr>\n",
       "      <th>0</th>\n",
       "      <td>Mercury</td>\n",
       "      <td>57.9</td>\n",
       "      <td>0.33</td>\n",
       "      <td>5427.0</td>\n",
       "      <td>3.7</td>\n",
       "    </tr>\n",
       "    <tr>\n",
       "      <th>7</th>\n",
       "      <td>Neptune</td>\n",
       "      <td>4495.1</td>\n",
       "      <td>102.00</td>\n",
       "      <td>1638.0</td>\n",
       "      <td>11.0</td>\n",
       "    </tr>\n",
       "  </tbody>\n",
       "</table>\n",
       "</div>"
      ],
      "text/plain": [
       "      name  solar_distance_km_6  mass_kg_24  density_kg_m3  gravity_m_s2\n",
       "0  Mercury                 57.9        0.33         5427.0           3.7\n",
       "7  Neptune               4495.1      102.00         1638.0          11.0"
      ]
     },
     "execution_count": 26,
     "metadata": {},
     "output_type": "execute_result"
    }
   ],
   "source": [
    "planets.iloc[[0, 7]]"
   ]
  },
  {
   "cell_type": "markdown",
   "id": "a292fa18-22be-43ce-ae89-c9a5f958bf51",
   "metadata": {},
   "source": [
    "Above, we've specified to our `iloc`-based look-up a `list` – `[0, 7]` – indicating that we are interested in selecting out the rows at those offsets."
   ]
  },
  {
   "cell_type": "markdown",
   "id": "751077a1-22a3-4a94-af8a-364f54bf4865",
   "metadata": {},
   "source": [
    "Again, we can perform this operation on our alternative indices, regardless of the different values within them."
   ]
  },
  {
   "cell_type": "code",
   "execution_count": 27,
   "id": "257806e1-5648-4b73-90b9-33555efb2999",
   "metadata": {},
   "outputs": [
    {
     "data": {
      "text/html": [
       "<div>\n",
       "<style scoped>\n",
       "    .dataframe tbody tr th:only-of-type {\n",
       "        vertical-align: middle;\n",
       "    }\n",
       "\n",
       "    .dataframe tbody tr th {\n",
       "        vertical-align: top;\n",
       "    }\n",
       "\n",
       "    .dataframe thead th {\n",
       "        text-align: right;\n",
       "    }\n",
       "</style>\n",
       "<table border=\"1\" class=\"dataframe\">\n",
       "  <thead>\n",
       "    <tr style=\"text-align: right;\">\n",
       "      <th></th>\n",
       "      <th>name</th>\n",
       "      <th>solar_distance_km_6</th>\n",
       "      <th>mass_kg_24</th>\n",
       "      <th>density_kg_m3</th>\n",
       "      <th>gravity_m_s2</th>\n",
       "    </tr>\n",
       "    <tr>\n",
       "      <th>number</th>\n",
       "      <th></th>\n",
       "      <th></th>\n",
       "      <th></th>\n",
       "      <th></th>\n",
       "      <th></th>\n",
       "    </tr>\n",
       "  </thead>\n",
       "  <tbody>\n",
       "    <tr>\n",
       "      <th>1</th>\n",
       "      <td>Mercury</td>\n",
       "      <td>57.9</td>\n",
       "      <td>0.33</td>\n",
       "      <td>5427.0</td>\n",
       "      <td>3.7</td>\n",
       "    </tr>\n",
       "    <tr>\n",
       "      <th>8</th>\n",
       "      <td>Neptune</td>\n",
       "      <td>4495.1</td>\n",
       "      <td>102.00</td>\n",
       "      <td>1638.0</td>\n",
       "      <td>11.0</td>\n",
       "    </tr>\n",
       "  </tbody>\n",
       "</table>\n",
       "</div>"
      ],
      "text/plain": [
       "           name  solar_distance_km_6  mass_kg_24  density_kg_m3  gravity_m_s2\n",
       "number                                                                       \n",
       "1       Mercury                 57.9        0.33         5427.0           3.7\n",
       "8       Neptune               4495.1      102.00         1638.0          11.0"
      ]
     },
     "execution_count": 27,
     "metadata": {},
     "output_type": "execute_result"
    }
   ],
   "source": [
    "planets_natural.iloc[[0, 7]]"
   ]
  },
  {
   "cell_type": "code",
   "execution_count": 28,
   "id": "f79f2f15-b0f0-4fff-b23e-a80827a784e2",
   "metadata": {},
   "outputs": [
    {
     "data": {
      "text/html": [
       "<div>\n",
       "<style scoped>\n",
       "    .dataframe tbody tr th:only-of-type {\n",
       "        vertical-align: middle;\n",
       "    }\n",
       "\n",
       "    .dataframe tbody tr th {\n",
       "        vertical-align: top;\n",
       "    }\n",
       "\n",
       "    .dataframe thead th {\n",
       "        text-align: right;\n",
       "    }\n",
       "</style>\n",
       "<table border=\"1\" class=\"dataframe\">\n",
       "  <thead>\n",
       "    <tr style=\"text-align: right;\">\n",
       "      <th></th>\n",
       "      <th>solar_distance_km_6</th>\n",
       "      <th>mass_kg_24</th>\n",
       "      <th>density_kg_m3</th>\n",
       "      <th>gravity_m_s2</th>\n",
       "    </tr>\n",
       "    <tr>\n",
       "      <th>name</th>\n",
       "      <th></th>\n",
       "      <th></th>\n",
       "      <th></th>\n",
       "      <th></th>\n",
       "    </tr>\n",
       "  </thead>\n",
       "  <tbody>\n",
       "    <tr>\n",
       "      <th>Mercury</th>\n",
       "      <td>57.9</td>\n",
       "      <td>0.33</td>\n",
       "      <td>5427.0</td>\n",
       "      <td>3.7</td>\n",
       "    </tr>\n",
       "    <tr>\n",
       "      <th>Neptune</th>\n",
       "      <td>4495.1</td>\n",
       "      <td>102.00</td>\n",
       "      <td>1638.0</td>\n",
       "      <td>11.0</td>\n",
       "    </tr>\n",
       "  </tbody>\n",
       "</table>\n",
       "</div>"
      ],
      "text/plain": [
       "         solar_distance_km_6  mass_kg_24  density_kg_m3  gravity_m_s2\n",
       "name                                                                 \n",
       "Mercury                 57.9        0.33         5427.0           3.7\n",
       "Neptune               4495.1      102.00         1638.0          11.0"
      ]
     },
     "execution_count": 28,
     "metadata": {},
     "output_type": "execute_result"
    }
   ],
   "source": [
    "planets_named.iloc[[0, 7]]"
   ]
  },
  {
   "cell_type": "markdown",
   "id": "14e720d7-30eb-4d48-b346-cac264ede0fc",
   "metadata": {},
   "source": [
    "Note that in the new `DataFrame`, the planets' row index values have been preserved. This is highly useful – indeed, Neptune is still the same planet as it was before. But `iloc` is **strictly** intended for offsets, like in a `list`.\n",
    "\n",
    "If we were to repeat our selection of `[0, 7]` on the above, this would fail. Rather, the offset references for these two planets in the new `DataFrame` are now given by `[0, 1]`. According to `iloc` in this new `DataFrame`, Neptune will now be available at offset `1`."
   ]
  },
  {
   "cell_type": "code",
   "execution_count": 29,
   "id": "dedc53f5-3eb7-446a-8908-7279c2fa2e6a",
   "metadata": {},
   "outputs": [
    {
     "data": {
      "text/plain": [
       "name                   Neptune\n",
       "solar_distance_km_6     4495.1\n",
       "mass_kg_24               102.0\n",
       "density_kg_m3           1638.0\n",
       "gravity_m_s2              11.0\n",
       "Name: 7, dtype: object"
      ]
     },
     "execution_count": 29,
     "metadata": {},
     "output_type": "execute_result"
    }
   ],
   "source": [
    "bookends = planets.iloc[[0, 7]]\n",
    "\n",
    "bookends.iloc[1]"
   ]
  },
  {
   "cell_type": "markdown",
   "id": "077a29bb-a3ce-4be5-b517-31d50609a394",
   "metadata": {},
   "source": [
    "#### Resetting the index\n",
    "\n",
    "If we wanted to correct the inconsistency produced above between our rows' positions in the index and the values of our index – that is, to create a `DataFrame` reflecting a solar system consisting of _only_ Mercury and Neptune – of course we could.\n",
    "\n",
    "The `reset_index` method will recreate our `DataFrame` with an index regenerated for the elements it contains.\n",
    "\n",
    "By default, `reset_index` preserves the data of our old index – just in case – as an extra column."
   ]
  },
  {
   "cell_type": "code",
   "execution_count": 30,
   "id": "488bcf31-d8f9-4829-b056-475c9ffedd3a",
   "metadata": {},
   "outputs": [
    {
     "data": {
      "text/html": [
       "<div>\n",
       "<style scoped>\n",
       "    .dataframe tbody tr th:only-of-type {\n",
       "        vertical-align: middle;\n",
       "    }\n",
       "\n",
       "    .dataframe tbody tr th {\n",
       "        vertical-align: top;\n",
       "    }\n",
       "\n",
       "    .dataframe thead th {\n",
       "        text-align: right;\n",
       "    }\n",
       "</style>\n",
       "<table border=\"1\" class=\"dataframe\">\n",
       "  <thead>\n",
       "    <tr style=\"text-align: right;\">\n",
       "      <th></th>\n",
       "      <th>index</th>\n",
       "      <th>name</th>\n",
       "      <th>solar_distance_km_6</th>\n",
       "      <th>mass_kg_24</th>\n",
       "      <th>density_kg_m3</th>\n",
       "      <th>gravity_m_s2</th>\n",
       "    </tr>\n",
       "  </thead>\n",
       "  <tbody>\n",
       "    <tr>\n",
       "      <th>0</th>\n",
       "      <td>0</td>\n",
       "      <td>Mercury</td>\n",
       "      <td>57.9</td>\n",
       "      <td>0.33</td>\n",
       "      <td>5427.0</td>\n",
       "      <td>3.7</td>\n",
       "    </tr>\n",
       "    <tr>\n",
       "      <th>1</th>\n",
       "      <td>7</td>\n",
       "      <td>Neptune</td>\n",
       "      <td>4495.1</td>\n",
       "      <td>102.00</td>\n",
       "      <td>1638.0</td>\n",
       "      <td>11.0</td>\n",
       "    </tr>\n",
       "  </tbody>\n",
       "</table>\n",
       "</div>"
      ],
      "text/plain": [
       "   index     name  solar_distance_km_6  mass_kg_24  density_kg_m3  \\\n",
       "0      0  Mercury                 57.9        0.33         5427.0   \n",
       "1      7  Neptune               4495.1      102.00         1638.0   \n",
       "\n",
       "   gravity_m_s2  \n",
       "0           3.7  \n",
       "1          11.0  "
      ]
     },
     "execution_count": 30,
     "metadata": {},
     "output_type": "execute_result"
    }
   ],
   "source": [
    "bookends.reset_index()"
   ]
  },
  {
   "cell_type": "markdown",
   "id": "edc1667c-2bc9-4d11-be43-5fe637ae8783",
   "metadata": {},
   "source": [
    "But we can tell pandas not to worry about that old index."
   ]
  },
  {
   "cell_type": "code",
   "execution_count": 31,
   "id": "41f8f184-6c41-4ade-8a6e-a7ab50e9d5be",
   "metadata": {},
   "outputs": [
    {
     "data": {
      "text/html": [
       "<div>\n",
       "<style scoped>\n",
       "    .dataframe tbody tr th:only-of-type {\n",
       "        vertical-align: middle;\n",
       "    }\n",
       "\n",
       "    .dataframe tbody tr th {\n",
       "        vertical-align: top;\n",
       "    }\n",
       "\n",
       "    .dataframe thead th {\n",
       "        text-align: right;\n",
       "    }\n",
       "</style>\n",
       "<table border=\"1\" class=\"dataframe\">\n",
       "  <thead>\n",
       "    <tr style=\"text-align: right;\">\n",
       "      <th></th>\n",
       "      <th>name</th>\n",
       "      <th>solar_distance_km_6</th>\n",
       "      <th>mass_kg_24</th>\n",
       "      <th>density_kg_m3</th>\n",
       "      <th>gravity_m_s2</th>\n",
       "    </tr>\n",
       "  </thead>\n",
       "  <tbody>\n",
       "    <tr>\n",
       "      <th>0</th>\n",
       "      <td>Mercury</td>\n",
       "      <td>57.9</td>\n",
       "      <td>0.33</td>\n",
       "      <td>5427.0</td>\n",
       "      <td>3.7</td>\n",
       "    </tr>\n",
       "    <tr>\n",
       "      <th>1</th>\n",
       "      <td>Neptune</td>\n",
       "      <td>4495.1</td>\n",
       "      <td>102.00</td>\n",
       "      <td>1638.0</td>\n",
       "      <td>11.0</td>\n",
       "    </tr>\n",
       "  </tbody>\n",
       "</table>\n",
       "</div>"
      ],
      "text/plain": [
       "      name  solar_distance_km_6  mass_kg_24  density_kg_m3  gravity_m_s2\n",
       "0  Mercury                 57.9        0.33         5427.0           3.7\n",
       "1  Neptune               4495.1      102.00         1638.0          11.0"
      ]
     },
     "execution_count": 31,
     "metadata": {},
     "output_type": "execute_result"
    }
   ],
   "source": [
    "bookends.reset_index(drop=True)"
   ]
  },
  {
   "cell_type": "markdown",
   "id": "1daad783-84f6-40c8-a713-d42d46d0fab1",
   "metadata": {},
   "source": [
    "### By label\n",
    "\n",
    "The `loc` property, in the other hand, allows us to look up rows (and more!) according to their index _value_ or \"label.\"\n",
    "\n",
    "We may repeat the above operations we performed with `iloc`, but the arguments we supply to `loc` must reflect the index of the `DataFrame`.\n",
    "\n",
    "We can still find Earth at the index value `2` in our simple `DataFrame`, because its index's values are integer positions."
   ]
  },
  {
   "cell_type": "code",
   "execution_count": 32,
   "id": "7292d1a9-2fe9-4f15-a509-d9572e35c732",
   "metadata": {},
   "outputs": [
    {
     "data": {
      "text/plain": [
       "name                    Earth\n",
       "solar_distance_km_6     149.6\n",
       "mass_kg_24               5.97\n",
       "density_kg_m3          5514.0\n",
       "gravity_m_s2              9.8\n",
       "Name: 2, dtype: object"
      ]
     },
     "execution_count": 32,
     "metadata": {},
     "output_type": "execute_result"
    }
   ],
   "source": [
    "planets.loc[2]"
   ]
  },
  {
   "cell_type": "markdown",
   "id": "b063eb88-e5f9-4cc8-a6be-438b4dcc2040",
   "metadata": {},
   "source": [
    "In our \"natural\" numeric index, however, Earth is listed under the value `3`."
   ]
  },
  {
   "cell_type": "code",
   "execution_count": 33,
   "id": "e9ddeb7a-bf9c-48b7-8128-0149ff3bb867",
   "metadata": {},
   "outputs": [
    {
     "data": {
      "text/plain": [
       "name                    Earth\n",
       "solar_distance_km_6     149.6\n",
       "mass_kg_24               5.97\n",
       "density_kg_m3          5514.0\n",
       "gravity_m_s2              9.8\n",
       "Name: 3, dtype: object"
      ]
     },
     "execution_count": 33,
     "metadata": {},
     "output_type": "execute_result"
    }
   ],
   "source": [
    "planets_natural.loc[3]"
   ]
  },
  {
   "cell_type": "markdown",
   "id": "eb26160d-7ad3-4c57-ade2-37ea095aa89f",
   "metadata": {},
   "source": [
    "And in our name-based index, we _can't_ supply integer values to `loc` at all!"
   ]
  },
  {
   "cell_type": "code",
   "execution_count": 34,
   "id": "a78e8a20-4b26-4fd5-bea0-2e9388411110",
   "metadata": {
    "tags": [
     "raises-exception",
     "hide-output"
    ]
   },
   "outputs": [
    {
     "ename": "KeyError",
     "evalue": "3",
     "output_type": "error",
     "traceback": [
      "\u001b[0;31m---------------------------------------------------------------------------\u001b[0m",
      "\u001b[0;31mKeyError\u001b[0m                                  Traceback (most recent call last)",
      "File \u001b[0;32m/opt/conda/lib/python3.10/site-packages/pandas/core/indexes/base.py:3803\u001b[0m, in \u001b[0;36mIndex.get_loc\u001b[0;34m(self, key, method, tolerance)\u001b[0m\n\u001b[1;32m   3802\u001b[0m \u001b[38;5;28;01mtry\u001b[39;00m:\n\u001b[0;32m-> 3803\u001b[0m     \u001b[38;5;28;01mreturn\u001b[39;00m \u001b[38;5;28;43mself\u001b[39;49m\u001b[38;5;241;43m.\u001b[39;49m\u001b[43m_engine\u001b[49m\u001b[38;5;241;43m.\u001b[39;49m\u001b[43mget_loc\u001b[49m\u001b[43m(\u001b[49m\u001b[43mcasted_key\u001b[49m\u001b[43m)\u001b[49m\n\u001b[1;32m   3804\u001b[0m \u001b[38;5;28;01mexcept\u001b[39;00m \u001b[38;5;167;01mKeyError\u001b[39;00m \u001b[38;5;28;01mas\u001b[39;00m err:\n",
      "File \u001b[0;32m/opt/conda/lib/python3.10/site-packages/pandas/_libs/index.pyx:138\u001b[0m, in \u001b[0;36mpandas._libs.index.IndexEngine.get_loc\u001b[0;34m()\u001b[0m\n",
      "File \u001b[0;32m/opt/conda/lib/python3.10/site-packages/pandas/_libs/index.pyx:165\u001b[0m, in \u001b[0;36mpandas._libs.index.IndexEngine.get_loc\u001b[0;34m()\u001b[0m\n",
      "File \u001b[0;32mpandas/_libs/hashtable_class_helper.pxi:5745\u001b[0m, in \u001b[0;36mpandas._libs.hashtable.PyObjectHashTable.get_item\u001b[0;34m()\u001b[0m\n",
      "File \u001b[0;32mpandas/_libs/hashtable_class_helper.pxi:5753\u001b[0m, in \u001b[0;36mpandas._libs.hashtable.PyObjectHashTable.get_item\u001b[0;34m()\u001b[0m\n",
      "\u001b[0;31mKeyError\u001b[0m: 3",
      "\nThe above exception was the direct cause of the following exception:\n",
      "\u001b[0;31mKeyError\u001b[0m                                  Traceback (most recent call last)",
      "Cell \u001b[0;32mIn [34], line 1\u001b[0m\n\u001b[0;32m----> 1\u001b[0m \u001b[43mplanets_named\u001b[49m\u001b[38;5;241;43m.\u001b[39;49m\u001b[43mloc\u001b[49m\u001b[43m[\u001b[49m\u001b[38;5;241;43m3\u001b[39;49m\u001b[43m]\u001b[49m\n",
      "File \u001b[0;32m/opt/conda/lib/python3.10/site-packages/pandas/core/indexing.py:1073\u001b[0m, in \u001b[0;36m_LocationIndexer.__getitem__\u001b[0;34m(self, key)\u001b[0m\n\u001b[1;32m   1070\u001b[0m axis \u001b[38;5;241m=\u001b[39m \u001b[38;5;28mself\u001b[39m\u001b[38;5;241m.\u001b[39maxis \u001b[38;5;129;01mor\u001b[39;00m \u001b[38;5;241m0\u001b[39m\n\u001b[1;32m   1072\u001b[0m maybe_callable \u001b[38;5;241m=\u001b[39m com\u001b[38;5;241m.\u001b[39mapply_if_callable(key, \u001b[38;5;28mself\u001b[39m\u001b[38;5;241m.\u001b[39mobj)\n\u001b[0;32m-> 1073\u001b[0m \u001b[38;5;28;01mreturn\u001b[39;00m \u001b[38;5;28;43mself\u001b[39;49m\u001b[38;5;241;43m.\u001b[39;49m\u001b[43m_getitem_axis\u001b[49m\u001b[43m(\u001b[49m\u001b[43mmaybe_callable\u001b[49m\u001b[43m,\u001b[49m\u001b[43m \u001b[49m\u001b[43maxis\u001b[49m\u001b[38;5;241;43m=\u001b[39;49m\u001b[43maxis\u001b[49m\u001b[43m)\u001b[49m\n",
      "File \u001b[0;32m/opt/conda/lib/python3.10/site-packages/pandas/core/indexing.py:1312\u001b[0m, in \u001b[0;36m_LocIndexer._getitem_axis\u001b[0;34m(self, key, axis)\u001b[0m\n\u001b[1;32m   1310\u001b[0m \u001b[38;5;66;03m# fall thru to straight lookup\u001b[39;00m\n\u001b[1;32m   1311\u001b[0m \u001b[38;5;28mself\u001b[39m\u001b[38;5;241m.\u001b[39m_validate_key(key, axis)\n\u001b[0;32m-> 1312\u001b[0m \u001b[38;5;28;01mreturn\u001b[39;00m \u001b[38;5;28;43mself\u001b[39;49m\u001b[38;5;241;43m.\u001b[39;49m\u001b[43m_get_label\u001b[49m\u001b[43m(\u001b[49m\u001b[43mkey\u001b[49m\u001b[43m,\u001b[49m\u001b[43m \u001b[49m\u001b[43maxis\u001b[49m\u001b[38;5;241;43m=\u001b[39;49m\u001b[43maxis\u001b[49m\u001b[43m)\u001b[49m\n",
      "File \u001b[0;32m/opt/conda/lib/python3.10/site-packages/pandas/core/indexing.py:1260\u001b[0m, in \u001b[0;36m_LocIndexer._get_label\u001b[0;34m(self, label, axis)\u001b[0m\n\u001b[1;32m   1258\u001b[0m \u001b[38;5;28;01mdef\u001b[39;00m \u001b[38;5;21m_get_label\u001b[39m(\u001b[38;5;28mself\u001b[39m, label, axis: \u001b[38;5;28mint\u001b[39m):\n\u001b[1;32m   1259\u001b[0m     \u001b[38;5;66;03m# GH#5567 this will fail if the label is not present in the axis.\u001b[39;00m\n\u001b[0;32m-> 1260\u001b[0m     \u001b[38;5;28;01mreturn\u001b[39;00m \u001b[38;5;28;43mself\u001b[39;49m\u001b[38;5;241;43m.\u001b[39;49m\u001b[43mobj\u001b[49m\u001b[38;5;241;43m.\u001b[39;49m\u001b[43mxs\u001b[49m\u001b[43m(\u001b[49m\u001b[43mlabel\u001b[49m\u001b[43m,\u001b[49m\u001b[43m \u001b[49m\u001b[43maxis\u001b[49m\u001b[38;5;241;43m=\u001b[39;49m\u001b[43maxis\u001b[49m\u001b[43m)\u001b[49m\n",
      "File \u001b[0;32m/opt/conda/lib/python3.10/site-packages/pandas/core/generic.py:4056\u001b[0m, in \u001b[0;36mNDFrame.xs\u001b[0;34m(self, key, axis, level, drop_level)\u001b[0m\n\u001b[1;32m   4054\u001b[0m             new_index \u001b[38;5;241m=\u001b[39m index[loc]\n\u001b[1;32m   4055\u001b[0m \u001b[38;5;28;01melse\u001b[39;00m:\n\u001b[0;32m-> 4056\u001b[0m     loc \u001b[38;5;241m=\u001b[39m \u001b[43mindex\u001b[49m\u001b[38;5;241;43m.\u001b[39;49m\u001b[43mget_loc\u001b[49m\u001b[43m(\u001b[49m\u001b[43mkey\u001b[49m\u001b[43m)\u001b[49m\n\u001b[1;32m   4058\u001b[0m     \u001b[38;5;28;01mif\u001b[39;00m \u001b[38;5;28misinstance\u001b[39m(loc, np\u001b[38;5;241m.\u001b[39mndarray):\n\u001b[1;32m   4059\u001b[0m         \u001b[38;5;28;01mif\u001b[39;00m loc\u001b[38;5;241m.\u001b[39mdtype \u001b[38;5;241m==\u001b[39m np\u001b[38;5;241m.\u001b[39mbool_:\n",
      "File \u001b[0;32m/opt/conda/lib/python3.10/site-packages/pandas/core/indexes/base.py:3805\u001b[0m, in \u001b[0;36mIndex.get_loc\u001b[0;34m(self, key, method, tolerance)\u001b[0m\n\u001b[1;32m   3803\u001b[0m     \u001b[38;5;28;01mreturn\u001b[39;00m \u001b[38;5;28mself\u001b[39m\u001b[38;5;241m.\u001b[39m_engine\u001b[38;5;241m.\u001b[39mget_loc(casted_key)\n\u001b[1;32m   3804\u001b[0m \u001b[38;5;28;01mexcept\u001b[39;00m \u001b[38;5;167;01mKeyError\u001b[39;00m \u001b[38;5;28;01mas\u001b[39;00m err:\n\u001b[0;32m-> 3805\u001b[0m     \u001b[38;5;28;01mraise\u001b[39;00m \u001b[38;5;167;01mKeyError\u001b[39;00m(key) \u001b[38;5;28;01mfrom\u001b[39;00m \u001b[38;5;21;01merr\u001b[39;00m\n\u001b[1;32m   3806\u001b[0m \u001b[38;5;28;01mexcept\u001b[39;00m \u001b[38;5;167;01mTypeError\u001b[39;00m:\n\u001b[1;32m   3807\u001b[0m     \u001b[38;5;66;03m# If we have a listlike key, _check_indexing_error will raise\u001b[39;00m\n\u001b[1;32m   3808\u001b[0m     \u001b[38;5;66;03m#  InvalidIndexError. Otherwise we fall through and re-raise\u001b[39;00m\n\u001b[1;32m   3809\u001b[0m     \u001b[38;5;66;03m#  the TypeError.\u001b[39;00m\n\u001b[1;32m   3810\u001b[0m     \u001b[38;5;28mself\u001b[39m\u001b[38;5;241m.\u001b[39m_check_indexing_error(key)\n",
      "\u001b[0;31mKeyError\u001b[0m: 3"
     ]
    }
   ],
   "source": [
    "planets_named.loc[3]  # WRONG 😦"
   ]
  },
  {
   "cell_type": "markdown",
   "id": "dc85ebaf-a9fe-46ac-ae46-9747fb9aa835",
   "metadata": {},
   "source": [
    "Rather, we may supply `loc` the string value under which the individual is stored in that index."
   ]
  },
  {
   "cell_type": "code",
   "execution_count": 35,
   "id": "5b7837ac-d333-4bae-8a65-e669782e6886",
   "metadata": {},
   "outputs": [
    {
     "data": {
      "text/plain": [
       "solar_distance_km_6     149.60\n",
       "mass_kg_24                5.97\n",
       "density_kg_m3          5514.00\n",
       "gravity_m_s2              9.80\n",
       "Name: Earth, dtype: float64"
      ]
     },
     "execution_count": 35,
     "metadata": {},
     "output_type": "execute_result"
    }
   ],
   "source": [
    "planets_named.loc['Earth']"
   ]
  },
  {
   "cell_type": "markdown",
   "id": "78b80e6c-535f-4313-be89-bf0f9fda162b",
   "metadata": {},
   "source": [
    "This even goes for slices as well!"
   ]
  },
  {
   "cell_type": "code",
   "execution_count": 36,
   "id": "bffb017a-c05b-4241-a14e-eef079d3700a",
   "metadata": {},
   "outputs": [
    {
     "data": {
      "text/html": [
       "<div>\n",
       "<style scoped>\n",
       "    .dataframe tbody tr th:only-of-type {\n",
       "        vertical-align: middle;\n",
       "    }\n",
       "\n",
       "    .dataframe tbody tr th {\n",
       "        vertical-align: top;\n",
       "    }\n",
       "\n",
       "    .dataframe thead th {\n",
       "        text-align: right;\n",
       "    }\n",
       "</style>\n",
       "<table border=\"1\" class=\"dataframe\">\n",
       "  <thead>\n",
       "    <tr style=\"text-align: right;\">\n",
       "      <th></th>\n",
       "      <th>solar_distance_km_6</th>\n",
       "      <th>mass_kg_24</th>\n",
       "      <th>density_kg_m3</th>\n",
       "      <th>gravity_m_s2</th>\n",
       "    </tr>\n",
       "    <tr>\n",
       "      <th>name</th>\n",
       "      <th></th>\n",
       "      <th></th>\n",
       "      <th></th>\n",
       "      <th></th>\n",
       "    </tr>\n",
       "  </thead>\n",
       "  <tbody>\n",
       "    <tr>\n",
       "      <th>Venus</th>\n",
       "      <td>108.2</td>\n",
       "      <td>4.870</td>\n",
       "      <td>5243.0</td>\n",
       "      <td>8.9</td>\n",
       "    </tr>\n",
       "    <tr>\n",
       "      <th>Earth</th>\n",
       "      <td>149.6</td>\n",
       "      <td>5.970</td>\n",
       "      <td>5514.0</td>\n",
       "      <td>9.8</td>\n",
       "    </tr>\n",
       "    <tr>\n",
       "      <th>Mars</th>\n",
       "      <td>227.9</td>\n",
       "      <td>0.642</td>\n",
       "      <td>3933.0</td>\n",
       "      <td>3.7</td>\n",
       "    </tr>\n",
       "  </tbody>\n",
       "</table>\n",
       "</div>"
      ],
      "text/plain": [
       "       solar_distance_km_6  mass_kg_24  density_kg_m3  gravity_m_s2\n",
       "name                                                               \n",
       "Venus                108.2       4.870         5243.0           8.9\n",
       "Earth                149.6       5.970         5514.0           9.8\n",
       "Mars                 227.9       0.642         3933.0           3.7"
      ]
     },
     "execution_count": 36,
     "metadata": {},
     "output_type": "execute_result"
    }
   ],
   "source": [
    "planets_named.loc['Venus':'Mars']"
   ]
  },
  {
   "cell_type": "markdown",
   "id": "4e1d09b1-c18e-4799-a4da-990a558e9923",
   "metadata": {},
   "source": [
    ":::{attention}\n",
    "And, note: `loc` handled the above slice differently than `iloc`!\n",
    "\n",
    "The upper bound – as well as the lower bound – of the range were **included** in the result.\n",
    ":::"
   ]
  },
  {
   "cell_type": "markdown",
   "id": "d4e47f45-c0ff-4b52-bd98-1b9f52a5f7a0",
   "metadata": {},
   "source": [
    "In the following sections, we'll continue to explore slicing and selecting elements by index position and value, via `loc` and `iloc`."
   ]
  }
 ],
 "metadata": {
  "kernelspec": {
   "display_name": "Python 3 (ipykernel)",
   "language": "python",
   "name": "python3"
  },
  "language_info": {
   "codemirror_mode": {
    "name": "ipython",
    "version": 3
   },
   "file_extension": ".py",
   "mimetype": "text/x-python",
   "name": "python",
   "nbconvert_exporter": "python",
   "pygments_lexer": "ipython3",
   "version": "3.10.6"
  }
 },
 "nbformat": 4,
 "nbformat_minor": 5
}
