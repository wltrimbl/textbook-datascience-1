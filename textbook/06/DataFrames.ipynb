{
 "cells": [
  {
   "cell_type": "markdown",
   "metadata": {},
   "source": [
    "# DataFrames\n",
    "\n",
    "*Jesse London*\n",
    "\n",
    "The `DataFrame` is a type of data structure in Python, which is widely-used in Data Science, and provided by the <a href=\"https://pandas.pydata.org/\" rel=\"noopener\" target=\"_blank\">`pandas`</a> data analysis and manipulation library.\n",
    "\n",
    "`DataFrames` are *collections* like `lists`. But, while `lists` *allow* you to collect elements which are themselves `lists`, `DataFrames` are built expressly for the purpose of manipulating such data easily and efficiently. This structure is \"tabular\" – like a spreadsheet – and also considered \"two-dimensional.\" Its dimensions are commonly:\n",
    "\n",
    "**a sequence of *columns***:\n",
    ": each column represents the values of a single *feature* of our data set\n",
    "\n",
    "**a sequence of *rows***:\n",
    ": each row represents the values of all of the features of a single *individual* element of our data\n",
    "\n",
    "The following sections explore the basics of using the pandas `DataFrame`."
   ]
  }
 ],
 "metadata": {
  "kernelspec": {
   "display_name": "Python 3 (ipykernel)",
   "language": "python",
   "name": "python3"
  },
  "language_info": {
   "codemirror_mode": {
    "name": "ipython",
    "version": 3
   },
   "file_extension": ".py",
   "mimetype": "text/x-python",
   "name": "python",
   "nbconvert_exporter": "python",
   "pygments_lexer": "ipython3",
   "version": "3.10.6"
  }
 },
 "nbformat": 4,
 "nbformat_minor": 4
}
