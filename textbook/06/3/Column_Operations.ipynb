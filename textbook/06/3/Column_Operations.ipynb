{
 "cells": [
  {
   "cell_type": "markdown",
   "id": "87387a6c-4367-4709-8aac-3764c4e8a6f3",
   "metadata": {},
   "source": [
    "# Column Operations"
   ]
  },
  {
   "cell_type": "code",
   "execution_count": 1,
   "id": "a712af69-119c-493c-a87d-d924e9769af8",
   "metadata": {
    "tags": [
     "remove-cell"
    ]
   },
   "outputs": [],
   "source": [
    "# cell hidden by tag\n",
    "import pandas as pd\n",
    "\n",
    "planets_dict = {\n",
    "    'name': ['Mercury', 'Venus', 'Earth', 'Mars', 'Jupiter', 'Saturn', 'Uranus', 'Neptune'],\n",
    "    'solar_distance_km_6': [57.9, 108.2, 149.6, 227.9, 778.6, 1433.5, 2872.5, 4495.1],\n",
    "    'mass_kg_24': [0.33, 4.87, 5.97, 0.642, 1898.0, 568.0, 86.8, 102.0],\n",
    "    'density_kg_m3': [5427.0, 5243.0, 5514.0, 3933.0, 1326.0, 687.0, 1271.0, 1638.0],\n",
    "    'gravity_m_s2': [3.7, 8.9, 9.8, 3.7, 23.1, 9.0, 8.7, 11.0],\n",
    "}\n",
    "\n",
    "planets = pd.DataFrame(planets_dict)"
   ]
  },
  {
   "cell_type": "markdown",
   "id": "8d32520e-6aa7-4fda-b726-5ca7c384aa84",
   "metadata": {},
   "source": [
    "## Methods on Series\n",
    "\n",
    "We saw in [the previous section](../2/Accessing_Columns.html#the-series) how data features are represented as columns in the two-dimensional `DataFrame`, and these columns are implemented by the pandas `Series`. And, `Series` objects expose methods, such as `mean`."
   ]
  },
  {
   "cell_type": "code",
   "execution_count": 2,
   "id": "8a4af27b-f0f6-497b-816a-ee8b71bfef2e",
   "metadata": {},
   "outputs": [
    {
     "data": {
      "text/plain": [
       "1265.4125000000001"
      ]
     },
     "execution_count": 2,
     "metadata": {},
     "output_type": "execute_result"
    }
   ],
   "source": [
    "planets.solar_distance_km_6.mean()"
   ]
  },
  {
   "cell_type": "markdown",
   "id": "0b536b3c-c7a1-4715-babd-be56e30b9b24",
   "metadata": {},
   "source": [
    "pandas supports a number of statistical methods, such as `median`, standard deviation `std`, mean absolute deviation `mad`, and more."
   ]
  },
  {
   "cell_type": "markdown",
   "id": "506ee244-baf5-487a-a746-0ffbddc19f1f",
   "metadata": {},
   "source": [
    "Generally, we might note that the median distance of planets from the sun is less than half their mean."
   ]
  },
  {
   "cell_type": "code",
   "execution_count": 3,
   "id": "c9e06ea3-8fe2-4f21-8d0d-913350ff8866",
   "metadata": {},
   "outputs": [
    {
     "data": {
      "text/plain": [
       "0.39769640334673473"
      ]
     },
     "execution_count": 3,
     "metadata": {},
     "output_type": "execute_result"
    }
   ],
   "source": [
    "planets.solar_distance_km_6.median() / planets.solar_distance_km_6.mean()"
   ]
  },
  {
   "cell_type": "markdown",
   "id": "123781ec-e160-46dd-9693-065f22d00222",
   "metadata": {},
   "source": [
    "We know that the planets are spread out. But how so?"
   ]
  },
  {
   "cell_type": "code",
   "execution_count": 4,
   "id": "22fa9fd0-5809-428e-852d-d405c3cdb66d",
   "metadata": {},
   "outputs": [
    {
     "data": {
      "text/plain": [
       "0      57.9\n",
       "1     108.2\n",
       "2     149.6\n",
       "3     227.9\n",
       "4     778.6\n",
       "5    1433.5\n",
       "6    2872.5\n",
       "7    4495.1\n",
       "Name: solar_distance_km_6, dtype: float64"
      ]
     },
     "execution_count": 4,
     "metadata": {},
     "output_type": "execute_result"
    }
   ],
   "source": [
    "planets.solar_distance_km_6"
   ]
  },
  {
   "cell_type": "markdown",
   "id": "7ccb4877-6196-4e2d-816b-c84efa5cb80a",
   "metadata": {},
   "source": [
    "Let's take a look at how their distances increase, each relative to the one before it, with the method `diff`.\n",
    "\n",
    "In physical terms, this is simply the distance _between_ each planet."
   ]
  },
  {
   "cell_type": "code",
   "execution_count": 5,
   "id": "112c0b40-ca50-4c43-a962-cfed4966f8f6",
   "metadata": {},
   "outputs": [
    {
     "data": {
      "text/plain": [
       "0       NaN\n",
       "1      50.3\n",
       "2      41.4\n",
       "3      78.3\n",
       "4     550.7\n",
       "5     654.9\n",
       "6    1439.0\n",
       "7    1622.6\n",
       "Name: solar_distance_km_6, dtype: float64"
      ]
     },
     "execution_count": 5,
     "metadata": {},
     "output_type": "execute_result"
    }
   ],
   "source": [
    "planets.solar_distance_km_6.diff()"
   ]
  },
  {
   "cell_type": "markdown",
   "id": "56ce3556-6435-4eae-a5f6-d54744ec2388",
   "metadata": {},
   "source": [
    "The above `Series` tells us that Venus is 50.3 million kilometers farther from the sun than Mercury, Earth is 41.4 million kilometers farther than Venus, *etc.* (The first value, for Mercury, is `NaN` – \"not a number\" – because there is no planet closer than it to the sun, with which to compare its distance.)\n",
    "\n",
    "We can make this a little clearer by setting the planet names as our index, as we learned in [Creating a DataFrame](../1/Creating_DataFrame.html#the-index). pandas will carry over this index into computed `Series` and `DataFrame` objects."
   ]
  },
  {
   "cell_type": "code",
   "execution_count": 6,
   "id": "5935ff59-b4ff-4d21-b3c2-f494d6f8c9c8",
   "metadata": {},
   "outputs": [
    {
     "data": {
      "text/plain": [
       "name\n",
       "Mercury       NaN\n",
       "Venus        50.3\n",
       "Earth        41.4\n",
       "Mars         78.3\n",
       "Jupiter     550.7\n",
       "Saturn      654.9\n",
       "Uranus     1439.0\n",
       "Neptune    1622.6\n",
       "Name: solar_distance_km_6, dtype: float64"
      ]
     },
     "execution_count": 6,
     "metadata": {},
     "output_type": "execute_result"
    }
   ],
   "source": [
    "planets_named = planets.set_index('name')\n",
    "\n",
    "planets_named.solar_distance_km_6.diff()"
   ]
  },
  {
   "cell_type": "markdown",
   "id": "a1a5cd8c-0851-408b-ad7c-31387cd8b082",
   "metadata": {},
   "source": [
    "Even better, we can invoke the `rename` method of the resulting `Series` such that this label reflects what it actually is."
   ]
  },
  {
   "cell_type": "code",
   "execution_count": 7,
   "id": "c87db417-bda4-4327-8443-d6ed5e05f504",
   "metadata": {},
   "outputs": [
    {
     "data": {
      "text/plain": [
       "name\n",
       "Mercury       NaN\n",
       "Venus        50.3\n",
       "Earth        41.4\n",
       "Mars         78.3\n",
       "Jupiter     550.7\n",
       "Saturn      654.9\n",
       "Uranus     1439.0\n",
       "Neptune    1622.6\n",
       "Name: relative distance (km^6), dtype: float64"
      ]
     },
     "execution_count": 7,
     "metadata": {},
     "output_type": "execute_result"
    }
   ],
   "source": [
    "(\n",
    "    planets_named\n",
    "    .solar_distance_km_6\n",
    "    .diff()\n",
    "    .rename('relative distance (km^6)')\n",
    ")"
   ]
  },
  {
   "cell_type": "markdown",
   "id": "218879fb-d74d-4953-bce7-8262c23f5fd6",
   "metadata": {},
   "source": [
    "And, indeed, the distances between the planets increase dramatically.\n",
    "\n",
    "We can see roughly that the first big jump is in the distance between Mars and Jupiter. The distances between the outer planets then continue to be greater than those between the inner planets, and continue to increase. But there's another big intermediate jump, between Saturn and Uranus.\n",
    "\n",
    "We can express the above quantitatively, as well, with the `pct_change` method."
   ]
  },
  {
   "cell_type": "code",
   "execution_count": 8,
   "id": "0c7024a2-ca79-41eb-8213-f0a0e6a306e5",
   "metadata": {},
   "outputs": [
    {
     "data": {
      "text/plain": [
       "name\n",
       "Mercury         NaN\n",
       "Venus      0.868739\n",
       "Earth      0.382625\n",
       "Mars       0.523396\n",
       "Jupiter    2.416411\n",
       "Saturn     0.841125\n",
       "Uranus     1.003837\n",
       "Neptune    0.564874\n",
       "Name: fractional distance, dtype: float64"
      ]
     },
     "execution_count": 8,
     "metadata": {},
     "output_type": "execute_result"
    }
   ],
   "source": [
    "distance_rel_change = (\n",
    "    planets_named\n",
    "    .solar_distance_km_6\n",
    "    .pct_change()\n",
    "    .rename('fractional distance')\n",
    ")\n",
    "\n",
    "distance_rel_change"
   ]
  },
  {
   "cell_type": "markdown",
   "id": "2d9949a6-e980-4bab-88cd-f95d02ddebd6",
   "metadata": {},
   "source": [
    "The `pct_change` method computes the _fractional change_ (despite its name!) between successive elements.\n",
    "\n",
    "That is, `pct_change` maps each difference to a ratio of the absolute value before it. Ultimately, this compares the distance of each planet from the sun, $distance_1$, to the distance of the planet preceding it, $distance_0$, according to:\n",
    "\n",
    "$$\n",
    "\\frac{distance_1 - distance_0}{distance_0}\n",
    "$$\n",
    "\n",
    "\n",
    "We see that Venus is farther from the sun than Mercury – but its distance from Mercury (50.3 km) is a little less than Mercury's distance from the sun (57.9 km) – only 86.8739% as great. Earth's relative distance from Venus is even smaller."
   ]
  },
  {
   "cell_type": "markdown",
   "id": "95738c03-9877-4089-810e-a77f8c46d0ee",
   "metadata": {},
   "source": [
    "## Operators on Series\n"
   ]
  },
  {
   "cell_type": "markdown",
   "id": "483cdbd0-8c31-484a-8697-acea205b49ca",
   "metadata": {},
   "source": [
    "`Series` objects also support Python's built-in operators, such as `*` for multiplication and `/` for division.\n",
    "\n",
    "This is similar to such operations with Python's `list`, but note! The `Series` responds to such operations differently."
   ]
  },
  {
   "cell_type": "code",
   "execution_count": 9,
   "id": "e3cefd37-bcad-453d-98af-44ab672333d8",
   "metadata": {},
   "outputs": [
    {
     "data": {
      "text/plain": [
       "0      57.9\n",
       "1     108.2\n",
       "2     149.6\n",
       "3     227.9\n",
       "4     778.6\n",
       "5    1433.5\n",
       "6    2872.5\n",
       "7    4495.1\n",
       "Name: solar_distance_km_6, dtype: float64"
      ]
     },
     "execution_count": 9,
     "metadata": {},
     "output_type": "execute_result"
    }
   ],
   "source": [
    "planets.solar_distance_km_6"
   ]
  },
  {
   "cell_type": "code",
   "execution_count": 10,
   "id": "6640a060-1b6e-4862-9a22-c823b46fc31d",
   "metadata": {},
   "outputs": [
    {
     "data": {
      "text/plain": [
       "0     115.8\n",
       "1     216.4\n",
       "2     299.2\n",
       "3     455.8\n",
       "4    1557.2\n",
       "5    2867.0\n",
       "6    5745.0\n",
       "7    8990.2\n",
       "Name: solar_distance_km_6, dtype: float64"
      ]
     },
     "execution_count": 10,
     "metadata": {},
     "output_type": "execute_result"
    }
   ],
   "source": [
    "2 * planets.solar_distance_km_6"
   ]
  },
  {
   "cell_type": "markdown",
   "id": "22158763-80a3-4b4f-8f71-84e57bb341d2",
   "metadata": {},
   "source": [
    "Above, pandas applied our multiplication operation to _each value_ in the `Series`, and returned a new `Series` of the results.\n",
    "\n",
    "The number of rows – or _individuals_ – really, the number of planets referenced by the data, didn't change. That's good!\n",
    "\n",
    "This is useful for data analysis. But it's quite different from the `list`:"
   ]
  },
  {
   "cell_type": "code",
   "execution_count": 11,
   "id": "0e0f2474-bf90-4ffe-a1dc-acd3ebf37ffc",
   "metadata": {},
   "outputs": [
    {
     "data": {
      "text/plain": [
       "[57.9,\n",
       " 108.2,\n",
       " 149.6,\n",
       " 227.9,\n",
       " 778.6,\n",
       " 1433.5,\n",
       " 2872.5,\n",
       " 4495.1,\n",
       " 57.9,\n",
       " 108.2,\n",
       " 149.6,\n",
       " 227.9,\n",
       " 778.6,\n",
       " 1433.5,\n",
       " 2872.5,\n",
       " 4495.1]"
      ]
     },
     "execution_count": 11,
     "metadata": {},
     "output_type": "execute_result"
    }
   ],
   "source": [
    "2 * planets.solar_distance_km_6.tolist()"
   ]
  },
  {
   "cell_type": "markdown",
   "id": "a4e9ceb0-e69b-4d9e-8ac9-eb84c586f120",
   "metadata": {},
   "source": [
    "That is, the `list` [applied the operation to itself](../../04/1/Lists.html#aggregation), not to its individual elements – having the effect of simply listing the data twice."
   ]
  },
  {
   "cell_type": "markdown",
   "id": "348242a9-42b4-4f65-8c08-82ba66748c16",
   "metadata": {},
   "source": [
    "Now we can represent our fractional distance changes as conventional percentages – by simply multiplying them by `100`."
   ]
  },
  {
   "cell_type": "code",
   "execution_count": 12,
   "id": "9e7a9de1-b0ec-45a6-87fb-30dbf57b5c60",
   "metadata": {},
   "outputs": [
    {
     "data": {
      "text/plain": [
       "name\n",
       "Mercury           NaN\n",
       "Venus       86.873921\n",
       "Earth       38.262477\n",
       "Mars        52.339572\n",
       "Jupiter    241.641071\n",
       "Saturn      84.112510\n",
       "Uranus     100.383676\n",
       "Neptune     56.487380\n",
       "Name: fractional distance, dtype: float64"
      ]
     },
     "execution_count": 12,
     "metadata": {},
     "output_type": "execute_result"
    }
   ],
   "source": [
    "distance_rel_change * 100"
   ]
  },
  {
   "cell_type": "markdown",
   "id": "82e2fa1c-d41e-4a7f-b155-093049f3bcb6",
   "metadata": {},
   "source": [
    "…And, named appropriately:"
   ]
  },
  {
   "cell_type": "code",
   "execution_count": 13,
   "id": "a7b72ad9-d1ae-47ee-9270-59c3dacd1f95",
   "metadata": {},
   "outputs": [
    {
     "data": {
      "text/plain": [
       "name\n",
       "Mercury           NaN\n",
       "Venus       86.873921\n",
       "Earth       38.262477\n",
       "Mars        52.339572\n",
       "Jupiter    241.641071\n",
       "Saturn      84.112510\n",
       "Uranus     100.383676\n",
       "Neptune     56.487380\n",
       "Name: percent distance, dtype: float64"
      ]
     },
     "execution_count": 13,
     "metadata": {},
     "output_type": "execute_result"
    }
   ],
   "source": [
    "distance_pct_change = (distance_rel_change * 100).rename('percent distance')\n",
    "\n",
    "distance_pct_change"
   ]
  },
  {
   "cell_type": "markdown",
   "id": "477bea68-f944-4532-8c0a-f1d2c428847e",
   "metadata": {},
   "source": [
    "## Adding columns\n",
    "\n",
    "It might be more meaningful to see the above values in context, along with our other planetary data. Indeed, we might consider our computed `Series` a new, computed, feature of our data."
   ]
  },
  {
   "cell_type": "markdown",
   "id": "1b17fd9d-650e-4801-b8ce-d3971cec5bed",
   "metadata": {},
   "source": [
    "### Assign method\n",
    "\n",
    "We can use the `assign` method to construct a new `DataFrame`, one which begins with the data from `planets` or `planets_named`, and which adds to this our new column."
   ]
  },
  {
   "cell_type": "code",
   "execution_count": 14,
   "id": "3985e453-7667-4776-9041-552dccaacb33",
   "metadata": {},
   "outputs": [
    {
     "data": {
      "text/html": [
       "<div>\n",
       "<style scoped>\n",
       "    .dataframe tbody tr th:only-of-type {\n",
       "        vertical-align: middle;\n",
       "    }\n",
       "\n",
       "    .dataframe tbody tr th {\n",
       "        vertical-align: top;\n",
       "    }\n",
       "\n",
       "    .dataframe thead th {\n",
       "        text-align: right;\n",
       "    }\n",
       "</style>\n",
       "<table border=\"1\" class=\"dataframe\">\n",
       "  <thead>\n",
       "    <tr style=\"text-align: right;\">\n",
       "      <th></th>\n",
       "      <th>solar_distance_km_6</th>\n",
       "      <th>mass_kg_24</th>\n",
       "      <th>density_kg_m3</th>\n",
       "      <th>gravity_m_s2</th>\n",
       "      <th>distance_pct_change</th>\n",
       "    </tr>\n",
       "    <tr>\n",
       "      <th>name</th>\n",
       "      <th></th>\n",
       "      <th></th>\n",
       "      <th></th>\n",
       "      <th></th>\n",
       "      <th></th>\n",
       "    </tr>\n",
       "  </thead>\n",
       "  <tbody>\n",
       "    <tr>\n",
       "      <th>Mercury</th>\n",
       "      <td>57.9</td>\n",
       "      <td>0.330</td>\n",
       "      <td>5427.0</td>\n",
       "      <td>3.7</td>\n",
       "      <td>NaN</td>\n",
       "    </tr>\n",
       "    <tr>\n",
       "      <th>Venus</th>\n",
       "      <td>108.2</td>\n",
       "      <td>4.870</td>\n",
       "      <td>5243.0</td>\n",
       "      <td>8.9</td>\n",
       "      <td>86.873921</td>\n",
       "    </tr>\n",
       "    <tr>\n",
       "      <th>Earth</th>\n",
       "      <td>149.6</td>\n",
       "      <td>5.970</td>\n",
       "      <td>5514.0</td>\n",
       "      <td>9.8</td>\n",
       "      <td>38.262477</td>\n",
       "    </tr>\n",
       "    <tr>\n",
       "      <th>Mars</th>\n",
       "      <td>227.9</td>\n",
       "      <td>0.642</td>\n",
       "      <td>3933.0</td>\n",
       "      <td>3.7</td>\n",
       "      <td>52.339572</td>\n",
       "    </tr>\n",
       "    <tr>\n",
       "      <th>Jupiter</th>\n",
       "      <td>778.6</td>\n",
       "      <td>1898.000</td>\n",
       "      <td>1326.0</td>\n",
       "      <td>23.1</td>\n",
       "      <td>241.641071</td>\n",
       "    </tr>\n",
       "    <tr>\n",
       "      <th>Saturn</th>\n",
       "      <td>1433.5</td>\n",
       "      <td>568.000</td>\n",
       "      <td>687.0</td>\n",
       "      <td>9.0</td>\n",
       "      <td>84.112510</td>\n",
       "    </tr>\n",
       "    <tr>\n",
       "      <th>Uranus</th>\n",
       "      <td>2872.5</td>\n",
       "      <td>86.800</td>\n",
       "      <td>1271.0</td>\n",
       "      <td>8.7</td>\n",
       "      <td>100.383676</td>\n",
       "    </tr>\n",
       "    <tr>\n",
       "      <th>Neptune</th>\n",
       "      <td>4495.1</td>\n",
       "      <td>102.000</td>\n",
       "      <td>1638.0</td>\n",
       "      <td>11.0</td>\n",
       "      <td>56.487380</td>\n",
       "    </tr>\n",
       "  </tbody>\n",
       "</table>\n",
       "</div>"
      ],
      "text/plain": [
       "         solar_distance_km_6  mass_kg_24  density_kg_m3  gravity_m_s2  \\\n",
       "name                                                                    \n",
       "Mercury                 57.9       0.330         5427.0           3.7   \n",
       "Venus                  108.2       4.870         5243.0           8.9   \n",
       "Earth                  149.6       5.970         5514.0           9.8   \n",
       "Mars                   227.9       0.642         3933.0           3.7   \n",
       "Jupiter                778.6    1898.000         1326.0          23.1   \n",
       "Saturn                1433.5     568.000          687.0           9.0   \n",
       "Uranus                2872.5      86.800         1271.0           8.7   \n",
       "Neptune               4495.1     102.000         1638.0          11.0   \n",
       "\n",
       "         distance_pct_change  \n",
       "name                          \n",
       "Mercury                  NaN  \n",
       "Venus              86.873921  \n",
       "Earth              38.262477  \n",
       "Mars               52.339572  \n",
       "Jupiter           241.641071  \n",
       "Saturn             84.112510  \n",
       "Uranus            100.383676  \n",
       "Neptune            56.487380  "
      ]
     },
     "execution_count": 14,
     "metadata": {},
     "output_type": "execute_result"
    }
   ],
   "source": [
    "planets_named.assign(distance_pct_change=distance_pct_change)"
   ]
  },
  {
   "cell_type": "markdown",
   "id": "0a2bfc5a-9c26-44bb-9d99-3d51eaed49e8",
   "metadata": {},
   "source": [
    "As you can see, the `assign` method accepts *only* named keyword arguments. Notably, these can be *any* syntactically-valid name – pandas adds the sequence of values you specify to the existing data as a new column, and *assigns* to the new column this name.\n",
    "\n",
    "Above we assigned to this column the data contained in a `Series`. pandas will collect values from any sequence – also including `list` and `array`.\n",
    "\n",
    "Note also that the column _may_ already exist – in which case it is simply overwritten."
   ]
  },
  {
   "cell_type": "markdown",
   "id": "e091c4de-4126-43ed-b7e0-f2a45ebf5094",
   "metadata": {},
   "source": [
    "### Assignment\n",
    "\n",
    "It's far more common, however, to add columns by treating the `DataFrame` like a dictionary.\n",
    "\n",
    "The syntax is identical to that when assigning items to the Python `dict`.\n",
    "\n",
    "As with the `assign` method, any sequence of values may be read into the new (or overwritten) column."
   ]
  },
  {
   "cell_type": "code",
   "execution_count": 15,
   "id": "9692e470-8c5c-4e66-8fcc-1a8570f5189b",
   "metadata": {},
   "outputs": [
    {
     "data": {
      "text/html": [
       "<div>\n",
       "<style scoped>\n",
       "    .dataframe tbody tr th:only-of-type {\n",
       "        vertical-align: middle;\n",
       "    }\n",
       "\n",
       "    .dataframe tbody tr th {\n",
       "        vertical-align: top;\n",
       "    }\n",
       "\n",
       "    .dataframe thead th {\n",
       "        text-align: right;\n",
       "    }\n",
       "</style>\n",
       "<table border=\"1\" class=\"dataframe\">\n",
       "  <thead>\n",
       "    <tr style=\"text-align: right;\">\n",
       "      <th></th>\n",
       "      <th>solar_distance_km_6</th>\n",
       "      <th>mass_kg_24</th>\n",
       "      <th>density_kg_m3</th>\n",
       "      <th>gravity_m_s2</th>\n",
       "      <th>temperature_mean_c</th>\n",
       "    </tr>\n",
       "    <tr>\n",
       "      <th>name</th>\n",
       "      <th></th>\n",
       "      <th></th>\n",
       "      <th></th>\n",
       "      <th></th>\n",
       "      <th></th>\n",
       "    </tr>\n",
       "  </thead>\n",
       "  <tbody>\n",
       "    <tr>\n",
       "      <th>Mercury</th>\n",
       "      <td>57.9</td>\n",
       "      <td>0.330</td>\n",
       "      <td>5427.0</td>\n",
       "      <td>3.7</td>\n",
       "      <td>167</td>\n",
       "    </tr>\n",
       "    <tr>\n",
       "      <th>Venus</th>\n",
       "      <td>108.2</td>\n",
       "      <td>4.870</td>\n",
       "      <td>5243.0</td>\n",
       "      <td>8.9</td>\n",
       "      <td>464</td>\n",
       "    </tr>\n",
       "    <tr>\n",
       "      <th>Earth</th>\n",
       "      <td>149.6</td>\n",
       "      <td>5.970</td>\n",
       "      <td>5514.0</td>\n",
       "      <td>9.8</td>\n",
       "      <td>15</td>\n",
       "    </tr>\n",
       "    <tr>\n",
       "      <th>Mars</th>\n",
       "      <td>227.9</td>\n",
       "      <td>0.642</td>\n",
       "      <td>3933.0</td>\n",
       "      <td>3.7</td>\n",
       "      <td>-65</td>\n",
       "    </tr>\n",
       "    <tr>\n",
       "      <th>Jupiter</th>\n",
       "      <td>778.6</td>\n",
       "      <td>1898.000</td>\n",
       "      <td>1326.0</td>\n",
       "      <td>23.1</td>\n",
       "      <td>-110</td>\n",
       "    </tr>\n",
       "    <tr>\n",
       "      <th>Saturn</th>\n",
       "      <td>1433.5</td>\n",
       "      <td>568.000</td>\n",
       "      <td>687.0</td>\n",
       "      <td>9.0</td>\n",
       "      <td>-140</td>\n",
       "    </tr>\n",
       "    <tr>\n",
       "      <th>Uranus</th>\n",
       "      <td>2872.5</td>\n",
       "      <td>86.800</td>\n",
       "      <td>1271.0</td>\n",
       "      <td>8.7</td>\n",
       "      <td>-195</td>\n",
       "    </tr>\n",
       "    <tr>\n",
       "      <th>Neptune</th>\n",
       "      <td>4495.1</td>\n",
       "      <td>102.000</td>\n",
       "      <td>1638.0</td>\n",
       "      <td>11.0</td>\n",
       "      <td>-200</td>\n",
       "    </tr>\n",
       "  </tbody>\n",
       "</table>\n",
       "</div>"
      ],
      "text/plain": [
       "         solar_distance_km_6  mass_kg_24  density_kg_m3  gravity_m_s2  \\\n",
       "name                                                                    \n",
       "Mercury                 57.9       0.330         5427.0           3.7   \n",
       "Venus                  108.2       4.870         5243.0           8.9   \n",
       "Earth                  149.6       5.970         5514.0           9.8   \n",
       "Mars                   227.9       0.642         3933.0           3.7   \n",
       "Jupiter                778.6    1898.000         1326.0          23.1   \n",
       "Saturn                1433.5     568.000          687.0           9.0   \n",
       "Uranus                2872.5      86.800         1271.0           8.7   \n",
       "Neptune               4495.1     102.000         1638.0          11.0   \n",
       "\n",
       "         temperature_mean_c  \n",
       "name                         \n",
       "Mercury                 167  \n",
       "Venus                   464  \n",
       "Earth                    15  \n",
       "Mars                    -65  \n",
       "Jupiter                -110  \n",
       "Saturn                 -140  \n",
       "Uranus                 -195  \n",
       "Neptune                -200  "
      ]
     },
     "execution_count": 15,
     "metadata": {},
     "output_type": "execute_result"
    }
   ],
   "source": [
    "planets_named1 = planets.set_index('name')\n",
    "\n",
    "planets_named1['temperature_mean_c'] = [167, 464, 15, -65, -110, -140, -195, -200]\n",
    "\n",
    "planets_named1"
   ]
  },
  {
   "cell_type": "markdown",
   "id": "a7299cf7-7a28-469d-9fe5-ba82cd752d9c",
   "metadata": {},
   "source": [
    "The syntax of dictionary item assignment also has the advantage that the key – or column name – need not conform to Python's syntax for names and keywords. Rather, any string is allowed."
   ]
  },
  {
   "cell_type": "code",
   "execution_count": 16,
   "id": "8f66de83-a860-403e-b955-c27e894a3186",
   "metadata": {},
   "outputs": [],
   "source": [
    "planets_named1['how cold is it in degrees centigrade, anyway? ☃'] = [167, 464, 15, -65, -110, -140, -195, -200]"
   ]
  },
  {
   "cell_type": "markdown",
   "id": "a54ca731-7bc2-4b80-b295-f755d50875ee",
   "metadata": {},
   "source": [
    ":::{attention}\n",
    "Assigning columns via this syntax also mirrors the operation with `dict` in that it modifies the `DataFrame` \"in place\" – the expression above did not evaluate to a new `DataFrame`, because no new `DataFrame` was constructed.\n",
    "\n",
    "This is often the desired result.\n",
    "\n",
    "However, it can lead to mistakes – as the name we've assigned to the `DataFrame`, such as `planets` or `planets_named`, then refers to an object with different values than it did before. For this reason, \"in place\" operations are supported, but not generally the default for pandas methods, such as `assign`.\n",
    ":::"
   ]
  },
  {
   "cell_type": "markdown",
   "id": "ffe36a9a-306a-4c24-b664-79ded0b209f6",
   "metadata": {},
   "source": [
    "Let's take a look at our now-changed `planets_named1`."
   ]
  },
  {
   "cell_type": "code",
   "execution_count": 17,
   "id": "0f62ec08-c4a6-488e-b804-b583e34a10b8",
   "metadata": {},
   "outputs": [
    {
     "data": {
      "text/html": [
       "<div>\n",
       "<style scoped>\n",
       "    .dataframe tbody tr th:only-of-type {\n",
       "        vertical-align: middle;\n",
       "    }\n",
       "\n",
       "    .dataframe tbody tr th {\n",
       "        vertical-align: top;\n",
       "    }\n",
       "\n",
       "    .dataframe thead th {\n",
       "        text-align: right;\n",
       "    }\n",
       "</style>\n",
       "<table border=\"1\" class=\"dataframe\">\n",
       "  <thead>\n",
       "    <tr style=\"text-align: right;\">\n",
       "      <th></th>\n",
       "      <th>solar_distance_km_6</th>\n",
       "      <th>mass_kg_24</th>\n",
       "      <th>density_kg_m3</th>\n",
       "      <th>gravity_m_s2</th>\n",
       "      <th>temperature_mean_c</th>\n",
       "      <th>how cold is it in degrees centigrade, anyway? ☃</th>\n",
       "    </tr>\n",
       "    <tr>\n",
       "      <th>name</th>\n",
       "      <th></th>\n",
       "      <th></th>\n",
       "      <th></th>\n",
       "      <th></th>\n",
       "      <th></th>\n",
       "      <th></th>\n",
       "    </tr>\n",
       "  </thead>\n",
       "  <tbody>\n",
       "    <tr>\n",
       "      <th>Mercury</th>\n",
       "      <td>57.9</td>\n",
       "      <td>0.330</td>\n",
       "      <td>5427.0</td>\n",
       "      <td>3.7</td>\n",
       "      <td>167</td>\n",
       "      <td>167</td>\n",
       "    </tr>\n",
       "    <tr>\n",
       "      <th>Venus</th>\n",
       "      <td>108.2</td>\n",
       "      <td>4.870</td>\n",
       "      <td>5243.0</td>\n",
       "      <td>8.9</td>\n",
       "      <td>464</td>\n",
       "      <td>464</td>\n",
       "    </tr>\n",
       "    <tr>\n",
       "      <th>Earth</th>\n",
       "      <td>149.6</td>\n",
       "      <td>5.970</td>\n",
       "      <td>5514.0</td>\n",
       "      <td>9.8</td>\n",
       "      <td>15</td>\n",
       "      <td>15</td>\n",
       "    </tr>\n",
       "    <tr>\n",
       "      <th>Mars</th>\n",
       "      <td>227.9</td>\n",
       "      <td>0.642</td>\n",
       "      <td>3933.0</td>\n",
       "      <td>3.7</td>\n",
       "      <td>-65</td>\n",
       "      <td>-65</td>\n",
       "    </tr>\n",
       "    <tr>\n",
       "      <th>Jupiter</th>\n",
       "      <td>778.6</td>\n",
       "      <td>1898.000</td>\n",
       "      <td>1326.0</td>\n",
       "      <td>23.1</td>\n",
       "      <td>-110</td>\n",
       "      <td>-110</td>\n",
       "    </tr>\n",
       "    <tr>\n",
       "      <th>Saturn</th>\n",
       "      <td>1433.5</td>\n",
       "      <td>568.000</td>\n",
       "      <td>687.0</td>\n",
       "      <td>9.0</td>\n",
       "      <td>-140</td>\n",
       "      <td>-140</td>\n",
       "    </tr>\n",
       "    <tr>\n",
       "      <th>Uranus</th>\n",
       "      <td>2872.5</td>\n",
       "      <td>86.800</td>\n",
       "      <td>1271.0</td>\n",
       "      <td>8.7</td>\n",
       "      <td>-195</td>\n",
       "      <td>-195</td>\n",
       "    </tr>\n",
       "    <tr>\n",
       "      <th>Neptune</th>\n",
       "      <td>4495.1</td>\n",
       "      <td>102.000</td>\n",
       "      <td>1638.0</td>\n",
       "      <td>11.0</td>\n",
       "      <td>-200</td>\n",
       "      <td>-200</td>\n",
       "    </tr>\n",
       "  </tbody>\n",
       "</table>\n",
       "</div>"
      ],
      "text/plain": [
       "         solar_distance_km_6  mass_kg_24  density_kg_m3  gravity_m_s2  \\\n",
       "name                                                                    \n",
       "Mercury                 57.9       0.330         5427.0           3.7   \n",
       "Venus                  108.2       4.870         5243.0           8.9   \n",
       "Earth                  149.6       5.970         5514.0           9.8   \n",
       "Mars                   227.9       0.642         3933.0           3.7   \n",
       "Jupiter                778.6    1898.000         1326.0          23.1   \n",
       "Saturn                1433.5     568.000          687.0           9.0   \n",
       "Uranus                2872.5      86.800         1271.0           8.7   \n",
       "Neptune               4495.1     102.000         1638.0          11.0   \n",
       "\n",
       "         temperature_mean_c  how cold is it in degrees centigrade, anyway? ☃  \n",
       "name                                                                          \n",
       "Mercury                 167                                              167  \n",
       "Venus                   464                                              464  \n",
       "Earth                    15                                               15  \n",
       "Mars                    -65                                              -65  \n",
       "Jupiter                -110                                             -110  \n",
       "Saturn                 -140                                             -140  \n",
       "Uranus                 -195                                             -195  \n",
       "Neptune                -200                                             -200  "
      ]
     },
     "execution_count": 17,
     "metadata": {},
     "output_type": "execute_result"
    }
   ],
   "source": [
    "planets_named1"
   ]
  },
  {
   "cell_type": "markdown",
   "id": "0ea4d5e4-ace0-4326-b301-85e609d4fb8e",
   "metadata": {},
   "source": [
    "We re-constructed our \"named planets\" `DataFrame`, calling it `planets_named1`, to avoid modifying `planets_named`.\n",
    "\n",
    "(Of course, if this weren't a simple example, we'd want to use a more descriptive name than that, to reflect our intent with the new data structure.)\n",
    "\n",
    "Our expression to re-construct the `DataFrame` wasn't complex; but, this can be cumbersome.\n",
    "\n",
    "More generally, when we'd like to maintain multiple separate representations of our data, we can simply make a copy of our initial `DataFrame` prior to modifying it, using the `copy` method."
   ]
  },
  {
   "cell_type": "code",
   "execution_count": 18,
   "id": "0c9b4b7d-57f6-4f95-85ce-bbb0d69a02f7",
   "metadata": {},
   "outputs": [],
   "source": [
    "planets_for_holiday = planets_named.copy()"
   ]
  },
  {
   "cell_type": "markdown",
   "id": "b5ad79ee-2149-44cf-a960-724ac7edfd39",
   "metadata": {},
   "source": [
    "`planets_for_holiday` and `planets_named` are now separate objects – they just refer to the same data.\n",
    "\n",
    "And now we can modify one without affecting the other."
   ]
  },
  {
   "cell_type": "code",
   "execution_count": 19,
   "id": "435a4fcf-0f6d-4416-a107-41012b51dc2e",
   "metadata": {},
   "outputs": [
    {
     "data": {
      "text/html": [
       "<div>\n",
       "<style scoped>\n",
       "    .dataframe tbody tr th:only-of-type {\n",
       "        vertical-align: middle;\n",
       "    }\n",
       "\n",
       "    .dataframe tbody tr th {\n",
       "        vertical-align: top;\n",
       "    }\n",
       "\n",
       "    .dataframe thead th {\n",
       "        text-align: right;\n",
       "    }\n",
       "</style>\n",
       "<table border=\"1\" class=\"dataframe\">\n",
       "  <thead>\n",
       "    <tr style=\"text-align: right;\">\n",
       "      <th></th>\n",
       "      <th>solar_distance_km_6</th>\n",
       "      <th>mass_kg_24</th>\n",
       "      <th>density_kg_m3</th>\n",
       "      <th>gravity_m_s2</th>\n",
       "      <th>temperature_mean_c</th>\n",
       "    </tr>\n",
       "    <tr>\n",
       "      <th>name</th>\n",
       "      <th></th>\n",
       "      <th></th>\n",
       "      <th></th>\n",
       "      <th></th>\n",
       "      <th></th>\n",
       "    </tr>\n",
       "  </thead>\n",
       "  <tbody>\n",
       "    <tr>\n",
       "      <th>Mercury</th>\n",
       "      <td>57.9</td>\n",
       "      <td>0.330</td>\n",
       "      <td>5427.0</td>\n",
       "      <td>3.7</td>\n",
       "      <td>167</td>\n",
       "    </tr>\n",
       "    <tr>\n",
       "      <th>Venus</th>\n",
       "      <td>108.2</td>\n",
       "      <td>4.870</td>\n",
       "      <td>5243.0</td>\n",
       "      <td>8.9</td>\n",
       "      <td>464</td>\n",
       "    </tr>\n",
       "    <tr>\n",
       "      <th>Earth</th>\n",
       "      <td>149.6</td>\n",
       "      <td>5.970</td>\n",
       "      <td>5514.0</td>\n",
       "      <td>9.8</td>\n",
       "      <td>15</td>\n",
       "    </tr>\n",
       "    <tr>\n",
       "      <th>Mars</th>\n",
       "      <td>227.9</td>\n",
       "      <td>0.642</td>\n",
       "      <td>3933.0</td>\n",
       "      <td>3.7</td>\n",
       "      <td>-65</td>\n",
       "    </tr>\n",
       "    <tr>\n",
       "      <th>Jupiter</th>\n",
       "      <td>778.6</td>\n",
       "      <td>1898.000</td>\n",
       "      <td>1326.0</td>\n",
       "      <td>23.1</td>\n",
       "      <td>-110</td>\n",
       "    </tr>\n",
       "    <tr>\n",
       "      <th>Saturn</th>\n",
       "      <td>1433.5</td>\n",
       "      <td>568.000</td>\n",
       "      <td>687.0</td>\n",
       "      <td>9.0</td>\n",
       "      <td>-140</td>\n",
       "    </tr>\n",
       "    <tr>\n",
       "      <th>Uranus</th>\n",
       "      <td>2872.5</td>\n",
       "      <td>86.800</td>\n",
       "      <td>1271.0</td>\n",
       "      <td>8.7</td>\n",
       "      <td>-195</td>\n",
       "    </tr>\n",
       "    <tr>\n",
       "      <th>Neptune</th>\n",
       "      <td>4495.1</td>\n",
       "      <td>102.000</td>\n",
       "      <td>1638.0</td>\n",
       "      <td>11.0</td>\n",
       "      <td>-200</td>\n",
       "    </tr>\n",
       "  </tbody>\n",
       "</table>\n",
       "</div>"
      ],
      "text/plain": [
       "         solar_distance_km_6  mass_kg_24  density_kg_m3  gravity_m_s2  \\\n",
       "name                                                                    \n",
       "Mercury                 57.9       0.330         5427.0           3.7   \n",
       "Venus                  108.2       4.870         5243.0           8.9   \n",
       "Earth                  149.6       5.970         5514.0           9.8   \n",
       "Mars                   227.9       0.642         3933.0           3.7   \n",
       "Jupiter                778.6    1898.000         1326.0          23.1   \n",
       "Saturn                1433.5     568.000          687.0           9.0   \n",
       "Uranus                2872.5      86.800         1271.0           8.7   \n",
       "Neptune               4495.1     102.000         1638.0          11.0   \n",
       "\n",
       "         temperature_mean_c  \n",
       "name                         \n",
       "Mercury                 167  \n",
       "Venus                   464  \n",
       "Earth                    15  \n",
       "Mars                    -65  \n",
       "Jupiter                -110  \n",
       "Saturn                 -140  \n",
       "Uranus                 -195  \n",
       "Neptune                -200  "
      ]
     },
     "execution_count": 19,
     "metadata": {},
     "output_type": "execute_result"
    }
   ],
   "source": [
    "planets_for_holiday['temperature_mean_c'] = [167, 464, 15, -65, -110, -140, -195, -200]\n",
    "\n",
    "planets_for_holiday"
   ]
  },
  {
   "cell_type": "code",
   "execution_count": 20,
   "id": "9ae8f3d2-a760-4939-9f20-c5e5f99cd5b1",
   "metadata": {},
   "outputs": [
    {
     "data": {
      "text/html": [
       "<div>\n",
       "<style scoped>\n",
       "    .dataframe tbody tr th:only-of-type {\n",
       "        vertical-align: middle;\n",
       "    }\n",
       "\n",
       "    .dataframe tbody tr th {\n",
       "        vertical-align: top;\n",
       "    }\n",
       "\n",
       "    .dataframe thead th {\n",
       "        text-align: right;\n",
       "    }\n",
       "</style>\n",
       "<table border=\"1\" class=\"dataframe\">\n",
       "  <thead>\n",
       "    <tr style=\"text-align: right;\">\n",
       "      <th></th>\n",
       "      <th>solar_distance_km_6</th>\n",
       "      <th>mass_kg_24</th>\n",
       "      <th>density_kg_m3</th>\n",
       "      <th>gravity_m_s2</th>\n",
       "    </tr>\n",
       "    <tr>\n",
       "      <th>name</th>\n",
       "      <th></th>\n",
       "      <th></th>\n",
       "      <th></th>\n",
       "      <th></th>\n",
       "    </tr>\n",
       "  </thead>\n",
       "  <tbody>\n",
       "    <tr>\n",
       "      <th>Mercury</th>\n",
       "      <td>57.9</td>\n",
       "      <td>0.330</td>\n",
       "      <td>5427.0</td>\n",
       "      <td>3.7</td>\n",
       "    </tr>\n",
       "    <tr>\n",
       "      <th>Venus</th>\n",
       "      <td>108.2</td>\n",
       "      <td>4.870</td>\n",
       "      <td>5243.0</td>\n",
       "      <td>8.9</td>\n",
       "    </tr>\n",
       "    <tr>\n",
       "      <th>Earth</th>\n",
       "      <td>149.6</td>\n",
       "      <td>5.970</td>\n",
       "      <td>5514.0</td>\n",
       "      <td>9.8</td>\n",
       "    </tr>\n",
       "    <tr>\n",
       "      <th>Mars</th>\n",
       "      <td>227.9</td>\n",
       "      <td>0.642</td>\n",
       "      <td>3933.0</td>\n",
       "      <td>3.7</td>\n",
       "    </tr>\n",
       "    <tr>\n",
       "      <th>Jupiter</th>\n",
       "      <td>778.6</td>\n",
       "      <td>1898.000</td>\n",
       "      <td>1326.0</td>\n",
       "      <td>23.1</td>\n",
       "    </tr>\n",
       "    <tr>\n",
       "      <th>Saturn</th>\n",
       "      <td>1433.5</td>\n",
       "      <td>568.000</td>\n",
       "      <td>687.0</td>\n",
       "      <td>9.0</td>\n",
       "    </tr>\n",
       "    <tr>\n",
       "      <th>Uranus</th>\n",
       "      <td>2872.5</td>\n",
       "      <td>86.800</td>\n",
       "      <td>1271.0</td>\n",
       "      <td>8.7</td>\n",
       "    </tr>\n",
       "    <tr>\n",
       "      <th>Neptune</th>\n",
       "      <td>4495.1</td>\n",
       "      <td>102.000</td>\n",
       "      <td>1638.0</td>\n",
       "      <td>11.0</td>\n",
       "    </tr>\n",
       "  </tbody>\n",
       "</table>\n",
       "</div>"
      ],
      "text/plain": [
       "         solar_distance_km_6  mass_kg_24  density_kg_m3  gravity_m_s2\n",
       "name                                                                 \n",
       "Mercury                 57.9       0.330         5427.0           3.7\n",
       "Venus                  108.2       4.870         5243.0           8.9\n",
       "Earth                  149.6       5.970         5514.0           9.8\n",
       "Mars                   227.9       0.642         3933.0           3.7\n",
       "Jupiter                778.6    1898.000         1326.0          23.1\n",
       "Saturn                1433.5     568.000          687.0           9.0\n",
       "Uranus                2872.5      86.800         1271.0           8.7\n",
       "Neptune               4495.1     102.000         1638.0          11.0"
      ]
     },
     "execution_count": 20,
     "metadata": {},
     "output_type": "execute_result"
    }
   ],
   "source": [
    "planets_named"
   ]
  },
  {
   "cell_type": "markdown",
   "id": "16f70ea8-f74a-4bc2-9fcd-904d3515c20c",
   "metadata": {},
   "source": [
    "Our column has been added to `planets_for_holiday`, but not to `planets_named`."
   ]
  },
  {
   "cell_type": "markdown",
   "id": "335ad3e8-bbfd-47de-88e8-f3d77b922b64",
   "metadata": {},
   "source": [
    "## Styled presentation\n",
    "\n",
    "Arguably, of course, our multiplication by 100 was only an aesthetic change. We might instead preserve the output of our `pct_change` calculation, and merely adjust the presentation of our `DataFrame`.\n",
    "\n",
    "pandas offers the `DataFrame` property `style`, whose `format` method accepts either functions or strings, with which it determines how to present its data. String arguments to this `format` method follow Python's standard form for indicating how a value should be presented as text.\n",
    "\n",
    "Python's strings offer their own `format` method. And, for example, we might construct a string presenting the `float` value `0.868739` as a conventional percentage, as follows."
   ]
  },
  {
   "cell_type": "code",
   "execution_count": 21,
   "id": "c3ade539-5208-40f3-adac-f84e3d1c61d1",
   "metadata": {},
   "outputs": [
    {
     "data": {
      "text/plain": [
       "'86.87%'"
      ]
     },
     "execution_count": 21,
     "metadata": {},
     "output_type": "execute_result"
    }
   ],
   "source": [
    "'{:.2%}'.format(0.868739)"
   ]
  },
  {
   "cell_type": "markdown",
   "id": "15c54fc9-7be9-4b33-aa58-78a82d750940",
   "metadata": {},
   "source": [
    "In a similar manner we can apply this formatting to our column, without altering the underlying values.\n",
    "\n",
    "First, starting from our basic `DataFrame` – `planets` – let's use what we've covered above to prepare just what we'd like to see."
   ]
  },
  {
   "cell_type": "code",
   "execution_count": 22,
   "id": "d1575176-2467-468e-bd8d-5d4cb6968eb4",
   "metadata": {},
   "outputs": [
    {
     "data": {
      "text/html": [
       "<div>\n",
       "<style scoped>\n",
       "    .dataframe tbody tr th:only-of-type {\n",
       "        vertical-align: middle;\n",
       "    }\n",
       "\n",
       "    .dataframe tbody tr th {\n",
       "        vertical-align: top;\n",
       "    }\n",
       "\n",
       "    .dataframe thead th {\n",
       "        text-align: right;\n",
       "    }\n",
       "</style>\n",
       "<table border=\"1\" class=\"dataframe\">\n",
       "  <thead>\n",
       "    <tr style=\"text-align: right;\">\n",
       "      <th></th>\n",
       "      <th>solar_distance_km_6</th>\n",
       "      <th>mass_kg_24</th>\n",
       "      <th>density_kg_m3</th>\n",
       "      <th>gravity_m_s2</th>\n",
       "      <th>distance_rel_change</th>\n",
       "    </tr>\n",
       "    <tr>\n",
       "      <th>name</th>\n",
       "      <th></th>\n",
       "      <th></th>\n",
       "      <th></th>\n",
       "      <th></th>\n",
       "      <th></th>\n",
       "    </tr>\n",
       "  </thead>\n",
       "  <tbody>\n",
       "    <tr>\n",
       "      <th>Mercury</th>\n",
       "      <td>57.9</td>\n",
       "      <td>0.330</td>\n",
       "      <td>5427.0</td>\n",
       "      <td>3.7</td>\n",
       "      <td>NaN</td>\n",
       "    </tr>\n",
       "    <tr>\n",
       "      <th>Venus</th>\n",
       "      <td>108.2</td>\n",
       "      <td>4.870</td>\n",
       "      <td>5243.0</td>\n",
       "      <td>8.9</td>\n",
       "      <td>0.868739</td>\n",
       "    </tr>\n",
       "    <tr>\n",
       "      <th>Earth</th>\n",
       "      <td>149.6</td>\n",
       "      <td>5.970</td>\n",
       "      <td>5514.0</td>\n",
       "      <td>9.8</td>\n",
       "      <td>0.382625</td>\n",
       "    </tr>\n",
       "    <tr>\n",
       "      <th>Mars</th>\n",
       "      <td>227.9</td>\n",
       "      <td>0.642</td>\n",
       "      <td>3933.0</td>\n",
       "      <td>3.7</td>\n",
       "      <td>0.523396</td>\n",
       "    </tr>\n",
       "    <tr>\n",
       "      <th>Jupiter</th>\n",
       "      <td>778.6</td>\n",
       "      <td>1898.000</td>\n",
       "      <td>1326.0</td>\n",
       "      <td>23.1</td>\n",
       "      <td>2.416411</td>\n",
       "    </tr>\n",
       "    <tr>\n",
       "      <th>Saturn</th>\n",
       "      <td>1433.5</td>\n",
       "      <td>568.000</td>\n",
       "      <td>687.0</td>\n",
       "      <td>9.0</td>\n",
       "      <td>0.841125</td>\n",
       "    </tr>\n",
       "    <tr>\n",
       "      <th>Uranus</th>\n",
       "      <td>2872.5</td>\n",
       "      <td>86.800</td>\n",
       "      <td>1271.0</td>\n",
       "      <td>8.7</td>\n",
       "      <td>1.003837</td>\n",
       "    </tr>\n",
       "    <tr>\n",
       "      <th>Neptune</th>\n",
       "      <td>4495.1</td>\n",
       "      <td>102.000</td>\n",
       "      <td>1638.0</td>\n",
       "      <td>11.0</td>\n",
       "      <td>0.564874</td>\n",
       "    </tr>\n",
       "  </tbody>\n",
       "</table>\n",
       "</div>"
      ],
      "text/plain": [
       "         solar_distance_km_6  mass_kg_24  density_kg_m3  gravity_m_s2  \\\n",
       "name                                                                    \n",
       "Mercury                 57.9       0.330         5427.0           3.7   \n",
       "Venus                  108.2       4.870         5243.0           8.9   \n",
       "Earth                  149.6       5.970         5514.0           9.8   \n",
       "Mars                   227.9       0.642         3933.0           3.7   \n",
       "Jupiter                778.6    1898.000         1326.0          23.1   \n",
       "Saturn                1433.5     568.000          687.0           9.0   \n",
       "Uranus                2872.5      86.800         1271.0           8.7   \n",
       "Neptune               4495.1     102.000         1638.0          11.0   \n",
       "\n",
       "         distance_rel_change  \n",
       "name                          \n",
       "Mercury                  NaN  \n",
       "Venus               0.868739  \n",
       "Earth               0.382625  \n",
       "Mars                0.523396  \n",
       "Jupiter             2.416411  \n",
       "Saturn              0.841125  \n",
       "Uranus              1.003837  \n",
       "Neptune             0.564874  "
      ]
     },
     "execution_count": 22,
     "metadata": {},
     "output_type": "execute_result"
    }
   ],
   "source": [
    "planets_friendly = planets.set_index('name')\n",
    "\n",
    "planets_friendly['distance_rel_change'] = distance_rel_change\n",
    "\n",
    "planets_friendly"
   ]
  },
  {
   "cell_type": "markdown",
   "id": "c971b810-e096-4f4c-bf88-9899c27681a0",
   "metadata": {},
   "source": [
    "We can now format the presentation of our relative distance column in a \"friendly\" manner."
   ]
  },
  {
   "cell_type": "code",
   "execution_count": 23,
   "id": "d4ea371a-b289-4e77-a61d-5f90f96e0d16",
   "metadata": {},
   "outputs": [
    {
     "data": {
      "text/html": [
       "<style type=\"text/css\">\n",
       "</style>\n",
       "<table id=\"T_2e66a\">\n",
       "  <thead>\n",
       "    <tr>\n",
       "      <th class=\"blank level0\" >&nbsp;</th>\n",
       "      <th id=\"T_2e66a_level0_col0\" class=\"col_heading level0 col0\" >solar_distance_km_6</th>\n",
       "      <th id=\"T_2e66a_level0_col1\" class=\"col_heading level0 col1\" >mass_kg_24</th>\n",
       "      <th id=\"T_2e66a_level0_col2\" class=\"col_heading level0 col2\" >density_kg_m3</th>\n",
       "      <th id=\"T_2e66a_level0_col3\" class=\"col_heading level0 col3\" >gravity_m_s2</th>\n",
       "      <th id=\"T_2e66a_level0_col4\" class=\"col_heading level0 col4\" >distance_rel_change</th>\n",
       "    </tr>\n",
       "    <tr>\n",
       "      <th class=\"index_name level0\" >name</th>\n",
       "      <th class=\"blank col0\" >&nbsp;</th>\n",
       "      <th class=\"blank col1\" >&nbsp;</th>\n",
       "      <th class=\"blank col2\" >&nbsp;</th>\n",
       "      <th class=\"blank col3\" >&nbsp;</th>\n",
       "      <th class=\"blank col4\" >&nbsp;</th>\n",
       "    </tr>\n",
       "  </thead>\n",
       "  <tbody>\n",
       "    <tr>\n",
       "      <th id=\"T_2e66a_level0_row0\" class=\"row_heading level0 row0\" >Mercury</th>\n",
       "      <td id=\"T_2e66a_row0_col0\" class=\"data row0 col0\" >57.900000</td>\n",
       "      <td id=\"T_2e66a_row0_col1\" class=\"data row0 col1\" >0.330000</td>\n",
       "      <td id=\"T_2e66a_row0_col2\" class=\"data row0 col2\" >5427.000000</td>\n",
       "      <td id=\"T_2e66a_row0_col3\" class=\"data row0 col3\" >3.700000</td>\n",
       "      <td id=\"T_2e66a_row0_col4\" class=\"data row0 col4\" >nan%</td>\n",
       "    </tr>\n",
       "    <tr>\n",
       "      <th id=\"T_2e66a_level0_row1\" class=\"row_heading level0 row1\" >Venus</th>\n",
       "      <td id=\"T_2e66a_row1_col0\" class=\"data row1 col0\" >108.200000</td>\n",
       "      <td id=\"T_2e66a_row1_col1\" class=\"data row1 col1\" >4.870000</td>\n",
       "      <td id=\"T_2e66a_row1_col2\" class=\"data row1 col2\" >5243.000000</td>\n",
       "      <td id=\"T_2e66a_row1_col3\" class=\"data row1 col3\" >8.900000</td>\n",
       "      <td id=\"T_2e66a_row1_col4\" class=\"data row1 col4\" >86.87%</td>\n",
       "    </tr>\n",
       "    <tr>\n",
       "      <th id=\"T_2e66a_level0_row2\" class=\"row_heading level0 row2\" >Earth</th>\n",
       "      <td id=\"T_2e66a_row2_col0\" class=\"data row2 col0\" >149.600000</td>\n",
       "      <td id=\"T_2e66a_row2_col1\" class=\"data row2 col1\" >5.970000</td>\n",
       "      <td id=\"T_2e66a_row2_col2\" class=\"data row2 col2\" >5514.000000</td>\n",
       "      <td id=\"T_2e66a_row2_col3\" class=\"data row2 col3\" >9.800000</td>\n",
       "      <td id=\"T_2e66a_row2_col4\" class=\"data row2 col4\" >38.26%</td>\n",
       "    </tr>\n",
       "    <tr>\n",
       "      <th id=\"T_2e66a_level0_row3\" class=\"row_heading level0 row3\" >Mars</th>\n",
       "      <td id=\"T_2e66a_row3_col0\" class=\"data row3 col0\" >227.900000</td>\n",
       "      <td id=\"T_2e66a_row3_col1\" class=\"data row3 col1\" >0.642000</td>\n",
       "      <td id=\"T_2e66a_row3_col2\" class=\"data row3 col2\" >3933.000000</td>\n",
       "      <td id=\"T_2e66a_row3_col3\" class=\"data row3 col3\" >3.700000</td>\n",
       "      <td id=\"T_2e66a_row3_col4\" class=\"data row3 col4\" >52.34%</td>\n",
       "    </tr>\n",
       "    <tr>\n",
       "      <th id=\"T_2e66a_level0_row4\" class=\"row_heading level0 row4\" >Jupiter</th>\n",
       "      <td id=\"T_2e66a_row4_col0\" class=\"data row4 col0\" >778.600000</td>\n",
       "      <td id=\"T_2e66a_row4_col1\" class=\"data row4 col1\" >1898.000000</td>\n",
       "      <td id=\"T_2e66a_row4_col2\" class=\"data row4 col2\" >1326.000000</td>\n",
       "      <td id=\"T_2e66a_row4_col3\" class=\"data row4 col3\" >23.100000</td>\n",
       "      <td id=\"T_2e66a_row4_col4\" class=\"data row4 col4\" >241.64%</td>\n",
       "    </tr>\n",
       "    <tr>\n",
       "      <th id=\"T_2e66a_level0_row5\" class=\"row_heading level0 row5\" >Saturn</th>\n",
       "      <td id=\"T_2e66a_row5_col0\" class=\"data row5 col0\" >1433.500000</td>\n",
       "      <td id=\"T_2e66a_row5_col1\" class=\"data row5 col1\" >568.000000</td>\n",
       "      <td id=\"T_2e66a_row5_col2\" class=\"data row5 col2\" >687.000000</td>\n",
       "      <td id=\"T_2e66a_row5_col3\" class=\"data row5 col3\" >9.000000</td>\n",
       "      <td id=\"T_2e66a_row5_col4\" class=\"data row5 col4\" >84.11%</td>\n",
       "    </tr>\n",
       "    <tr>\n",
       "      <th id=\"T_2e66a_level0_row6\" class=\"row_heading level0 row6\" >Uranus</th>\n",
       "      <td id=\"T_2e66a_row6_col0\" class=\"data row6 col0\" >2872.500000</td>\n",
       "      <td id=\"T_2e66a_row6_col1\" class=\"data row6 col1\" >86.800000</td>\n",
       "      <td id=\"T_2e66a_row6_col2\" class=\"data row6 col2\" >1271.000000</td>\n",
       "      <td id=\"T_2e66a_row6_col3\" class=\"data row6 col3\" >8.700000</td>\n",
       "      <td id=\"T_2e66a_row6_col4\" class=\"data row6 col4\" >100.38%</td>\n",
       "    </tr>\n",
       "    <tr>\n",
       "      <th id=\"T_2e66a_level0_row7\" class=\"row_heading level0 row7\" >Neptune</th>\n",
       "      <td id=\"T_2e66a_row7_col0\" class=\"data row7 col0\" >4495.100000</td>\n",
       "      <td id=\"T_2e66a_row7_col1\" class=\"data row7 col1\" >102.000000</td>\n",
       "      <td id=\"T_2e66a_row7_col2\" class=\"data row7 col2\" >1638.000000</td>\n",
       "      <td id=\"T_2e66a_row7_col3\" class=\"data row7 col3\" >11.000000</td>\n",
       "      <td id=\"T_2e66a_row7_col4\" class=\"data row7 col4\" >56.49%</td>\n",
       "    </tr>\n",
       "  </tbody>\n",
       "</table>\n"
      ],
      "text/plain": [
       "<pandas.io.formats.style.Styler at 0x7f52ca87f760>"
      ]
     },
     "execution_count": 23,
     "metadata": {},
     "output_type": "execute_result"
    }
   ],
   "source": [
    "planets_friendly.style.format({\n",
    "    'distance_rel_change': '{:.2%}',\n",
    "})"
   ]
  },
  {
   "cell_type": "markdown",
   "id": "b4824a4f-2dfe-46a6-a5a8-aa1aa65f4201",
   "metadata": {},
   "source": [
    "Looks good!\n",
    "\n",
    "The above presentation of our data looks like a `DataFrame`, but formatted as we wanted. But – to avoid confusion – it's not actually a `DataFrame`. And so conventional `DataFrame` methods won't apply."
   ]
  },
  {
   "cell_type": "markdown",
   "id": "09fae218-fb64-4bbe-8911-1c4b43b599fb",
   "metadata": {},
   "source": [
    "## Renaming columns\n",
    "\n",
    "We can also rename columns, in this case also for clarity, and again making use of a `dict`."
   ]
  },
  {
   "cell_type": "code",
   "execution_count": 24,
   "id": "ca128460-d5ce-47cf-93a1-d040117d7085",
   "metadata": {},
   "outputs": [
    {
     "data": {
      "text/html": [
       "<style type=\"text/css\">\n",
       "</style>\n",
       "<table id=\"T_b8c9d\">\n",
       "  <thead>\n",
       "    <tr>\n",
       "      <th class=\"blank level0\" >&nbsp;</th>\n",
       "      <th id=\"T_b8c9d_level0_col0\" class=\"col_heading level0 col0\" >solar_distance_km_6</th>\n",
       "      <th id=\"T_b8c9d_level0_col1\" class=\"col_heading level0 col1\" >mass_kg_24</th>\n",
       "      <th id=\"T_b8c9d_level0_col2\" class=\"col_heading level0 col2\" >density_kg_m3</th>\n",
       "      <th id=\"T_b8c9d_level0_col3\" class=\"col_heading level0 col3\" >gravity_m_s2</th>\n",
       "      <th id=\"T_b8c9d_level0_col4\" class=\"col_heading level0 col4\" >distance relative change</th>\n",
       "    </tr>\n",
       "    <tr>\n",
       "      <th class=\"index_name level0\" >name</th>\n",
       "      <th class=\"blank col0\" >&nbsp;</th>\n",
       "      <th class=\"blank col1\" >&nbsp;</th>\n",
       "      <th class=\"blank col2\" >&nbsp;</th>\n",
       "      <th class=\"blank col3\" >&nbsp;</th>\n",
       "      <th class=\"blank col4\" >&nbsp;</th>\n",
       "    </tr>\n",
       "  </thead>\n",
       "  <tbody>\n",
       "    <tr>\n",
       "      <th id=\"T_b8c9d_level0_row0\" class=\"row_heading level0 row0\" >Mercury</th>\n",
       "      <td id=\"T_b8c9d_row0_col0\" class=\"data row0 col0\" >57.900000</td>\n",
       "      <td id=\"T_b8c9d_row0_col1\" class=\"data row0 col1\" >0.330000</td>\n",
       "      <td id=\"T_b8c9d_row0_col2\" class=\"data row0 col2\" >5427.000000</td>\n",
       "      <td id=\"T_b8c9d_row0_col3\" class=\"data row0 col3\" >3.700000</td>\n",
       "      <td id=\"T_b8c9d_row0_col4\" class=\"data row0 col4\" >nan%</td>\n",
       "    </tr>\n",
       "    <tr>\n",
       "      <th id=\"T_b8c9d_level0_row1\" class=\"row_heading level0 row1\" >Venus</th>\n",
       "      <td id=\"T_b8c9d_row1_col0\" class=\"data row1 col0\" >108.200000</td>\n",
       "      <td id=\"T_b8c9d_row1_col1\" class=\"data row1 col1\" >4.870000</td>\n",
       "      <td id=\"T_b8c9d_row1_col2\" class=\"data row1 col2\" >5243.000000</td>\n",
       "      <td id=\"T_b8c9d_row1_col3\" class=\"data row1 col3\" >8.900000</td>\n",
       "      <td id=\"T_b8c9d_row1_col4\" class=\"data row1 col4\" >86.87%</td>\n",
       "    </tr>\n",
       "    <tr>\n",
       "      <th id=\"T_b8c9d_level0_row2\" class=\"row_heading level0 row2\" >Earth</th>\n",
       "      <td id=\"T_b8c9d_row2_col0\" class=\"data row2 col0\" >149.600000</td>\n",
       "      <td id=\"T_b8c9d_row2_col1\" class=\"data row2 col1\" >5.970000</td>\n",
       "      <td id=\"T_b8c9d_row2_col2\" class=\"data row2 col2\" >5514.000000</td>\n",
       "      <td id=\"T_b8c9d_row2_col3\" class=\"data row2 col3\" >9.800000</td>\n",
       "      <td id=\"T_b8c9d_row2_col4\" class=\"data row2 col4\" >38.26%</td>\n",
       "    </tr>\n",
       "    <tr>\n",
       "      <th id=\"T_b8c9d_level0_row3\" class=\"row_heading level0 row3\" >Mars</th>\n",
       "      <td id=\"T_b8c9d_row3_col0\" class=\"data row3 col0\" >227.900000</td>\n",
       "      <td id=\"T_b8c9d_row3_col1\" class=\"data row3 col1\" >0.642000</td>\n",
       "      <td id=\"T_b8c9d_row3_col2\" class=\"data row3 col2\" >3933.000000</td>\n",
       "      <td id=\"T_b8c9d_row3_col3\" class=\"data row3 col3\" >3.700000</td>\n",
       "      <td id=\"T_b8c9d_row3_col4\" class=\"data row3 col4\" >52.34%</td>\n",
       "    </tr>\n",
       "    <tr>\n",
       "      <th id=\"T_b8c9d_level0_row4\" class=\"row_heading level0 row4\" >Jupiter</th>\n",
       "      <td id=\"T_b8c9d_row4_col0\" class=\"data row4 col0\" >778.600000</td>\n",
       "      <td id=\"T_b8c9d_row4_col1\" class=\"data row4 col1\" >1898.000000</td>\n",
       "      <td id=\"T_b8c9d_row4_col2\" class=\"data row4 col2\" >1326.000000</td>\n",
       "      <td id=\"T_b8c9d_row4_col3\" class=\"data row4 col3\" >23.100000</td>\n",
       "      <td id=\"T_b8c9d_row4_col4\" class=\"data row4 col4\" >241.64%</td>\n",
       "    </tr>\n",
       "    <tr>\n",
       "      <th id=\"T_b8c9d_level0_row5\" class=\"row_heading level0 row5\" >Saturn</th>\n",
       "      <td id=\"T_b8c9d_row5_col0\" class=\"data row5 col0\" >1433.500000</td>\n",
       "      <td id=\"T_b8c9d_row5_col1\" class=\"data row5 col1\" >568.000000</td>\n",
       "      <td id=\"T_b8c9d_row5_col2\" class=\"data row5 col2\" >687.000000</td>\n",
       "      <td id=\"T_b8c9d_row5_col3\" class=\"data row5 col3\" >9.000000</td>\n",
       "      <td id=\"T_b8c9d_row5_col4\" class=\"data row5 col4\" >84.11%</td>\n",
       "    </tr>\n",
       "    <tr>\n",
       "      <th id=\"T_b8c9d_level0_row6\" class=\"row_heading level0 row6\" >Uranus</th>\n",
       "      <td id=\"T_b8c9d_row6_col0\" class=\"data row6 col0\" >2872.500000</td>\n",
       "      <td id=\"T_b8c9d_row6_col1\" class=\"data row6 col1\" >86.800000</td>\n",
       "      <td id=\"T_b8c9d_row6_col2\" class=\"data row6 col2\" >1271.000000</td>\n",
       "      <td id=\"T_b8c9d_row6_col3\" class=\"data row6 col3\" >8.700000</td>\n",
       "      <td id=\"T_b8c9d_row6_col4\" class=\"data row6 col4\" >100.38%</td>\n",
       "    </tr>\n",
       "    <tr>\n",
       "      <th id=\"T_b8c9d_level0_row7\" class=\"row_heading level0 row7\" >Neptune</th>\n",
       "      <td id=\"T_b8c9d_row7_col0\" class=\"data row7 col0\" >4495.100000</td>\n",
       "      <td id=\"T_b8c9d_row7_col1\" class=\"data row7 col1\" >102.000000</td>\n",
       "      <td id=\"T_b8c9d_row7_col2\" class=\"data row7 col2\" >1638.000000</td>\n",
       "      <td id=\"T_b8c9d_row7_col3\" class=\"data row7 col3\" >11.000000</td>\n",
       "      <td id=\"T_b8c9d_row7_col4\" class=\"data row7 col4\" >56.49%</td>\n",
       "    </tr>\n",
       "  </tbody>\n",
       "</table>\n"
      ],
      "text/plain": [
       "<pandas.io.formats.style.Styler at 0x7f52c92f1ae0>"
      ]
     },
     "execution_count": 24,
     "metadata": {},
     "output_type": "execute_result"
    }
   ],
   "source": [
    "planets_friendly = planets_friendly.rename(\n",
    "    columns={\n",
    "        'distance_rel_change': 'distance relative change',\n",
    "    }\n",
    ")\n",
    "\n",
    "planets_friendly.style.format({\n",
    "    'distance relative change': '{:.2%}',\n",
    "})"
   ]
  },
  {
   "cell_type": "markdown",
   "id": "ee1a5e9b-fa80-4b3f-b62b-4d41a1182a29",
   "metadata": {},
   "source": [
    "Because we've added spaces to our column name, it's no longer valid in the syntax of Python, and so we can no longer refer to it as we have the other columns, such as `solar_distance_km_6`:"
   ]
  },
  {
   "cell_type": "code",
   "execution_count": 25,
   "id": "44bebf51-d46a-487a-977c-9030ede5027b",
   "metadata": {},
   "outputs": [
    {
     "data": {
      "text/plain": [
       "name\n",
       "Mercury      57.9\n",
       "Venus       108.2\n",
       "Earth       149.6\n",
       "Mars        227.9\n",
       "Jupiter     778.6\n",
       "Saturn     1433.5\n",
       "Uranus     2872.5\n",
       "Neptune    4495.1\n",
       "Name: solar_distance_km_6, dtype: float64"
      ]
     },
     "execution_count": 25,
     "metadata": {},
     "output_type": "execute_result"
    }
   ],
   "source": [
    "planets_friendly.solar_distance_km_6"
   ]
  },
  {
   "cell_type": "markdown",
   "id": "efd13790-1202-454c-8c36-537038a9075a",
   "metadata": {},
   "source": [
    "But, we can still refer to it using the alternate syntax mentioned above:"
   ]
  },
  {
   "cell_type": "code",
   "execution_count": 26,
   "id": "6f4b8454-a3d9-4a49-90f9-d98eab281e9d",
   "metadata": {},
   "outputs": [
    {
     "data": {
      "text/plain": [
       "name\n",
       "Mercury         NaN\n",
       "Venus      0.868739\n",
       "Earth      0.382625\n",
       "Mars       0.523396\n",
       "Jupiter    2.416411\n",
       "Saturn     0.841125\n",
       "Uranus     1.003837\n",
       "Neptune    0.564874\n",
       "Name: distance relative change, dtype: float64"
      ]
     },
     "execution_count": 26,
     "metadata": {},
     "output_type": "execute_result"
    }
   ],
   "source": [
    "planets_friendly['distance relative change']"
   ]
  },
  {
   "cell_type": "markdown",
   "id": "ad33a2f8-3c9f-433d-a167-c4aca1fc0f27",
   "metadata": {},
   "source": [
    "The data underlying our computed feature remains as it was, despite the styled presentation and renaming the column."
   ]
  },
  {
   "cell_type": "markdown",
   "id": "54efd03b-6f2e-4cbb-a74e-b8cc0c4905f6",
   "metadata": {},
   "source": [
    "## Dropping columns\n",
    "\n",
    "Finally, we can remove columns from a `DataFrame` with the `drop` method.\n",
    "\n",
    "Let's pretend that we added that last column in error.\n",
    "\n",
    "We can remove it – and any others we like – by specifying the column names in a `list` to this method. By default, `drop` constructs a new `DataFrame` with the specified columns removed."
   ]
  },
  {
   "cell_type": "code",
   "execution_count": 27,
   "id": "d606dc90-e5c7-47dc-a524-160cd9971057",
   "metadata": {},
   "outputs": [
    {
     "data": {
      "text/html": [
       "<div>\n",
       "<style scoped>\n",
       "    .dataframe tbody tr th:only-of-type {\n",
       "        vertical-align: middle;\n",
       "    }\n",
       "\n",
       "    .dataframe tbody tr th {\n",
       "        vertical-align: top;\n",
       "    }\n",
       "\n",
       "    .dataframe thead th {\n",
       "        text-align: right;\n",
       "    }\n",
       "</style>\n",
       "<table border=\"1\" class=\"dataframe\">\n",
       "  <thead>\n",
       "    <tr style=\"text-align: right;\">\n",
       "      <th></th>\n",
       "      <th>solar_distance_km_6</th>\n",
       "      <th>mass_kg_24</th>\n",
       "      <th>density_kg_m3</th>\n",
       "      <th>gravity_m_s2</th>\n",
       "    </tr>\n",
       "    <tr>\n",
       "      <th>name</th>\n",
       "      <th></th>\n",
       "      <th></th>\n",
       "      <th></th>\n",
       "      <th></th>\n",
       "    </tr>\n",
       "  </thead>\n",
       "  <tbody>\n",
       "    <tr>\n",
       "      <th>Mercury</th>\n",
       "      <td>57.9</td>\n",
       "      <td>0.330</td>\n",
       "      <td>5427.0</td>\n",
       "      <td>3.7</td>\n",
       "    </tr>\n",
       "    <tr>\n",
       "      <th>Venus</th>\n",
       "      <td>108.2</td>\n",
       "      <td>4.870</td>\n",
       "      <td>5243.0</td>\n",
       "      <td>8.9</td>\n",
       "    </tr>\n",
       "    <tr>\n",
       "      <th>Earth</th>\n",
       "      <td>149.6</td>\n",
       "      <td>5.970</td>\n",
       "      <td>5514.0</td>\n",
       "      <td>9.8</td>\n",
       "    </tr>\n",
       "    <tr>\n",
       "      <th>Mars</th>\n",
       "      <td>227.9</td>\n",
       "      <td>0.642</td>\n",
       "      <td>3933.0</td>\n",
       "      <td>3.7</td>\n",
       "    </tr>\n",
       "    <tr>\n",
       "      <th>Jupiter</th>\n",
       "      <td>778.6</td>\n",
       "      <td>1898.000</td>\n",
       "      <td>1326.0</td>\n",
       "      <td>23.1</td>\n",
       "    </tr>\n",
       "    <tr>\n",
       "      <th>Saturn</th>\n",
       "      <td>1433.5</td>\n",
       "      <td>568.000</td>\n",
       "      <td>687.0</td>\n",
       "      <td>9.0</td>\n",
       "    </tr>\n",
       "    <tr>\n",
       "      <th>Uranus</th>\n",
       "      <td>2872.5</td>\n",
       "      <td>86.800</td>\n",
       "      <td>1271.0</td>\n",
       "      <td>8.7</td>\n",
       "    </tr>\n",
       "    <tr>\n",
       "      <th>Neptune</th>\n",
       "      <td>4495.1</td>\n",
       "      <td>102.000</td>\n",
       "      <td>1638.0</td>\n",
       "      <td>11.0</td>\n",
       "    </tr>\n",
       "  </tbody>\n",
       "</table>\n",
       "</div>"
      ],
      "text/plain": [
       "         solar_distance_km_6  mass_kg_24  density_kg_m3  gravity_m_s2\n",
       "name                                                                 \n",
       "Mercury                 57.9       0.330         5427.0           3.7\n",
       "Venus                  108.2       4.870         5243.0           8.9\n",
       "Earth                  149.6       5.970         5514.0           9.8\n",
       "Mars                   227.9       0.642         3933.0           3.7\n",
       "Jupiter                778.6    1898.000         1326.0          23.1\n",
       "Saturn                1433.5     568.000          687.0           9.0\n",
       "Uranus                2872.5      86.800         1271.0           8.7\n",
       "Neptune               4495.1     102.000         1638.0          11.0"
      ]
     },
     "execution_count": 27,
     "metadata": {},
     "output_type": "execute_result"
    }
   ],
   "source": [
    "planets_friendly.drop(columns=['distance relative change'])"
   ]
  }
 ],
 "metadata": {
  "kernelspec": {
   "display_name": "Python 3 (ipykernel)",
   "language": "python",
   "name": "python3"
  },
  "language_info": {
   "codemirror_mode": {
    "name": "ipython",
    "version": 3
   },
   "file_extension": ".py",
   "mimetype": "text/x-python",
   "name": "python",
   "nbconvert_exporter": "python",
   "pygments_lexer": "ipython3",
   "version": "3.10.6"
  }
 },
 "nbformat": 4,
 "nbformat_minor": 5
}
